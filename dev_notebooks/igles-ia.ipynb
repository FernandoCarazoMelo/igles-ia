{
  "cells": [
    {
      "cell_type": "code",
      "execution_count": 1,
      "metadata": {},
      "outputs": [
        {
          "name": "stdout",
          "output_type": "stream",
          "text": [
            "Username: 1205a484-30f1-70a2-4200-5120ef85a5f0\n",
            "  email: alex.sopena.91@gmail.com\n",
            "  email_verified: true\n",
            "  name: Alex\n",
            "  sub: 1205a484-30f1-70a2-4200-5120ef85a5f0\n",
            "--------------------\n",
            "Username: a2456424-e051-7005-ede4-48c7c1d51259\n",
            "  email: fer@carazo.com\n",
            "  email_verified: false\n",
            "  name: Fer\n",
            "  sub: a2456424-e051-7005-ede4-48c7c1d51259\n",
            "--------------------\n",
            "Username: b2a5f4c4-d021-7038-6dfd-661548fbb50d\n",
            "  email: arrietaeguren@gmail.com\n",
            "  email_verified: true\n",
            "  name: Jarri\n",
            "  sub: b2a5f4c4-d021-7038-6dfd-661548fbb50d\n",
            "--------------------\n",
            "Username: c2355484-2021-70d5-4010-174e31953a1a\n",
            "  email: fernando.carazom@gmail.com\n",
            "  email_verified: true\n",
            "  name: Fernando\n",
            "  sub: c2355484-2021-70d5-4010-174e31953a1a\n",
            "--------------------\n",
            "Username: c275d4d4-50c1-703b-8346-a62500e880e2\n",
            "  email: mbrice@alumni.unav.es\n",
            "  email_verified: true\n",
            "  name: Maria \n",
            "  sub: c275d4d4-50c1-703b-8346-a62500e880e2\n",
            "--------------------\n"
          ]
        }
      ],
      "source": [
        "import boto3\n",
        "from dotenv import load_dotenv\n",
        "import os\n",
        "load_dotenv()\n",
        "\n",
        "USER_POOL_ID = os.getenv('USER_POOL_ID') \n",
        "\n",
        "# Reemplaza con tu User Pool ID\n",
        "\n",
        "# Crear cliente de Cognito\n",
        "client = boto3.client('cognito-idp')\n",
        "\n",
        "# Obtener lista de usuarios\n",
        "response = client.list_users(\n",
        "    UserPoolId=USER_POOL_ID,\n",
        "    Limit=60  # puedes ajustar este límite (máx 60 por llamada)\n",
        ")\n",
        "\n",
        "# Imprimir información de los usuarios\n",
        "for user in response['Users']:\n",
        "    print(f\"Username: {user['Username']}\")\n",
        "    for attr in user['Attributes']:\n",
        "        print(f\"  {attr['Name']}: {attr['Value']}\")\n",
        "    print(\"-\" * 20)\n"
      ]
    },
    {
      "cell_type": "code",
      "execution_count": null,
      "metadata": {},
      "outputs": [],
      "source": []
    },
    {
      "cell_type": "code",
      "execution_count": 2,
      "metadata": {},
      "outputs": [],
      "source": [
        "from dotenv import load_dotenv\n",
        "import os\n",
        "# Load environment variables from a .env file\n",
        "load_dotenv()\n",
        "# Get the value of the environment variable\n",
        "value = os.getenv(\"BREVO_TOKEN\")"
      ]
    },
    {
      "cell_type": "code",
      "execution_count": 40,
      "metadata": {},
      "outputs": [],
      "source": [
        "import brevo_python\n",
        "from brevo_python.rest import ApiException\n",
        "import pandas as pd\n",
        "\n",
        "def brevo_get_all_emails_and_names_and_save_csv():\n",
        "    \"\"\"\n",
        "    Fetches all emails from Brevo contacts, save them to a CSV file (nombre,email), and returns the list of emails\n",
        "    Returns:\n",
        "        list: A list of email addresses.\n",
        "    \"\"\"\n",
        "    configuration = brevo_python.Configuration()\n",
        "    configuration.api_key['api-key'] = os.getenv(\"BREVO_TOKEN\")\n",
        "\n",
        "    api_instance = brevo_python.ContactsApi(brevo_python.ApiClient(configuration))\n",
        "    try:\n",
        "        # Fetch all contacts\n",
        "        api_response = api_instance.get_contacts(limit=1000)\n",
        "        c = api_response.contacts\n",
        "        # Prepare data for CSV\n",
        "        data = pd.DataFrame({\"emails\": [x[\"email\"] for x in c], \"nombre\": [x[\"attributes\"][\"NOMBRE\"] for x in c]})\n",
        "    except ApiException as e:\n",
        "        print(f\"Exception when calling ContactsApi->get_contacts: {e}\")\n",
        "        return []\n",
        "    # Save to CSV\n",
        "    data.to_csv(\"brevo_contacts.csv\", index=False, encoding='utf-8')\n",
        "    # Return the list of emails\n",
        "    return data"
      ]
    },
    {
      "cell_type": "code",
      "execution_count": 41,
      "metadata": {},
      "outputs": [],
      "source": [
        "c = brevo_get_all_emails_and_names_and_save_csv()"
      ]
    },
    {
      "cell_type": "code",
      "execution_count": null,
      "metadata": {},
      "outputs": [
        {
          "data": {
            "application/vnd.microsoft.datawrangler.viewer.v0+json": {
              "columns": [
                {
                  "name": "index",
                  "rawType": "int64",
                  "type": "integer"
                },
                {
                  "name": "emails",
                  "rawType": "object",
                  "type": "string"
                },
                {
                  "name": "nombre",
                  "rawType": "object",
                  "type": "string"
                }
              ],
              "ref": "41afcd74-a62a-4e60-a341-12f5691e97b7",
              "rows": [
                [
                  "0",
                  "arrietaeguren@gmail.com",
                  "Jarri"
                ],
                [
                  "1",
                  "fernando.carazo@veeva.com",
                  "Fer"
                ],
                [
                  "2",
                  "fernando.carazom@gmail.com",
                  "fer"
                ]
              ],
              "shape": {
                "columns": 2,
                "rows": 3
              }
            },
            "text/html": [
              "<div>\n",
              "<style scoped>\n",
              "    .dataframe tbody tr th:only-of-type {\n",
              "        vertical-align: middle;\n",
              "    }\n",
              "\n",
              "    .dataframe tbody tr th {\n",
              "        vertical-align: top;\n",
              "    }\n",
              "\n",
              "    .dataframe thead th {\n",
              "        text-align: right;\n",
              "    }\n",
              "</style>\n",
              "<table border=\"1\" class=\"dataframe\">\n",
              "  <thead>\n",
              "    <tr style=\"text-align: right;\">\n",
              "      <th></th>\n",
              "      <th>emails</th>\n",
              "      <th>nombre</th>\n",
              "    </tr>\n",
              "  </thead>\n",
              "  <tbody>\n",
              "    <tr>\n",
              "      <th>0</th>\n",
              "      <td>arrietaeguren@gmail.com</td>\n",
              "      <td>Jarri</td>\n",
              "    </tr>\n",
              "    <tr>\n",
              "      <th>1</th>\n",
              "      <td>fernando.carazo@veeva.com</td>\n",
              "      <td>Fer</td>\n",
              "    </tr>\n",
              "    <tr>\n",
              "      <th>2</th>\n",
              "      <td>fernando.carazom@gmail.com</td>\n",
              "      <td>fer</td>\n",
              "    </tr>\n",
              "  </tbody>\n",
              "</table>\n",
              "</div>"
            ],
            "text/plain": [
              "                       emails nombre\n",
              "0     arrietaeguren@gmail.com  Jarri\n",
              "1   fernando.carazo@veeva.com    Fer\n",
              "2  fernando.carazom@gmail.com    fer"
            ]
          },
          "execution_count": 39,
          "metadata": {},
          "output_type": "execute_result"
        }
      ],
      "source": []
    },
    {
      "cell_type": "code",
      "execution_count": null,
      "metadata": {},
      "outputs": [
        {
          "name": "stdout",
          "output_type": "stream",
          "text": [
            "{'address': {'city': 'Pamplona',\n",
            "             'country': 'Spain',\n",
            "             'street': 'Casa',\n",
            "             'zip_code': '31001'},\n",
            " 'company_name': 'igles-ia',\n",
            " 'email': 'fernando.carazom@gmail.com',\n",
            " 'first_name': 'Fernando',\n",
            " 'last_name': 'C.',\n",
            " 'marketing_automation': None,\n",
            " 'plan': [{'credits': 298.0,\n",
            "           'credits_type': 'sendLimit',\n",
            "           'end_date': None,\n",
            "           'start_date': None,\n",
            "           'type': 'free',\n",
            "           'user_limit': None},\n",
            "          {'credits': 0.0,\n",
            "           'credits_type': 'sendLimit',\n",
            "           'end_date': None,\n",
            "           'start_date': None,\n",
            "           'type': 'sms',\n",
            "           'user_limit': None}],\n",
            " 'relay': {'data': {'port': 587,\n",
            "                    'relay': 'smtp-relay.brevo.com',\n",
            "                    'user_name': '8d844b001@smtp-brevo.com'},\n",
            "           'enabled': True}}\n"
          ]
        }
      ],
      "source": [
        "from __future__ import print_function\n",
        "import time\n",
        "import brevo_python\n",
        "from brevo_python.rest import ApiException\n",
        "from pprint import pprint\n",
        "\n",
        "# Configure API key authorization: api-key\n",
        "\n",
        "# Uncomment below to setup prefix (e.g. Bearer) for API key, if needed\n",
        "# configuration.api_key_prefix['api-key'] = 'Bearer'\n",
        "# Configure API key authorization: partner-key\n",
        "# configuration = brevo_python.Configuration()\n",
        "# configuration.api_key['partner-key'] = 'YOUR_API_KEY'\n",
        "# Uncomment below to setup prefix (e.g. Bearer) for API key, if needed\n",
        "# configuration.api_key_prefix['partner-key'] = 'Bearer'\n",
        "\n",
        "# create an instance of the API class\n",
        "api_instance = brevo_python.AccountApi(brevo_python.ApiClient(configuration))\n",
        "\n",
        "try:\n",
        "    # Get your account information, plan and credits details\n",
        "    api_response = api_instance.get_account()\n",
        "    pprint(api_response)\n",
        "except ApiException as e:\n",
        "    print(\"Exception when calling AccountApi->get_account: %s\\n\" % e)\n"
      ]
    },
    {
      "cell_type": "code",
      "execution_count": null,
      "metadata": {},
      "outputs": [
        {
          "data": {
            "text/plain": [
              "['arrietaeguren@gmail.com',\n",
              " 'fernando.carazo@veeva.com',\n",
              " 'fernando.carazom@gmail.com']"
            ]
          },
          "execution_count": 17,
          "metadata": {},
          "output_type": "execute_result"
        }
      ],
      "source": [
        "api_instance = brevo_python.ContactsApi(brevo_python.ApiClient(configuration))\n",
        "\n",
        "try:\n",
        "    # Get the list of contacts\n",
        "    api_response = api_instance.get_contacts()\n",
        "except ApiException as e:\n",
        "    print(\"Exception when calling ContactsApi->get_contacts: %s\\n\" % e)\n",
        "    \n",
        "api_response.contacts\n",
        "\n",
        "contact_list = api_response.contacts\n",
        "emails = [contact[\"email\"] for contact in contact_list]\n",
        "emails\n",
        "\n",
        "\n"
      ]
    },
    {
      "cell_type": "code",
      "execution_count": 4,
      "metadata": {
        "colab": {
          "base_uri": "https://localhost:8080/"
        },
        "id": "GjOvR5xFEFsq",
        "outputId": "3dda010b-9a56-4804-d196-0232c28a3b88"
      },
      "outputs": [],
      "source": [
        "from iglesia.utils import obtener_todos_los_textos\n",
        "from crewai import LLM\n",
        "\n",
        "LLM = LLM(\n",
        "    model=\"gpt-4.1-nano\",\n",
        "    temperature=0.2,\n",
        "    max_tokens=2000,\n",
        ")\n"
      ]
    },
    {
      "cell_type": "code",
      "execution_count": 4,
      "metadata": {},
      "outputs": [
        {
          "ename": "OSError",
          "evalue": "[Errno 63] File name too long: 'Resumen Semanal de Igles-IA:  \\nEsta semana destacamos la homilía del Papa León XIV en la celebración del V Domingo de Pascua, donde inicia su pontificado enfatizando que el liderazgo en la Iglesia debe fundamentarse en el amor y la humildad, siguiendo el ejemplo de Pedro. El Papa subraya que la misión de la Iglesia es promover la unidad, la fraternidad y la reconciliación en un mundo marcado por la discordia y la violencia, siendo un fermento de paz, justicia social y amor de Dios. La caridad y el servicio son el corazón del Evangelio y la base para construir una sociedad más humana y solidaria. Este mensaje invita a todos los cristianos a vivir con amor y compromiso en la misión de la Iglesia, siendo testigos de la presencia de Dios en el mundo.  \\n\\nEnlaces a las fuentes originales:  \\nhttps://www.vatican.va/content/leo-xiv/es/homilies/2025/documents/20250518-inizio-pontificato.html'",
          "output_type": "error",
          "traceback": [
            "\u001b[31m---------------------------------------------------------------------------\u001b[39m",
            "\u001b[31mOSError\u001b[39m                                   Traceback (most recent call last)",
            "\u001b[36mCell\u001b[39m\u001b[36m \u001b[39m\u001b[32mIn[4]\u001b[39m\u001b[32m, line 29\u001b[39m\n\u001b[32m     27\u001b[39m \u001b[38;5;28;01mwith\u001b[39;00m \u001b[38;5;28mopen\u001b[39m(\u001b[33m\"\u001b[39m\u001b[33m../summaries-local/2025-05-19/resumen_semanal_igles-ia.txt\u001b[39m\u001b[33m\"\u001b[39m, \u001b[33m\"\u001b[39m\u001b[33mr\u001b[39m\u001b[33m\"\u001b[39m, encoding=\u001b[33m\"\u001b[39m\u001b[33mutf-8\u001b[39m\u001b[33m\"\u001b[39m) \u001b[38;5;28;01mas\u001b[39;00m f:\n\u001b[32m     28\u001b[39m     resumen_txt = f.read()\n\u001b[32m---> \u001b[39m\u001b[32m29\u001b[39m     resumen_principal = \u001b[43mconvertir_txt_a_html\u001b[49m\u001b[43m(\u001b[49m\u001b[43mresumen_txt\u001b[49m\u001b[43m)\u001b[49m\n",
            "\u001b[36mCell\u001b[39m\u001b[36m \u001b[39m\u001b[32mIn[4]\u001b[39m\u001b[32m, line 5\u001b[39m, in \u001b[36mconvertir_txt_a_html\u001b[39m\u001b[34m(path_txt)\u001b[39m\n\u001b[32m      2\u001b[39m \u001b[38;5;28;01mdef\u001b[39;00m\u001b[38;5;250m \u001b[39m\u001b[34mconvertir_txt_a_html\u001b[39m(path_txt):\n\u001b[32m      3\u001b[39m     \u001b[38;5;28;01mimport\u001b[39;00m\u001b[38;5;250m \u001b[39m\u001b[34;01mre\u001b[39;00m\n\u001b[32m----> \u001b[39m\u001b[32m5\u001b[39m     \u001b[38;5;28;01mwith\u001b[39;00m \u001b[38;5;28;43mopen\u001b[39;49m\u001b[43m(\u001b[49m\u001b[43mpath_txt\u001b[49m\u001b[43m,\u001b[49m\u001b[43m \u001b[49m\u001b[33;43m\"\u001b[39;49m\u001b[33;43mr\u001b[39;49m\u001b[33;43m\"\u001b[39;49m\u001b[43m,\u001b[49m\u001b[43m \u001b[49m\u001b[43mencoding\u001b[49m\u001b[43m=\u001b[49m\u001b[33;43m\"\u001b[39;49m\u001b[33;43mutf-8\u001b[39;49m\u001b[33;43m\"\u001b[39;49m\u001b[43m)\u001b[49m \u001b[38;5;28;01mas\u001b[39;00m f:\n\u001b[32m      6\u001b[39m         raw_text = f.read()\n\u001b[32m      8\u001b[39m     \u001b[38;5;66;03m# Normalizar líneas: convertir todos los \\r\\n a \\n\u001b[39;00m\n",
            "\u001b[36mFile \u001b[39m\u001b[32m~/Documents/git-repos/carazo-lab/igles-ia/.venv/lib/python3.12/site-packages/IPython/core/interactiveshell.py:326\u001b[39m, in \u001b[36m_modified_open\u001b[39m\u001b[34m(file, *args, **kwargs)\u001b[39m\n\u001b[32m    319\u001b[39m \u001b[38;5;28;01mif\u001b[39;00m file \u001b[38;5;129;01min\u001b[39;00m {\u001b[32m0\u001b[39m, \u001b[32m1\u001b[39m, \u001b[32m2\u001b[39m}:\n\u001b[32m    320\u001b[39m     \u001b[38;5;28;01mraise\u001b[39;00m \u001b[38;5;167;01mValueError\u001b[39;00m(\n\u001b[32m    321\u001b[39m         \u001b[33mf\u001b[39m\u001b[33m\"\u001b[39m\u001b[33mIPython won\u001b[39m\u001b[33m'\u001b[39m\u001b[33mt let you open fd=\u001b[39m\u001b[38;5;132;01m{\u001b[39;00mfile\u001b[38;5;132;01m}\u001b[39;00m\u001b[33m by default \u001b[39m\u001b[33m\"\u001b[39m\n\u001b[32m    322\u001b[39m         \u001b[33m\"\u001b[39m\u001b[33mas it is likely to crash IPython. If you know what you are doing, \u001b[39m\u001b[33m\"\u001b[39m\n\u001b[32m    323\u001b[39m         \u001b[33m\"\u001b[39m\u001b[33myou can use builtins\u001b[39m\u001b[33m'\u001b[39m\u001b[33m open.\u001b[39m\u001b[33m\"\u001b[39m\n\u001b[32m    324\u001b[39m     )\n\u001b[32m--> \u001b[39m\u001b[32m326\u001b[39m \u001b[38;5;28;01mreturn\u001b[39;00m \u001b[43mio_open\u001b[49m\u001b[43m(\u001b[49m\u001b[43mfile\u001b[49m\u001b[43m,\u001b[49m\u001b[43m \u001b[49m\u001b[43m*\u001b[49m\u001b[43margs\u001b[49m\u001b[43m,\u001b[49m\u001b[43m \u001b[49m\u001b[43m*\u001b[49m\u001b[43m*\u001b[49m\u001b[43mkwargs\u001b[49m\u001b[43m)\u001b[49m\n",
            "\u001b[31mOSError\u001b[39m: [Errno 63] File name too long: 'Resumen Semanal de Igles-IA:  \\nEsta semana destacamos la homilía del Papa León XIV en la celebración del V Domingo de Pascua, donde inicia su pontificado enfatizando que el liderazgo en la Iglesia debe fundamentarse en el amor y la humildad, siguiendo el ejemplo de Pedro. El Papa subraya que la misión de la Iglesia es promover la unidad, la fraternidad y la reconciliación en un mundo marcado por la discordia y la violencia, siendo un fermento de paz, justicia social y amor de Dios. La caridad y el servicio son el corazón del Evangelio y la base para construir una sociedad más humana y solidaria. Este mensaje invita a todos los cristianos a vivir con amor y compromiso en la misión de la Iglesia, siendo testigos de la presencia de Dios en el mundo.  \\n\\nEnlaces a las fuentes originales:  \\nhttps://www.vatican.va/content/leo-xiv/es/homilies/2025/documents/20250518-inizio-pontificato.html'"
          ]
        }
      ],
      "source": [
        "import re\n",
        "def convertir_txt_a_html(path_txt):\n",
        "    import re\n",
        "\n",
        "    with open(path_txt, \"r\", encoding=\"utf-8\") as f:\n",
        "        raw_text = f.read()\n",
        "\n",
        "    # Normalizar líneas: convertir todos los \\r\\n a \\n\n",
        "    raw_text = raw_text.replace(\"\\r\\n\", \"\\n\")\n",
        "\n",
        "    # Dividir por bloques de texto separados por líneas vacías (aunque tengan espacios)\n",
        "    bloques = re.split(r'\\n\\s*\\n', raw_text.strip())\n",
        "\n",
        "    html = \"\"\n",
        "    for bloque in bloques:\n",
        "        # Convertir URLs planas en enlaces HTML clicables\n",
        "        bloque = re.sub(\n",
        "            r'(https?://[^\\s]+)',\n",
        "            r'<a href=\"\\1\" style=\"color:#003366; text-decoration:none;\" target=\"_blank\">\\1</a>',\n",
        "            bloque.strip()\n",
        "        )\n",
        "        html += f\"<p style='font-size:15px; color:#333;'>{bloque}</p>\\n\"\n",
        "\n",
        "    return html\n",
        "\n",
        "\n",
        "with open(\"../summaries-local/2025-05-19/resumen_semanal_igles-ia.txt\", \"r\", encoding=\"utf-8\") as f:\n",
        "    resumen_txt = f.read()\n",
        "    resumen_principal = convertir_txt_a_html(resumen_txt)"
      ]
    },
    {
      "cell_type": "code",
      "execution_count": 2,
      "metadata": {},
      "outputs": [
        {
          "name": "stdout",
          "output_type": "stream",
          "text": [
            "Resumen Semanal de Igles-IA:  \n",
            "Esta semana destacamos la homilía del Papa León XIV en la celebración del V Domingo de Pascua, donde inicia su pontificado enfatizando que el liderazgo en la Iglesia debe fundamentarse en el amor y la humildad, siguiendo el ejemplo de Pedro. El Papa subraya que la misión de la Iglesia es promover la unidad, la fraternidad y la reconciliación en un mundo marcado por la discordia y la violencia, siendo un fermento de paz, justicia social y amor de Dios. La caridad y el servicio son el corazón del Evangelio y la base para construir una sociedad más humana y solidaria. Este mensaje invita a todos los cristianos a vivir con amor y compromiso en la misión de la Iglesia, siendo testigos de la presencia de Dios en el mundo.  \n",
            "\n",
            "Enlaces a las fuentes originales:  \n",
            "https://www.vatican.va/content/leo-xiv/es/homilies/2025/documents/20250518-inizio-pontificato.html\n"
          ]
        }
      ],
      "source": [
        "print(resumen_txt)"
      ]
    },
    {
      "cell_type": "code",
      "execution_count": 3,
      "metadata": {},
      "outputs": [
        {
          "name": "stdout",
          "output_type": "stream",
          "text": [
            "<p style='font-size:15px; color:#333;'>Resumen Semanal de Igles-IA:   Esta semana destacamos la homilía del Papa León XIV en la celebración del V Domingo de Pascua, donde inicia su pontificado enfatizando que el liderazgo en la Iglesia debe fundamentarse en el amor y la humildad, siguiendo el ejemplo de Pedro. El Papa subraya que la misión de la Iglesia es promover la unidad, la fraternidad y la reconciliación en un mundo marcado por la discordia y la violencia, siendo un fermento de paz, justicia social y amor de Dios. La caridad y el servicio son el corazón del Evangelio y la base para construir una sociedad más humana y solidaria. Este mensaje invita a todos los cristianos a vivir con amor y compromiso en la misión de la Iglesia, siendo testigos de la presencia de Dios en el mundo.</p>\n",
            "<p style='font-size:15px; color:#333;'>Enlaces a las fuentes originales:   https://www.vatican.va/content/leo-xiv/es/homilies/2025/documents/20250518-inizio-pontificato.html</p>\n",
            "\n"
          ]
        }
      ],
      "source": [
        "print(resumen_principal)"
      ]
    },
    {
      "cell_type": "code",
      "execution_count": null,
      "metadata": {},
      "outputs": [],
      "source": [
        "#  quiero que si es lunes 18, te quedes con las filas desde el lunes 11 a domingo 17"
      ]
    },
    {
      "cell_type": "code",
      "execution_count": 7,
      "metadata": {},
      "outputs": [
        {
          "data": {
            "text/plain": [
              "Timestamp('2025-05-18 00:00:00')"
            ]
          },
          "execution_count": 7,
          "metadata": {},
          "output_type": "execute_result"
        }
      ],
      "source": [
        "pd.Timestamp('today').normalize()"
      ]
    },
    {
      "cell_type": "code",
      "execution_count": 6,
      "metadata": {},
      "outputs": [
        {
          "name": "stdout",
          "output_type": "stream",
          "text": [
            "Filtrando para la semana anterior al 2025-05-18 Sunday:\n",
            "        fecha  valor   fecha_dt\n",
            "1  2025-05-11      2 2025-05-11\n",
            "2  2025-05-17      3 2025-05-17\n"
          ]
        }
      ],
      "source": [
        "import pandas as pd\n",
        "\n",
        "# Asumimos que 'df' es tu DataFrame cargado y tiene una columna 'fecha'\n",
        "# Ejemplo de DataFrame:\n",
        "data = {\n",
        "    'fecha': ['2025-05-10', '2025-05-11', '2025-05-17', '2025-05-18', '2025-05-29'],\n",
        "    'valor': [1, 2, 3, 4, 5]\n",
        "}\n",
        "df = pd.DataFrame(data)\n",
        "\n",
        "# 1. Define el lunes actual (cuando se ejecuta el script)\n",
        "# Si el script se ejecuta el lunes 19, run_date sería el lunes 19.\n",
        "# Para simular que hoy es Lunes 19 de Mayo, 2025 (para este ejemplo):\n",
        "# run_date = pd.Timestamp('2025-05-19').normalize()\n",
        "# En tu script real, si se ejecuta un lunes, usarías:\n",
        "run_date = pd.Timestamp('today').normalize()\n",
        "\n",
        "\n",
        "# --- Lógica de filtrado en dos líneas ---\n",
        "# Línea 1: Convierte tu columna 'fecha' original a formato datetime.\n",
        "df['fecha_dt'] = pd.to_datetime(df['fecha'])\n",
        "\n",
        "# Línea 2: Filtra el DataFrame para obtener la semana anterior completa (Lunes a Domingo).\n",
        "# La semana anterior va desde (run_date - 7 días) hasta (run_date - 1 día), inclusive.\n",
        "# Usamos '< run_date' para incluir todo el día anterior (domingo) hasta las 23:59:59.\n",
        "df = df[(df['fecha_dt'] >= (run_date - pd.Timedelta(days=7))) & (df['fecha_dt'] < run_date)]\n",
        "# --- Fin de la lógica ---\n",
        "\n",
        "# Ahora 'df' contiene solo las filas desde el lunes anterior al domingo anterior.\n",
        "print(f\"Filtrando para la semana anterior al {run_date.strftime('%Y-%m-%d %A')}:\")\n",
        "print(df)"
      ]
    },
    {
      "cell_type": "code",
      "execution_count": null,
      "metadata": {},
      "outputs": [
        {
          "ename": "ModuleNotFoundError",
          "evalue": "No module named 'igles_ia'",
          "output_type": "error",
          "traceback": [
            "\u001b[31m---------------------------------------------------------------------------\u001b[39m",
            "\u001b[31mModuleNotFoundError\u001b[39m                       Traceback (most recent call last)",
            "\u001b[36mCell\u001b[39m\u001b[36m \u001b[39m\u001b[32mIn[3]\u001b[39m\u001b[32m, line 1\u001b[39m\n\u001b[32m----> \u001b[39m\u001b[32m1\u001b[39m \u001b[38;5;28;01mfrom\u001b[39;00m\u001b[38;5;250m \u001b[39m\u001b[34;01migles_ia\u001b[39;00m\u001b[34;01m.\u001b[39;00m\u001b[34;01mutils\u001b[39;00m\u001b[38;5;250m \u001b[39m\u001b[38;5;28;01mimport\u001b[39;00m obtener_todos_los_textos\n",
            "\u001b[31mModuleNotFoundError\u001b[39m: No module named 'igles_ia'"
          ]
        }
      ],
      "source": [
        "from iglesia.utils import obtener_todos_los_textos"
      ]
    },
    {
      "cell_type": "code",
      "execution_count": null,
      "metadata": {},
      "outputs": [
        {
          "data": {
            "application/vnd.microsoft.datawrangler.viewer.v0+json": {
              "columns": [
                {
                  "name": "index",
                  "rawType": "int64",
                  "type": "integer"
                },
                {
                  "name": "tipo",
                  "rawType": "object",
                  "type": "string"
                },
                {
                  "name": "fecha",
                  "rawType": "object",
                  "type": "string"
                },
                {
                  "name": "titulo",
                  "rawType": "object",
                  "type": "string"
                },
                {
                  "name": "url",
                  "rawType": "object",
                  "type": "string"
                },
                {
                  "name": "texto",
                  "rawType": "object",
                  "type": "string"
                },
                {
                  "name": "filename",
                  "rawType": "object",
                  "type": "string"
                }
              ],
              "conversionMethod": "pd.DataFrame",
              "ref": "c13f9d53-03d7-4b05-8bb3-c4372053e74e",
              "rows": [
                [
                  "0",
                  "Homilia",
                  "2025-05-18",
                  "V Domingo de Pascua – Celebración Eucarística por el inicio del ministerio petrino del obispo de Roma León XIV (18 de mayo de 2025)",
                  "https://www.vatican.va/content/leo-xiv/es/homilies/2025/documents/20250518-inizio-pontificato.html",
                  "CELEBRACIÓN EUCARÍSTICA CON MOTIVO DEL INICIO DEL MINISTERIO PETRINO DEL OBISPO DE ROMA LEÓN XIV\nHOMILÍA DE SU SANTIDAD EL PAPA LEÓN XIV\nPlaza de San Pedro Domingo 18 de mayo de 2025\n[ Multimedia ]\n___________________\nQueridos hermanos cardenales, hermanos en el episcopado y en el sacerdocio, distinguidas autoridades y miembros del Cuerpo diplomático, ¡Saludos a los peregrinos que han venido al Jubileo de las Cofradías! hermanos y hermanas:\nLos saludo a todos con el corazón lleno de gratitud, al inicio del ministerio que me ha sido confiado. Escribía san Agustín: «Nos has hecho para ti, [Señor,] y nuestro corazón está inquieto hasta que descanse en ti» ( Confesiones , 1,1.1).\nEn estos últimos días, hemos vivido un tiempo particularmente intenso. La muerte del Papa Francisco ha llenado de tristeza nuestros corazones y, en esas horas difíciles, nos hemos sentido como esas multitudes que el Evangelio describe «como ovejas que no tienen pastor» ( Mt 9,36). Precisamente en el día de Pascua recibimos su última bendición y, a la luz de la resurrección, afrontamos ese momento con la certeza de que el Señor nunca abandona a su pueblo, lo reúne cuando está disperso y lo cuida «como un pastor a su rebaño» ( Jr 31,10).\nCon este espíritu de fe, el Colegio de los cardenales se reunió para el cónclave; llegando con historias personales y caminos diferentes, hemos puesto en las manos de Dios el deseo de elegir al nuevo sucesor de Pedro, el Obispo de Roma, un pastor capaz de custodiar el rico patrimonio de la fe cristiana y, al mismo tiempo, de mirar más allá, para saber afrontar los interrogantes, las inquietudes y los desafíos de hoy. Acompañados por sus oraciones, hemos experimentado la obra del Espíritu Santo, que ha sabido armonizar los distintos instrumentos musicales, haciendo vibrar las cuerdas de nuestro corazón en una única melodía.\nFui elegido sin tener ningún mérito y, con temor y trepidación, vengo a ustedes como un hermano que quiere hacerse siervo de su fe y de su alegría, caminando con ustedes por el camino del amor de Dios, que nos quiere a todos unidos en una única familia.\nAmor y unidad : estas son las dos dimensiones de la misión que Jesús confió a Pedro.\nNos lo narra ese pasaje del Evangelio que nos conduce al lago de Tiberíades, el mismo donde Jesús había comenzado la misión recibida del Padre: “pescar” a la humanidad para salvarla de las aguas del mal y de la muerte. Pasando por la orilla de ese lago, había llamado a Pedro y a los primeros discípulos a ser como Él “pescadores de hombres”; y ahora, después de la resurrección, les corresponde precisamente a ellos llevar adelante esta misión: no dejar de lanzar la red para sumergir la esperanza del Evangelio en las aguas del mundo; navegar en el mar de la vida para que todos puedan reunirse en el abrazo de Dios.\n¿Cómo puede Pedro llevar a cabo esta tarea? El Evangelio nos dice que es posible sólo porque ha experimentado en su propia vida el amor infinito e incondicional de Dios, incluso en la hora del fracaso y la negación. Por eso, cuando es Jesús quien se dirige a Pedro, el Evangelio usa el verbo griego agapao —que se refiere al amor que Dios tiene por nosotros, a su entrega sin reservas ni cálculos—, diferente al verbo usado para la respuesta de Pedro, que en cambio describe el amor de amistad, que intercambiamos entre nosotros.\nCuando Jesús le pregunta a Pedro: «Simón, hijo de Juan, ¿me amas?» ( Jn 21,16), indica pues el amor del Padre. Es como si Jesús le dijera: sólo si has conocido y experimentado el amor de Dios, que nunca falla, podrás apacentar a mis corderos; sólo en el amor de Dios Padre podrás amar a tus hermanos “aún más”, es decir, hasta ofrecer la vida por ellos.\nA Pedro, pues, se le confía la tarea de “amar aún más” y de dar su vida por el rebaño. El ministerio de Pedro está marcado precisamente por este amor oblativo, porque la Iglesia de Roma preside en la caridad y su verdadera autoridad es la caridad de Cristo. No se trata nunca de atrapar a los demás con el sometimiento, con la propaganda religiosa o con los medios del poder, sino que se trata siempre y solamente de amar como lo hizo Jesús.\nÉl —afirma el mismo apóstol Pedro— «es la piedra que ustedes, los constructores, han rechazado, y ha llegado a ser la piedra angular» ( Hch 4,11). Y si la piedra es Cristo, Pedro debe apacentar el rebaño sin ceder nunca a la tentación de ser un líder solitario o un jefe que está por encima de los demás, haciéndose dueño de las personas que le han sido confiadas (cf. 1 P 5,3); por el contrario, a él se le pide servir a la fe de sus hermanos, caminando junto con ellos.  Todos, en efecto, hemos sido constituidos «piedras vivas» ( 1 P 2,5), llamados con nuestro Bautismo a construir el edificio de Dios en la comunión fraterna, en la armonía del Espíritu, en la convivencia de las diferencias. Como afirma san Agustín: «Todos los que viven en concordia con los hermanos y aman a sus prójimos son los que componen la Iglesia» ( Sermón 359,9).\nHermanos y hermanas, quisiera que este fuera nuestro primer gran deseo: una Iglesia unida, signo de unidad y comunión, que se convierta en fermento para un mundo reconciliado .\nEn nuestro tiempo, vemos aún demasiada discordia, demasiadas heridas causadas por el odio, la violencia, los prejuicios, el miedo a lo diferente, por un paradigma económico que explota los recursos de la tierra y margina a los más pobres. Y nosotros queremos ser, dentro de esta masa, una pequeña levadura de unidad, de comunión y de fraternidad. Nosotros queremos decirle al mundo, con humildad y alegría: ¡miren a Cristo! ¡Acérquense a Él! ¡Acojan su Palabra que ilumina y consuela! Escuchen su propuesta de amor para formar su única familia: en el único Cristo somos uno . Y esta es la vía que hemos de recorrer juntos, unidos entre nosotros, pero también con las Iglesias cristianas hermanas, con quienes transitan otros caminos religiosos, con aquellos que cultivan la inquietud de la búsqueda de Dios, con todas las mujeres y los hombres de buena voluntad, para construir un mundo nuevo donde reine la paz.\nEste es el espíritu misionero que debe animarnos, sin encerrarnos en nuestro pequeño grupo ni sentirnos superiores al mundo; estamos llamados a ofrecer el amor de Dios a todos, para que se realice esa unidad que no anula las diferencias, sino que valora la historia personal de cada uno y la cultura social y religiosa de cada pueblo.\nHermanos, hermanas, ¡esta es la hora del amor! La caridad de Dios, que nos hace hermanos entre nosotros, es el corazón del Evangelio. Con mi predecesor León XIII, hoy podemos preguntarnos: si esta caridad prevaleciera en el mundo, «¿no parece que acabaría por extinguirse bien pronto toda lucha allí donde ella entrara en vigor en la sociedad civil?» (Carta enc. Rerum novarum , 20).\nCon la luz y la fuerza del Espíritu Santo, construyamos una Iglesia fundada en el amor de Dios y signo de unidad, una Iglesia misionera, que abre los brazos al mundo, que anuncia la Palabra, que se deja cuestionar por la historia, y que se convierte en fermento de concordia para la humanidad.\nJuntos, como un solo pueblo, todos como hermanos, caminemos hacia Dios y amémonos los unos a los otros.",
                  "2025-05-18_homilia_v_domingo_de_pascua_–_celebración_eucarística_por_el_inicio_del_ministerio_petrino_del_obispo_de_roma_león_xiv_(18_de_mayo_de_2025).json"
                ],
                [
                  "1",
                  "Angelus",
                  "2025-05-18",
                  "Regina Caeli, 18 de mayo de 2025",
                  "https://www.vatican.va/content/leo-xiv/es/angelus/2025/documents/20250518-regina-caeli.html",
                  "PAPA LEÓN XIV\nSanta Misa de Inicio del Ministerio Petrino\nRegina Caeli al finalizar la Misa\nPlaza de San Pedro Domingo 18 de mayo de 2025\n[ Multimedia ]\n________________________________________\n\nAl final de esta celebración , los saludo y les doy las gracias a todos ustedes, romanos y fieles de tantas partes del mundo, que han querido participar.\nExpreso mi gratitud en particular a las Delegaciones oficiales de numerosos países, así como a los representantes de las Iglesias y Comunidades eclesiales y de otras religiones.\nDirijo un cordial saludo a los miles de peregrinos que han acudido de todos los continentes con ocasión del Jubileo de las Cofradías. Queridos hermanos, les agradezco que mantengan vivo el gran patrimonio de la piedad popular.\nDurante la Misa sentí fuertemente la presencia espiritual del Papa Francisco, que desde el cielo nos acompaña. En esta dimensión de comunión de los santos recuerdo que ayer en Chambéry, Francia, fue beatificado el sacerdote Camille Costa de Beauregard, que vivió entre finales del siglo XIX y principios del XX, testigo de una gran caridad pastoral.\nEn la alegría de la fe y de la comunión no podemos olvidarnos de los hermanos y hermanas que sufren a causa de las guerras. En Gaza, los niños, las familias y los ancianos supervivientes están pasando hambre. En Myanmar, nuevas hostilidades han destruido vidas inocentes. La atormentada Ucrania espera por fin negociaciones para una paz justa y duradera.\nPor eso, mientras encomendamos a María el servicio del Obispo de Roma, Pastor de la Iglesia universal, desde la “barca de Pedro” contemplémosla a ella, Estrella del mar, Madre del Buen Consejo, como signo de esperanza. Imploremos por su intercesión el don de la paz, el auxilio y el consuelo para los que sufren y, para todos nosotros, la gracia de ser testigos del Señor Resucitado.",
                  "2025-05-18_angelus_regina_caeli,_18_de_mayo_de_2025.json"
                ],
                [
                  "2",
                  "Discurso",
                  "2025-05-16",
                  "Al Cuerpo Diplomático (16 de mayo de 2025)",
                  "https://www.vatican.va/content/leo-xiv/es/speeches/2025/may/documents/20250516-corpo-diplomatico.html",
                  "AUDIENCIA AL CUERPO DIPLOMÁTICO ACREDITADO ANTE LA SANTA SEDE\nDISCURSO DEL SANTO PADRE LEÓN XIV\nSala Clementina Viernes, 16 de mayo de 2025\n[ Multimedia ]\n___________________________________\nEminencia, Excelencias, señoras y señores, la paz esté con ustedes:\nDoy gracias a S.E. el Sr. George Poulides, Embajador de la República de Chipre y Decano del Cuerpo Diplomático, por las cordiales palabras que me ha dirigido en nombre de todos ustedes y por su trabajo incansable, que lleva adelante con la fuerza, la pasión y la simpatía que lo caracterizan, dotes por los que ha merecido la estima de todos mis Predecesores, que ha conocido en estos años de misión ante la Santa Sede y, en particular, del recordado Papa Francisco.\nDeseo además expresarles mi gratitud por los numerosos mensajes de felicitación enviados luego de mi elección, así como por las precedentes condolencias que han llegado al fallecer el Papa Francisco , incluso de países con los que la Santa Sede no mantiene relaciones diplomáticas. Se trata de una significativa manifestación de estima, que alienta a profundizar las mutuas relaciones.\nEn nuestro diálogo, quisiera que predominase siempre el sentido de ser familia —la comunidad diplomática representa, en efecto, la entera familia de los pueblos—, que comparte las alegrías y los dolores de la vida junto con los valores humanos y espirituales que la animan. La diplomacia pontificia es, de hecho, una expresión de la misma catolicidad de la Iglesia y, en su acción diplomática, la Santa Sede está animada por una urgencia pastoral que la impulsa no a buscar privilegios sino a intensificar su misión evangélica al servicio de la humanidad. Ésta combate la indiferencia y apela continuamente a las conciencias, como ha hecho incansablemente mi venerado Predecesor, siempre atento al clamor de los pobres, los necesitados y los marginados, como también a los desafíos que caracterizan nuestro tiempo, desde la protección de la creación hasta la inteligencia artificial.\nAdemás de ser un signo concreto de la atención que sus países reservan a la Sede Apostólica, su presencia hoy es para mí un don, que permite renovar la aspiración de la Iglesia —y mía personal— de alcanzar y abrazar a cada pueblo y a cada persona de esta tierra, deseosa y necesitada de verdad, de justicia y de paz. En cierto sentido, mi propia experiencia de vida, desplegada entre América del Norte, América del Sur y Europa, pone de manifiesto esta aspiración de traspasar los confines para encontrarse con personas y culturas diferentes.\nPor medio del constante y paciente trabajo de la Secretaría de Estado, intento consolidar el conocimiento y el diálogo con ustedes y con sus países, muchos de los cuales he tenido ya la gracia de visitar a lo largo de mi vida, especialmente cuando fui Prior General de los Agustinos. Confío en que la Divina Providencia me conceda tener en el futuro ocasión de encontrarme con las realidades de las que ustedes provienen, permitiéndome acoger las oportunidades que se presenten para confirmar en la fe a tantos hermanos y hermanas dispersos por el mundo y construir nuevos puentes con todas las personas de buena voluntad.\nEn nuestro diálogo, quisiera que tuviéramos presente las tres palabras clave que constituyen los pilares de la acción misionera de la Iglesia y de la labor de la diplomacia de la Santa Sede.\nLa primera palabra es paz . Muchas veces la consideramos una palabra “negativa”, o sea, como mera ausencia de guerra o de conflicto, porque la contraposición es parte de la naturaleza humana y nos acompaña siempre, impulsándonos en demasiadas ocasiones a vivir en un constante “estado de conflicto”; en casa, en el trabajo, en la sociedad. La paz entonces pareciera una simple tregua, una pausa de descanso entre una discordia y otra, porque, aunque uno se esfuerce, las tensiones están siempre presentes, un poco como las brasas que arden bajo las cenizas, prontas a reavivarse en cualquier momento.\nEn la perspectiva cristiana —como también en la de otras experiencias religiosas— la paz es ante todo un don, el primer don de Cristo: «Les doy mi paz» ( Jn 14,27). Pero es un don activo, apasionante, que nos afecta y compromete a cada uno de nosotros, independientemente de la procedencia cultural y de la pertenencia religiosa, y que exige en primer lugar un trabajo sobre uno mismo. La paz se construye en el corazón y a partir del corazón, arrancando el orgullo y las reivindicaciones, y midiendo el lenguaje, porque también se puede herir y matar con las palabras, no sólo con las armas.\nEn esta óptica, considero fundamental el aporte que las religiones y el diálogo interreligioso pueden brindar para favorecer contextos de paz. Eso, naturalmente, exige el pleno respeto de la libertad religiosa en cada país, porque la experiencia religiosa es una dimensión fundamental de la persona humana, sin la cual es difícil —si no imposible— realizar esa purificación del corazón necesaria para construir relaciones de paz.\nA partir de este trabajo, que todos estamos llamados a realizar, se pueden extirpar las premisas de cualquier conflicto y de cualquier destructiva voluntad de conquista. Esto exige también una sincera voluntad de diálogo, animada por el deseo de encontrarse más que de confrontarse. En esta perspectiva es necesario revitalizar la diplomacia multilateral y esas instituciones internacionales que han sido queridas y pensadas en primer lugar para poner remedio a los conflictos que pudiesen surgir en el seno de la comunidad internacional. Ciertamente, es necesaria también la voluntad de dejar de producir instrumentos de destrucción y de muerte, porque, como recordaba el Papa Francisco en su último Mensaje Urbi et Orbi , «la paz tampoco es posible sin un verdadero desarme [ y] la exigencia que cada pueblo tiene de proveer a su propia defensa no puede transformarse en una carrera general al rearme» [1] .\nLa segunda palabra es justicia . Procurar la paz exige practicar la justicia. Como ya he tenido modo de señalar, he elegido mi nombre pensando principalmente en León XIII , el Papa de la primera gran encíclica social, la Rerum novarum . En el cambio de época que estamos viviendo, la Santa Sede no puede eximirse de hacer sentir su propia voz ante los numerosos desequilibrios y las injusticias que conducen, entre otras cosas, a condiciones indignas de trabajo y a sociedades cada vez más fragmentadas y conflictivas. Es necesario, además, esforzarse por remediar las desigualdades globales, que trazan surcos profundos de opulencia e indigencia entre continentes, países e, incluso, dentro de las mismas sociedades.\nEs tarea de quien tiene responsabilidad de gobierno aplicarse para construir sociedades civiles armónicas y pacíficas. Esto puede realizarse sobre todo invirtiendo en la familia, fundada sobre la unión estable entre el hombre y la mujer, «bien pequeña, es cierto, pero verdadera sociedad y más antigua que cualquiera otra» [2] . Además, nadie puede eximirse de favorecer contextos en los que se tutele la dignidad de cada persona, especialmente de aquellas más frágiles e indefensas, desde el niño por nacer hasta el anciano, desde el enfermo al desocupado, sean estos ciudadanos o inmigrantes.\nMi propia historia es la de un ciudadano, descendiente de inmigrantes, que a su vez ha emigrado. Cada uno de nosotros, en el curso de la vida, se puede encontrar sano o enfermo, ocupado o desocupado, en su patria o en tierra extranjera. Su dignidad, sin embargo, es siempre la misma, la de una creatura querida y amada por Dios.\nLa tercera palabra es verdad . No se pueden construir relaciones verdaderamente pacíficas, incluso dentro de la comunidad internacional, sin verdad. Allí donde las palabras asumen connotaciones ambiguas y ambivalentes, y el mundo virtual, con su percepción distorsionada de la realidad, prevalece sin control; es difícil construir relaciones auténticas, porque decaen las premisas objetivas y reales de la comunicación.\nPor su parte, la Iglesia no puede nunca eximirse de decir la verdad sobre el hombre y sobre el mundo, recurriendo a lo que sea necesario, incluso a un lenguaje franco, que inicialmente puede suscitar alguna incomprensión. La verdad, sin embargo, no se separa nunca de la caridad, que siempre tiene radicada la preocupación por la vida y el bien de cada hombre y mujer. Por otra parte, en la perspectiva cristiana, la verdad no es la afirmación de principios abstractos y desencarnados, sino el encuentro con la persona misma de Cristo, que vive en la comunidad de los creyentes. De ese modo, la verdad no nos aleja; por el contrario, nos permite afrontar con mayor vigor los desafíos de nuestro tiempo, como las migraciones, el uso ético de la inteligencia artificial y la protección de nuestra amada tierra. Son desafíos que requieren el compromiso y la colaboración de todos, porque nadie puede pensar en afrontarlos solo.\nQueridos embajadores:\nMi ministerio comienza en el corazón del Año jubilar, dedicado de manera particular a la esperanza. Es un tiempo de conversión y de renovación, y sobre todo la ocasión para dejar atrás las contiendas y comenzar un camino nuevo, animados por la esperanza de poder construir, trabajando juntos, cada uno según sus propias sensibilidades y responsabilidades, un mundo en el que cada uno de nosotros pueda realizar la propia humanidad en la verdad, en la justicia y en la paz. Espero que esto pueda suceder en todos los contextos, empezando por los más que más sufren, como Ucrania y Tierra Santa.\nLes agradezco todo el trabajo que hacen para construir puentes entre sus países y la Santa Sede, y de todo corazón los bendigo, bendigo a sus familias y a sus pueblos. Gracias.\n[Bendición]\nY gracias por todo el trabajo que hacen.\n________________________________\n[1] Mensaje «Urbi et Orbi» (20 abril 2025).\n[2] León XIII, Carta enc. Rerum novarum (15 mayo 1891), 9.",
                  "2025-05-16_discurso_al_cuerpo_diplomático_(16_de_mayo_de_2025).json"
                ],
                [
                  "3",
                  "Discurso",
                  "2025-05-15",
                  "A los Hermanos de las Escuelas Cristianas (15 de mayo de 2025)",
                  "https://www.vatican.va/content/leo-xiv/es/speeches/2025/may/documents/20250515-fratelli-scuole-cristiane.html",
                  "DISCURSO DEL SANTO PADRE LEÓN XIV A LOS HERMANOS DE LAS ESCUELAS CRISTIANAS\nJueves, 15 de mayo de 2025\n[ Multimedia ]\n___________________________________\nEn el nombre del Padre, del Hijo y del Espíritu Santo, ¡la paz esté con ustedes!\nEminencia,\nqueridos hermanos y hermanas, ¡bienvenidos!\nMe alegra mucho recibirlos en el tercer centenario de la promulgación de la bula In apostolicae dignitatis solio , con la que el Papa Benedicto XIII aprobó su Instituto y su Regla (26 de enero de 1725). Coincide también con el 75º aniversario de la proclamación, por parte del Papa Pío XII , de San Juan Bautista de La Salle como «Patrono celestial de todos los educadores» (cf. Lett. Ap. Quod ait , 15 de mayo de 1950: AAS 12, 1950, 631-632).\nDespués de tres siglos, es hermoso constatar cómo su presencia sigue trayendo consigo la frescura de una rica y vasta realidad educativa, con la que aún hoy, en diversas partes del mundo, con entusiasmo, fidelidad y espíritu de sacrificio, se dedican a la formación de los jóvenes.\nPrecisamente a la luz de estas conmemoraciones, quisiera detenerme a reflexionar con ustedes sobre dos aspectos de su historia que considero importantes para todos nosotros: la atención a la actualidad y la dimensión ministerial y misionera de la enseñanza en la comunidad.\nLos inicios de su obra hablan mucho de «actualidad». San Juan Bautista de La Salle comenzó respondiendo a la petición de ayuda de un laico, Adriano Nyel, que luchaba por mantener en pie sus «escuelas para pobres». Su fundador reconoció en su petición de ayuda una señal de Dios, aceptó el reto y se puso manos a la obra. Así, más allá de sus propias intenciones y expectativas, dio vida a un nuevo sistema de enseñanza: el de las Escuelas Cristianas , gratuitas y abiertas a todos. Entre los elementos innovadores que introdujo en esta revolución pedagógica, recordamos la enseñanza dirigida a las clases y no a los alumnos individuales; la adopción, como lengua de enseñanza, en lugar del latín, del francés, accesible a todos; las clases dominicales, a las que también podían asistir los jóvenes obligados a trabajar entre semana; la participación de las familias en los itinerarios escolares, según el principio del «triángulo educativo», válido aún hoy. Así, los problemas, a medida que se presentaban, en lugar de desanimarlo, lo estimulaban a buscar respuestas creativas y a adentrarse en caminos nuevos y a menudo inexplorados.\nTodo esto no puede sino hacernos pensar y suscitar en nosotros preguntas útiles. ¿Cuáles son, en el mundo juvenil de nuestros días, los retos más urgentes que hay que afrontar? ¿Qué valores hay que promover? ¿Con qué recursos se puede contar?\nLos jóvenes de nuestro tiempo, como los de todas las épocas, son volcanes de vida, de energía, de sentimientos, de ideas. Lo vemos en las cosas maravillosas que saben hacer en tantos campos. Pero también necesitan ayuda para hacer crecer en armonía tanta riqueza y para superar lo que, aunque de manera diferente al pasado, todavía puede impedir su sano desarrollo.\nSi, por ejemplo, en el siglo XVII el uso de la lengua latina era para muchos una barrera comunicativa insuperable, hoy hay otros obstáculos que afrontar. Pensemos en el aislamiento que provocan los modelos relacionales cada vez más extendidos, basados en la superficialidad, el individualismo y la inestabilidad afectiva; en la difusión de esquemas de pensamiento debilitados por el relativismo; en el predominio de ritmos y estilos de vida en los que no hay suficiente espacio para la escucha, la reflexión y el diálogo, en la escuela, en la familia, a veces entre los propios compañeros, con la soledad que ello conlleva.\nSe trata de retos exigentes, de los que, sin embargo, también nosotros, como San Juan Bautista de La Salle, podemos hacer trampolines para explorar caminos, elaborar instrumentos y adoptar lenguajes nuevos, con los que seguir tocando el corazón de los alumnos, animándolos y estimulándolos a afrontar con valentía todos los obstáculos para dar lo mejor de sí mismos en la vida, según los designios de Dios. En este sentido, es loable la atención que prestan en sus escuelas a la formación de los docentes y a la creación de comunidades educativas en las que el esfuerzo didáctico se enriquece con la aportación de todos. Los animo a continuar por este camino.\nPero antes de concluir, quisiera mencionar otro aspecto de la realidad lasaliana que considero importante: la docencia vivida como ministerio y misión , como consagración en la Iglesia. San Juan Bautista de La Salle no quería que entre los maestros de las Escuelas Cristianas hubiera sacerdotes, sino solo «hermanos», para que todos sus esfuerzos se dirigieran, con la ayuda de Dios, a la educación de los alumnos. Le gustaba decir: «Su altar es la cátedra», promoviendo así en la Iglesia de su tiempo una realidad hasta entonces desconocida: la de los maestros y catequistas laicos investidos, en la comunidad, de un verdadero «ministerio», según el principio de evangelizar educando y educar evangelizando (cf. Francisco, Discurso a los participantes en el Capítulo General de los Hermanos de las Escuelas Cristianas , 21 de mayo de 2022).\nAsí, el carisma de la escuela, que ustedes abrazan con el cuarto voto de la enseñanza, además de un servicio a la sociedad y una valiosa obra de caridad, aparece aún hoy como una de las expresiones más bellas y elocuentes de ese munus sacerdotal, profético y real que todos hemos recibido en el Bautismo, como subrayan los documentos del Concilio Vaticano II . En sus realidades educativas, así, los religiosos hacen proféticamente visible, a través de su consagración, el ministerio bautismal que impulsa a todos (cf. Const. dogm. Lumen gentium, 44 ), cada uno según su estado y sus tareas, sin diferencias, a «contribuir como miembros vivos […] al crecimiento de la Iglesia y a su santificación permanente» ( ibídem , 33 ).\nPor este motivo, deseo que las vocaciones a la consagración religiosa lasaliana crezcan, sean alentadas y promovidas, en sus escuelas y fuera de ellas, y que, en sinergia con todos los demás componentes formativos, contribuyan a suscitar entre los jóvenes que las frecuentan caminos alegres y fecundos de santidad.\n¡Gracias por lo que hacen! Rezo por ustedes y les imparto la Bendición Apostólica, que de muy buen grado extiendo a toda la Familia Lasaliana. _______________________________________ Boletín de la Oficina de Prensa de la Santa Sede , 15 de mayo de 2025",
                  "2025-05-15_discurso_a_los_hermanos_de_las_escuelas_cristianas_(15_de_mayo_de_2025).json"
                ],
                [
                  "4",
                  "Discurso",
                  "2025-05-14",
                  "A los participantes en el Jubileo de las Iglesias Orientales (14 de mayo de 2025)",
                  "https://www.vatican.va/content/leo-xiv/es/speeches/2025/may/documents/20250514-giubileo-chiese-orientali.html",
                  "DISCURSO DEL SANTO PADRE LEÓN XIV A LOS PARTICIPANTES EN EL JUBILEO DE LAS IGLESIAS ORIENTALES\nAula Pablo VI Miércoles, 14 de mayo de 2025\n[ Multimedia ]\n___________________________________\nEn el nombre del Padre y del Hijo y del Espíritu Santo, ¡la paz esté con ustedes!\nBeatitudes, Eminencias, Excelencias, queridos sacerdotes, consagradas y consagrados, hermanos y hermanas,\nCristo ha resucitado. ¡Ha resucitado verdaderamente! Los saludo con las palabras que, en muchas regiones, el Oriente cristiano no se cansa de repetir en este tiempo pascual, profesando el núcleo central de la fe y de la esperanza. Y es hermoso verlos aquí precisamente con motivo del Jubileo de la esperanza, de la que la resurrección de Jesús es el fundamento indestructible. ¡Bienvenidos a Roma! Me alegra encontrarme con ustedes y dedicar a los fieles orientales uno de los primeros encuentros de mi pontificado.\nUstedes son valiosos. Al mirarlos, pienso en la variedad de sus procedencias, en la historia gloriosa y en los duros sufrimientos que muchas de sus comunidades han padecido o padecen. Y quisiera reiterar lo que dijo el papa Francisco sobre las Iglesias orientales: «Son Iglesias que deben ser amadas: custodian tradiciones espirituales y sapienciales únicas, y tienen tanto que decirnos sobre la vida cristiana, la sinodalidad y la liturgia; piensen en los Padres antiguos, en los Concilios, en el monacato: tesoros inestimables para la Iglesia» ( Discurso a los participantes en la Asamblea de la ROACO, 27 de junio de 2024 ).\nDeseo citar también al Papa León XIII , que fue el primero en dedicar un documento específico a la dignidad de sus Iglesias, dada ante todo por el hecho de que «la obra de la redención humana comenzó en Oriente» (cf. Lett. ap. Orientalium dignitas , 30 de noviembre de 1894 ). Sí, ustedes tienen «un papel único y privilegiado, por ser el marco originario de la Iglesia primitiva» (San Juan Pablo II, Carta. ap. Orientale Lumen , 5). Es significativo que algunas de sus liturgias —que estos días están celebrando solemnemente en Roma según las diversas tradiciones— sigan utilizando la lengua del Señor Jesús. Pero el papa León XIII hizo un sentido llamamiento para que «la legítima variedad de la liturgia y la disciplina oriental [...] redunde en [...] gran decoro y utilidad de la Iglesia» ( Lett. ap. Orientalium dignitas ). Su preocupación de entonces es muy actual, porque en nuestros días muchos hermanos y hermanas orientales, entre los que se encuentran varios de ustedes, obligados a huir de sus territorios de origen a causa de la guerra y las persecuciones, de la inestabilidad y de la pobreza, corren el riesgo, al llegar a Occidente, de perder, además de su patria, también su identidad religiosa. Así, con el paso de las generaciones, se pierde el patrimonio inestimable de las Iglesias orientales.\nHace más de un siglo, León XIII señaló que «la conservación de los ritos orientales es más importante de lo que se cree» y, con este fin, prescribió incluso que «cualquier misionero latino, del clero secular o regular, que con consejos o ayudas atraiga a algún oriental al rito latino» sea «destituido y excluido de su cargo» ( ibíd . ). Acogemos el llamamiento a custodiar y promover el Oriente cristiano, sobre todo en la diáspora; aquí, además de erigir, donde sea posible y oportuno, circunscripciones orientales, es necesario sensibilizar a los latinos. En este sentido, pido al Dicasterio para las Iglesias Orientales , al que agradezco su trabajo, que me ayude a definir principios, normas, y directrices a través de los cuales los pastores latinos puedan apoyar concretamente a los católicos orientales de la diáspora, y a preservar sus tradiciones vivas y a enriquecer con su especificidad el contexto en el que viven.\nLa Iglesia los necesita. ¡Cuán grande es la contribución que el Oriente cristiano puede darnos hoy! ¡Cuánta necesidad tenemos de recuperar el sentido del misterio, tan vivo en sus liturgias, que involucran a la persona humana en su totalidad, cantan la belleza de la salvación y suscitan asombro por la grandeza divina que abraza la pequeñez humana! ¡Y cuán importante es redescubrir, también en el Occidente cristiano, el sentido del primado de Dios, el valor de la mistagogia, de la intercesión incesante, de la penitencia, del ayuno, del llanto por los propios pecados y de toda la humanidad ( penthos ), tan típicos de las espiritualidades orientales! Por eso es fundamental custodiar sus tradiciones sin diluirlas, tal vez por practicidad y comodidad, para que no se corrompan por un espíritu consumista y utilitarista.\nSus espiritualidades, antiguas y siempre nuevas, son medicinales. En ellas, el sentido dramático de la miseria humana se funde con el asombro por la misericordia divina, de modo que nuestras bajezas no provocan desesperación, sino que invitan a acoger la gracia de ser criaturas sanadas, divinizadas y elevadas a las alturas celestiales. Necesitamos alabar y dar gracias sin cesar al Señor por esto. Con ustedes podemos rezar las palabras de San Efrén el sirio y decir a Jesús: «Gloria a ti, que hiciste de tu cruz un puente sobre la muerte. […] Gloria a ti, que te revestiste del cuerpo mortal y lo transformaste en fuente de vida para todos los mortales» ( Discurso sobre el Señor , 9). Es un don que hay que pedir: saber ver la certeza de la Pascua en cada tribulación de la vida y no desanimarnos recordando, como escribía otro gran padre oriental, que «el mayor pecado es no creer en las energías de la Resurrección» (San Isaac de Nínive, Sermones ascéticos , I, 5).\n¿Quién, pues, más que ustedes, puede cantar palabras de esperanza en el abismo de la violencia? ¿Quién más que ustedes, que conocen de cerca los horrores de la guerra, hasta el punto de que el Papa Francisco llamó a sus Iglesias «martiriales» ( Discurso a la ROACO , cit.)? Es cierto: desde Tierra Santa hasta Ucrania, desde el Líbano hasta Siria, desde Oriente Medio hasta Tigray y el Cáucaso, ¡cuánta violencia! Y sobre todo este horror, sobre la masacre de tantas vidas jóvenes, que deberían provocar indignación, porque, en nombre de la conquista militar, son personas las que mueren, se alza un llamamiento: no tanto el del Papa, sino el de Cristo, que repite: «¡La paz esté con ustedes!» ( Jn 20,19.21.26). Y especifica: «Les dejo la paz, les doy mi paz. No como la da el mundo, yo se la doy a ustedes» ( Jn 14,27). La paz de Cristo no es el silencio sepulcral después del conflicto, no es el resultado de la opresión, sino un don que mira a las personas y reactiva su vida. Recemos por esta paz, que es reconciliación, perdón, valentía para pasar página y volver a comenzar.\nPara que esta paz se difunda, yo emplearé todos mis esfuerzos. La Santa Sede está a disposición para que los enemigos se encuentren y se miren a los ojos, para que a los pueblos se les devuelva la esperanza y se les restituya la dignidad que merecen, la dignidad de la paz. Los pueblos quieren la paz y yo, con el corazón en la mano, digo a los responsables de los pueblos: ¡encontremos, dialoguemos, negociemos! La guerra nunca es inevitable, las armas pueden y deben callar, porque no resuelven los problemas, sino que los aumentan; porque pasarán a la historia quienes siembran la paz, no quienes cosechan víctimas; porque los demás no son ante todo enemigos, sino seres humanos: no son malos a quienes odiar, sino personas con quienes hablar. Rechacemos las visiones maniqueas típicas de los relatos violentos, que dividen el mundo entre buenos y malos.\nLa Iglesia no se cansará de repetirlo: que callen las armas. Y quiero dar gracias a Dios por todos aquellos que, en el silencio, en la oración, en la entrega, tejen tramas de paz ; y a los cristianos —orientales y latinos— que, especialmente en Oriente Medio, perseveran y resisten en sus tierras, más fuertes que la tentación de abandonarlas. A los cristianos hay que darles la posibilidad, no solo con palabras, de permanecer en sus tierras con todos los derechos necesarios para una existencia segura. ¡Les ruego que se comprometan por esto!\nY gracias, gracias a ustedes, queridos hermanos y hermanas de Oriente, de donde surgió Jesús, el Sol de justicia, por ser «luces del mundo» (cf. Mt 5,14). Sigan brillando por la fe, la esperanza y la caridad, y por nada más. Que sus Iglesias sean un ejemplo, y que los pastores promuevan con rectitud la comunión, sobre todo en los Sínodos de los Obispos, para que sean lugares de colegialidad y de auténtica corresponsabilidad. Cuiden la transparencia en la gestión de los bienes, den testimonio de una dedicación humilde y total al santo pueblo de Dios, sin apegos a los honores, a los poderes del mundo y a la propia imagen. San Simeón el Nuevo Teólogo daba un bello ejemplo: «Como quien, echando polvo sobre la llama de un horno encendido, la apaga, del mismo modo las preocupaciones de esta vida y todo tipo de apego a cosas mezquinas y sin valor destruyen el calor del corazón encendido al principio» ( Capítulos prácticos y teológicos , 63). El esplendor del Oriente cristiano pide, hoy más que nunca, libertad de toda dependencia mundana y de toda tendencia contraria a la comunión, para ser fieles en la obediencia y en el testimonio evangélicos.\nLes doy las gracias por esto y les bendigo de corazón, pidiéndoles que recen por la Iglesia y que eleven sus poderosas oraciones de intercesión por mi ministerio. ¡Gracias! ______________________________________\nBoletín de la Oficina de Prensa de la Santa Sede , 14 de mayo de 2025",
                  "2025-05-14_discurso_a_los_participantes_en_el_jubileo_de_las_iglesias_orientales_(14_de_mayo_de_2025).json"
                ],
                [
                  "5",
                  "Discurso",
                  "2025-05-12",
                  "Audiencia del Santo Padre León XIV a los representantes de los medios de comunicación  (12 de mayo de 2025)",
                  "https://www.vatican.va/content/leo-xiv/es/speeches/2025/may/documents/20250512-media.html",
                  "DISCURSO DEL SANTO PADRE LEÓN XIV A LOS REPRESENTANTES DE LOS MEDIOS DE COMUNICACIÓN\nAula Pablo VI Lunes, 12 de mayo de 2025\n[ Multimedia ]\n___________________________________\n\nBuenos días, y muchas gracias por esta maravillosa acogida. Dicen que cuando se aplaude al comenzar, no tiene mucha importancia. Pero, si están todavía despiertos al finalizar y aún quieren aplaudir, se lo agradezco mucho.\nHermanos y hermanas:\nLes doy la bienvenida a ustedes, representantes de los medios de comunicación de todo el mundo. Les agradezco el trabajo que han hecho y están haciendo en este tiempo, que para la Iglesia es esencialmente un tiempo de gracia.\nEn el “Sermón de la montaña” Jesús proclamó: «Felices los que trabajan por la paz» ( Mt 5,9). Se trata de una bienaventuranza que nos desafía a todos y que nos toca de cerca, llamando a cada uno a comprometerse en la realización de un tipo de comunicación diferente, que no busca el consenso a cualquier coste, no se reviste de palabras agresivas, no asume el modelo de la competición, no separa nunca la investigación de la verdad del amor con el que humildemente debemos buscarla. La paz comienza por cada uno de nosotros, por el modo en el que miramos a los demás, escuchamos a los demás, hablamos de los demás; y, en este sentido, el modo en que comunicamos tiene una importancia fundamental; debemos decir “no” a la guerra de las palabras y de las imágenes, debemos rechazar el paradigma de la guerra.\nPermítanme entonces reiterar hoy la solidaridad de la Iglesia con los periodistas encarcelados por haber intentado contar la verdad, y por medio de estas palabras también pedir la liberación de los mismos. La Iglesia reconoce en estos testigos —pienso en aquellos que informan sobre la guerra incluso a costa de la vida— la valentía de quien defiende la dignidad, la justicia y el derecho de los pueblos a estar informados, porque sólo los pueblos informados pueden tomar decisiones con libertad. El sufrimiento de estos periodistas detenidos interpela la conciencia de las naciones y de la comunidad internacional, pidiéndonos a todos que custodiemos el bien precioso de la libertad de expresión y de prensa.\nGracias, queridos amigos, por su servicio a la verdad. Ustedes han estado en Roma durante estas semanas para informar sobre la Iglesia, su diversidad y, junto a ella, su unidad. Han acompañado los ritos de la Semana Santa, después han trasmitido el dolor por la muerte del Papa Francisco, acaecida sin embargo a la luz de la Pascua. Esa misma fe pascual nos ha introducido en el espíritu del cónclave, que les ha visto particularmente comprometidos en jornadas fatigosas y, también en esta ocasión, han conseguido comunicar la belleza del amor de Cristo que nos une a todos y nos hace ser un único pueblo, guiado por el Buen Pastor.\nVivimos tiempos difíciles de atravesar y describir, que representan un desafío para todos nosotros, de los que no debemos escapar. Por el contrario, nos piden a cada uno que, en nuestras distintas responsabilidades y servicios, no cedamos nunca a la mediocridad. La Iglesia debe aceptar el desafío del tiempo y, del mismo modo, no pueden existir una comunicación y un periodismo fuera del tiempo y de la historia. Como nos recuerda san Agustín, que decía: «Vivamos bien, y serán buenos los tiempos. Los tiempos somos nosotros» ( Sermón 80,8).\nGracias, por todo lo que han hecho para abandonar los estereotipos y los lugares comunes, a través de los cuales leemos frecuentemente la vida cristiana y la misma vida de la Iglesia. Gracias, porque han conseguido percibir lo esencial de lo que somos y trasmitirlo al mundo entero gracias a los distintos medios de comunicación.\nHoy, uno de los desafíos más importantes es el de promover una comunicación capaz de hacernos salir de la “torre de Babel” en la que a veces nos encontramos, de la confusión de lenguajes sin amor, frecuentemente ideológicos y facciosos. Por eso, su servicio, con las palabras que usan y el estilo que adoptan, es importante. La comunicación, de hecho, no es sólo trasmisión de informaciones, sino creación de una cultura, de ambientes humanos y digitales que sean espacios de diálogo y de contraste. Y, considerando la evolución tecnológica, esta misión se hace más necesaria aún. Pienso, particularmente, en la inteligencia artificial con su potencial inmenso, que requiere, sin embargo, responsabilidad y discernimiento para orientar los instrumentos al bien de todos, de modo que puedan producir beneficios para la humanidad. Y esta responsabilidad nos concierne a todos, de acuerdo a la edad y a los roles sociales.\nQueridos amigos, aprenderemos con el tiempo a conocernos mejor. Hemos vivido —podemos decir juntos— días verdaderamente especiales. Los hemos, los han compartido a través de los distintos medios de comunicación: la televisión, la radio, la web y las redes sociales. Quisiera que cada uno de nosotros pudiera decir que ellos nos han desvelado una pizca del misterio de nuestra humanidad, y que nos han dejado un deseo de amor y de paz. Por eso, hoy les repito a ustedes la invitación que hizo el Papa Francisco en su último mensaje para la Jornada Mundial de las Comunicaciones Sociales . Desarmemos la comunicación de cualquier prejuicio, rencor, fanatismo y odio; purifiquémosla de la agresividad. No sirve una comunicación estridente, de fuerza, sino más bien una comunicación capaz de escucha, de recoger la voz de los débiles que no tienen voz. Desarmemos las palabras y contribuiremos a desarmar la tierra. Una comunicación desarmada y desarmante nos permite compartir una mirada distinta sobre el mundo y actuar de modo coherente con nuestra dignidad humana.\nUstedes están en primera línea para describir los conflictos y las esperanzas de paz, las situaciones de injusticia y de pobreza, así como el trabajo silencioso de muchos en favor de un mundo mejor. Por eso les pido que elijan de forma juiciosa y valiente el camino de una comunicación para la paz.\nGracias a todos. Que Dios los bendiga.",
                  "2025-05-12_discurso_audiencia_del_santo_padre_león_xiv_a_los_representantes_de_los_medios_de_comunicación__(12_de_mayo_de_2025).json"
                ],
                [
                  "6",
                  "Homilia",
                  "2025-05-11",
                  "Homilía del Santo Padre León XIV en la cripta de la Basílica de San Pedro (11 de mayo de 2025)",
                  "https://www.vatican.va/content/leo-xiv/es/homilies/2025/documents/20250511-messa-grotte-vaticane.html",
                  "HOMILÍA DEL SANTO PADRE LEÓN XIV EN LA CRIPTA DE LA BASÍLICA DE SAN PEDRO\nDomingo, 11 de mayo de 2025\n[ Multimedia ]\n_______________________________________\nComenzaré con una palabra en inglés y luego quizá otra en italiano.\nEl Evangelio que acabamos de escuchar, en este Domingo del Buen Pastor, dice: «Mis ovejas escuchan mi voz y yo las conozco y ellas me siguen» ( Jn 10,27).\nPienso en el Buen Pastor, sobre todo en este domingo tan significativo del tiempo pascual. Mientras celebramos el inicio de esta nueva misión, del ministerio al que la Iglesia me ha llamado, no hay mejor ejemplo que Jesucristo mismo, a quien entregamos nuestra vida y de quien dependemos. Jesucristo, a quien seguimos, es el Buen Pastor, y es Él quien nos da la vida: «el camino, la verdad y la vida» ( Jn 14,6).\nPor eso celebramos con alegría este día y apreciamos mucho su presencia aquí.\nHoy es el Día de la Madre. Creo que solo hay una mamá presente: ¡feliz Día de la Madre! Una de las expresiones más bellas del amor de Dios es el amor que derraman las madres, sobre todo a sus hijos y nietos.\nEste domingo es especial por varios motivos: uno de los primeros que mencionaría es el de las vocaciones. Durante los recientes trabajos de los cardenales, antes y después de la elección del nuevo Papa, hemos hablado mucho de las vocaciones en la Iglesia y de lo importante que es que todos nos interroguemos juntos. En primer lugar y, sobre todo, dando buen ejemplo con nuestra vida, con alegría, viviendo la alegría del Evangelio, sin desanimar a los demás, sino buscando más bien formas de animar a los jóvenes a escuchar la voz del Señor, a seguirla y a servir en la Iglesia. «Yo soy el Buen Pastor» ( Jn 10,11), nos dice Jesús. [Texto original en inglés]\nAhora añado una palabra también en italiano, porque esta misión que llevamos adelante ya no se dirige a una sola diócesis, sino a toda la Iglesia: este espíritu universal es importante. Y lo encontramos también en la primera lectura que hemos escuchado (cf. Hch 13,14.43-52). Pablo y Bernabé van a Antioquía, primero van a los judíos, pero ellos no quieren escuchar la voz del Señor, y entonces comienzan a anunciar el Evangelio a todo el mundo, a los paganos. Parten, como sabemos, para esta gran misión. San Pablo llega a Roma, donde finalmente la cumple. Otro ejemplo de testimonio de un buen pastor. Pero en ese ejemplo hay también una invitación muy especial para todos nosotros. Lo digo también de manera muy personal: anunciar el Evangelio a todo el mundo.\n¡Ánimo! ¡Sin miedo! Muchas veces Jesús dice en el Evangelio: «¡No tengan miedo!». Hay que ser valientes en el testimonio que damos, con la palabra y sobre todo con la vida: dando la vida, sirviendo, a veces con grandes sacrificios, para vivir precisamente esta misión.\nHe leído una pequeña reflexión que me hace pensar mucho, porque también aparece en el Evangelio. En este sentido, alguien preguntó: «Cuando piensas en tu vida, ¿cómo explicas dónde has llegado?». La respuesta que dan en esta reflexión es, en cierto sentido, también la mía: con el verbo «escuchar». ¡Cuán importante es escuchar! Jesús dice: «Mis ovejas escuchan mi voz» ( Jn 10,27). Y creo que es importante que todos aprendamos cada vez más a escuchar, para entrar en diálogo. En primer lugar, con el Señor: escuchar siempre la Palabra de Dios. Luego, también escuchar a los demás: saber construir puentes, saber escuchar para no juzgar, no cerrar las puertas, pensando que nosotros tenemos toda la verdad y que nadie más puede decirnos nada. Es muy importante escuchar la voz del Señor, escucharnos a nosotros mismos, en este diálogo, y ver hacia dónde nos llama el Señor.\nCaminemos juntos en la Iglesia, pidamos al Señor que nos conceda esta gracia: poder escuchar su Palabra para servir a todo su pueblo. [Texto original en italiano] _________________________\nBoletín de la Oficina de Prensa de la Santa Sede , 11 de mayo de 2025",
                  "2025-05-11_homilia_homilía_del_santo_padre_león_xiv_en_la_cripta_de_la_basílica_de_san_pedro_(11_de_mayo_de_2025).json"
                ],
                [
                  "7",
                  "Angelus",
                  "2025-05-11",
                  "Regina Caeli, 11 de mayo de 2025",
                  "https://www.vatican.va/content/leo-xiv/es/angelus/2025/documents/20250511-regina-caeli.html",
                  "PAPA LEÓN XIV\nREGINA CAELI\nLogia Central de la Basílica de San Pedro Domingo, 11 de mayo de 2025\n[ Multimedia ]\n________________________________________\n\n\nQueridos hermanos y hermanas, ¡feliz domingo!\nConsidero un don de Dios el hecho de que el primer domingo de mi servicio como Obispo de Roma sea el del Buen Pastor, el cuarto del tiempo de Pascua. En este domingo, en la misa, siempre se proclama la lectura del capítulo décimo del Evangelio de Juan, en la que Jesús se revela como el verdadero Pastor, que conoce, ama y da la vida por sus ovejas.\nEn este domingo, desde hace sesenta y dos años, se celebra la Jornada Mundial de Oración por las Vocaciones . Y, además, Roma acoge hoy el Jubileo de las Bandas musicales y de los Espectáculos populares. Saludo con afecto a todos los peregrinos y les doy las gracias porque con su música y sus representaciones alegran la fiesta, la fiesta de Cristo Buen Pastor: sí, es Él quien guía a la Iglesia mediante su Espíritu Santo.\nJesús en el Evangelio afirma que conoce a sus ovejas, y que ellas escuchan su voz y le siguen (cf. Jn 10,27). En efecto, como enseña el Papa san Gregorio Magno, las personas “corresponden al amor de quien les ama” (cf. Homilía 14,3).\nHoy pues, hermanos y hermanas, tengo la alegría de rezar con ustedes y con todo el Pueblo de Dios por las vocaciones, especialmente al sacerdocio y a la vida religiosa. ¡La Iglesia los necesita! Y es importante que los jóvenes encuentren en nuestras comunidades: acogida , escucha , estímulo en su camino vocacional, y que puedan contar con modelos creíbles de entrega generosa a Dios y a sus hermanos.\nHagamos nuestra la invitación que el Papa Francisco nos dejó en su Mensaje para esta Jornada en la que nos pedía acoger y acompañar a los jóvenes. Roguemos al Padre celestial el ser, los unos para los otros, cada uno según su estado, pastores “según su corazón” (cf. Jr 3,15), capaces de ayudarnos mutuamente a caminar en el amor y en la verdad. Y a los jóvenes les digo: “¡No tengan miedo! ¡Acepten la invitación de la Iglesia y de Cristo Señor!”\nLa Virgen María, cuya vida fue toda una respuesta a la llamada del Señor, nos acompañe siempre en el seguimiento de Jesús.\n_______________________\nDespués del Regina Caeli\nHermanos y hermanas,\nla gran tragedia de la Segunda Guerra Mundial, terminó hace 80 años, el 8 de mayo, después de haber causado 60 millones de víctimas. En el dramático escenario actual de una tercera guerra mundial por partes, como afirmó el Papa Francisco en más de una ocasión, también yo me dirijo a los grandes del mundo, repitiendo el llamamiento siempre actual: “¡Nunca más la guerra!”\nLlevo en mi corazón los sufrimientos del amado pueblo ucraniano. Se haga lo posible para alcanzar cuanto antes un paz auténtica, justa y duradera. Sean liberados todos los prisioneros y los niños puedan regresar con sus familias.\nMe entristece profundamente lo que sucede en la Franja de Gaza. ¡Cese inmediatamente el fuego! Se preste ayuda humanitaria a la exhausta población civil y se liberen a todos los rehenes.\nHe acogido con satisfacción el anuncio del alto el fuego entre India y Pakistán, y deseo que a través de las próximas negociaciones se pueda alcanzar pronto un acuerdo duradero.\n¡Pero cuántos otros conflictos hay en el mundo! Encomiendo a la Reina de la paz este sentido llamamiento para que sea Ella quien se lo presente al Señor Jesús para obtener el milagro de la paz.\nY ahora os saludo con afecto a todos vosotros, romanos y peregrinos de varios países. Saludo a los miembros de la British and Foreign Bible Society, el grupo de médicos de Granada (España), los fieles de Malta, Panamá, Dallas (Texas), Valladolid, Torrelodones (Madrid), Montesilvano y Cinisi (Palermo).\nSaludo a los participantes en la manifestación “Elegimos la vida” y a los jóvenes de la Fraternidad Santa María Inmaculada y San Francisco de Asís de Reggio Emilia.\nHoy en Italia y en otros países se celebra la fiesta de la madre. Mando un afectuoso saludo a todas las madres, con una oración por ellas y por las que están ya en el Cielo.\n¡Feliz día a todas las madres!\n¡Gracias a todos vosotros! ¡Feliz domingo a todos!",
                  "2025-05-11_angelus_regina_caeli,_11_de_mayo_de_2025.json"
                ],
                [
                  "8",
                  "Discurso",
                  "2025-05-10",
                  "Discurso del Santo Padre al Colegio Cardenalicio (10 de mayo de 2025)",
                  "https://www.vatican.va/content/leo-xiv/es/speeches/2025/may/documents/20250510-collegio-cardinalizio.html",
                  "DISCURSO DEL SANTO PADRE LEÓN XIV AL COLEGIO CARDENALICIO\nSábado, 10 de mayo de 2025\n[ Multimedia ]\n_______________\nMuchas gracias, Eminencia:\nAntes de sentarnos comencemos con una oración, pidiendo que el Señor siga acompañando el Colegio y a toda la Iglesia con este espíritu y entusiasmo, que es sin embargo de profunda fe. Recemos juntos en latín: Pater noster… Ave María…\nEn la primera parte del encuentro hay un pequeño discurso con las reflexiones que quisiera compartir con ustedes. Pero después habrá una segunda parte, que muchos han solicitado, será una especie de diálogo con el Colegio Cardenalicio en el cual poder escuchar los consejos, las sugerencias, las propuestas concretas, de las cuales que ya se ha hablado en los días anteriores al cónclave.\nHermanos cardenales:\nLos saludo y les agradezco a todos por este encuentro y por los días que lo han precedido, dolorosos por la pérdida del Santo Padre Francisco, arduos por las responsabilidades afrontadas juntos y, al mismo tiempo, según la promesa que Jesús mismo nos ha hecho, ricos de gracia y de consolación en el Espíritu (cf. Jn 14,25-27).\nUstedes, queridos cardenales, son los más estrechos colaboradores del Papa, y esto me sirve de consuelo al aceptar un yugo que claramente supera no sólo mis fuerzas, sino a las de cualquier otro. Su presencia me recuerda que el Señor, que me ha confiado esta misión, no me deja solo con la carga de esta responsabilidad. Ante todo, sé que cuento siempre, siempre, con su auxilio, el auxilio del Señor, y, por su Gracia y Providencia, con la cercanía de ustedes y de tantos hermanos y hermanas que en el mundo entero creen en Dios, aman a la Iglesia y sostienen con la oración y las buenas obras al Vicario de Cristo.\nMi agradecimiento al Decano del Colegio Cardenalicio, el cardenal Giovanni Battista Re —merece un aplauso, al menos uno, si no más— que, con su sabiduría, fruto de una larga vida y de muchos años de fiel servicio a la Sede Apostólica, nos ha ayudado mucho en este tiempo. También agradezco al Camarlengo de la santa Iglesia romana, el cardenal Kevin Joseph Farrell —creo que está aquí presente—, por el valioso y difícil papel que ha desempeñado durante el tiempo de la Sede Vacante y la convocación del cónclave . Dirijo también mi pensamiento a los hermanos cardenales que, por razones de salud, no han podido estar presentes y, junto con ustedes, me uno a ellos en comunión de afecto y oración.\nEn este momento, a la vez triste y alegre, envuelto providencialmente en la luz de la Pascua, quisiera que contempláramos juntos el tránsito del recordado Santo Padre Francisco y el cónclave como un acontecimiento pascual, una etapa del largo éxodo a través del cual el Señor sigue guiándonos hacia la plenitud de la vida. En esta perspectiva, confiamos al «Padre de las misericordias y Dios de todo consuelo» ( 2 Co 1,3) el alma del Pontífice difunto y también el futuro de la Iglesia.\nEl Papa, desde san Pedro hasta mí, su indigno sucesor, es un humilde siervo de Dios y de los hermanos, y nada más que esto. Lo han demostrado bien los ejemplos de muchos de mis predecesores, como el del Papa Francisco mismo, con su estilo de total dedicación al servicio y de sobria esencialidad de vida, de abandono en Dios durante el tiempo de la misión y de serena confianza en el momento del retorno a la Casa del Padre. Recojamos esta valiosa herencia y retomemos el camino, animados por la misma esperanza que nos viene de la fe.\nEs el Resucitado, presente en medio de nosotros, quien protege y guía a la Iglesia, y continúa a reavivarla en la esperanza, a través del amor que «ha sido derramado en nuestros corazones por el Espíritu Santo, que nos ha sido dado» ( Rm 5,5). A nosotros nos toca ser dóciles oyentes de su voz y ministros fieles de sus designios de salvación, recordando que Dios ama comunicarse, más que en el fragor del trueno o del terremoto, en «el rumor de una brisa suave» ( 1 R 19,12) o, como lo traducen algunos, en una “sutil voz de silencio”. Este es el encuentro importante, que no hay que perder, y hacia el cual hay que educar y acompañar a todo el santo Pueblo de Dios que nos ha sido confiado.\nEn los días pasados hemos podido ver la belleza y sentir la fuerza de esta inmensa comunidad que, con tanto afecto y devoción, ha despedido y llorado a su Pastor, acompañándolo con la fe y la oración hasta su encuentro definitivo con el Señor. Hemos visto cuál es la verdadera grandeza de la Iglesia, que vive en la variedad de sus miembros, unidos a su única Cabeza, Cristo «Pastor y Guardián» ( 1 P 2,25) de nuestras almas. Ella es el vientre en el que también nosotros fuimos generados y, al mismo tiempo, la grey (cf. Jn 21,15-17), el campo (cf. Mc 4, 1-20) que se nos ha entregado para que lo cuidemos y lo cultivemos, lo alimentemos con los Sacramentos de salvación y lo fecundemos con la semilla de la Palabra, de manera que, sólido en la concordia y entusiasta en la misión, camine, como una vez los israelitas en el desierto, a la sombra de la nube y a la luz del fuego de Dios (cf. Ex 13,21).\nY a este propósito, quisiera que renováramos juntos, hoy, nuestra plena adhesión a ese camino, a la vía que desde hace ya decenios la Iglesia universal está recorriendo tras las huellas del Concilio Vaticano II . El Papa Francisco ha recordado y actualizado magistralmente su contenido en la Exhortación apostólica Evangelii gaudium , de la que me gustaría destacar algunas notas fundamentales: el regreso al primado de Cristo en el anuncio (cf. n. 11); la conversión misionera de toda la comunidad cristiana (cf. n. 9); el crecimiento en la colegialidad y en sinodalidad (cf. n. 33); la atención al sensus fidei (cf. nn. 119-120), especialmente en sus formas más propias e inclusivas, como la piedad popular (cf. 123); el cuidado amoroso de los débiles y descartados (cf.n. 53); el diálogo valiente y confiado con el mundo contemporáneo en sus diferentes componentes y realidades (cf. n. 84, Concilio Vaticano II, Const. past. Gaudium et spes , 1-2).\nSe trata de los principios del Evangelio que animan e inspiran, desde siempre, la vida y la obra de la Familia de Dios; de los valores a través de los cuales el rostro misericordioso del Padre se ha revelado y continúa a revelarse en el Hijo hecho hombre, esperanza última de todos los que busquen con ánimo sincero la verdad, la justicia, la paz y la fraternidad (cf. Benedicto XVI, Carta enc. Spe salvi , 2; Francisco, Bulla Spes non confundit , 3).\nPrecisamente, al sentirme llamado a proseguir este camino, pensé tomar el nombre de León XIV. Hay varias razones, pero la principal es porque el Papa León XIII, con la histórica Encíclica Rerum novarum , afrontó la cuestión social en el contexto de la primera gran revolución industrial y hoy la Iglesia ofrece a todos, su patrimonio de doctrina social para responder a otra revolución industrial y a los desarrollos de la inteligencia artificial, que comportan nuevos desafíos en la defensa de la dignidad humana, de la justicia y el trabajo.\nQueridos hermanos, quisiera terminar esta primera parte de nuestro encuentro haciendo mío ―y proponiéndoselo también a ustedes― el deseo que san pablo VI, en 1963, expresó en el inicio de su ministerio petrino: «Que sobre el mundo entero pase una gran llama de fe y de amor que ilumine a todos los hombres de buena voluntad, allanando los caminos de la colaboración recíproca y que atraiga sobre la humanidad, la abundancia de la benevolencia divina, la fuerza misma de Dios, sin cuya ayuda nada vale ni nada es santo» ( Primer Mensaje al mundo entero Qui fausto die , 22 junio 1963).\nQue sean también estos nuestros sentimientos y, con la ayuda del Señor, los traduzcamos en oración y compromiso. Gracias.",
                  "2025-05-10_discurso_discurso_del_santo_padre_al_colegio_cardenalicio_(10_de_mayo_de_2025).json"
                ],
                [
                  "9",
                  "Homilia",
                  "2025-05-09",
                  "Santa Misa pro Ecclesia celebrada por el Romano Pontífice León XIV con los cardenales (9 de mayo de 2025)",
                  "https://www.vatican.va/content/leo-xiv/es/homilies/2025/documents/20250509-messa-cardinali.html",
                  "SANTA MISA PRO ECCLESIA CELEBRADA POR EL ROMANO PONTÍFICE CON LOS CARDENALES\nHOMILÍA DEL SANTO PADRE LEÓN XIV\nCapilla Sixtina Viernes, 9 de mayo de 2025\n[ Multimedia ]\n_______________________________________\n\nComienzo con unas palabras en inglés, y el resto será en italiano. Quisiera repetir la frase del salmo responsorial: «Canten al Señor un canto nuevo, porque Él hizo maravillas» ( Sal 98,1). Y en efecto, no sólo conmigo, hermanos míos cardenales, sino con todos nosotros, como lo celebramos esta mañana.\nLos invito a reconocer las maravillas que el Señor ha hecho, las bendiciones que el Señor sigue derramando sobre todos nosotros, a través del ministerio de Pedro.\nUstedes me han llamado a cargar esa cruz y a ser bendecido con esa misión. Y sé que puedo contar con todos y cada uno de ustedes para caminar conmigo, mientras continuamos, como Iglesia, como comunidad de amigos de Jesús, como creyentes, anunciando la Buena Nueva y proclamando el Evangelio.\n«Tú eres el Mesías, el Hijo de Dios vivo» ( Mt 16,16). Con estas palabras Pedro, interrogado por el Maestro junto con los otros discípulos sobre su fe en Él, expresa en síntesis el patrimonio que desde hace dos mil años la Iglesia, a través de la sucesión apostólica, custodia, profundiza y trasmite.\nJesús es el Cristo, el Hijo de Dios vivo, es decir, el único Salvador y el que nos revela el rostro del Padre.\nEn Él Dios, para hacerse cercano a los hombres, se ha revelado a nosotros en los ojos confiados de un niño, en la mente inquieta de un joven, en los rasgos maduros de un hombre (cf. Concilio Vaticano II , Const. pastoral Gaudium et spes , 22), hasta aparecerse a los suyos, después de la resurrección, con su cuerpo glorioso. Nos ha mostrado así un modelo de humanidad santa que todos podemos imitar, junto con la promesa de un destino eterno que, sin embargo, supera todos nuestros límites y capacidades.\nPedro, en su respuesta, asume ambas cosas: el don de Dios y el camino que se debe recorrer para dejarse transformar, dimensiones inseparables de la salvación, confiadas a la Iglesia para que las anuncie por el bien de la humanidad. Nos las confía a nosotros, elegidos por Él antes de que nos formásemos en el vientre materno (cf. Jr 1,5), regenerados en el agua del Bautismo y, más allá de nuestros límites y sin ningún mérito propio, conducidos aquí y desde aquí enviados, para que el Evangelio se anuncie a todas las criaturas (cf. Mc 16,15).\nDios, de forma particular, al llamarme a través del voto de ustedes a suceder al primero de los Apóstoles, me confía este tesoro a mí, para que, con su ayuda, sea su fiel administrador (cf. 1 Co 4,2) en favor de todo el Cuerpo místico de la Iglesia; de modo que esta sea cada vez más la ciudad puesta sobre el monte (cf. Ap 21,10), arca de salvación que navega a través de las mareas de la historia, faro que ilumina las noches del mundo. Y esto no tanto gracias a la magnificencia de sus estructuras y a la grandiosidad de sus construcciones —como los monumentos en los que nos encontramos—, sino por la santidad de sus miembros, de ese «pueblo adquirido para anunciar las maravillas de aquel que los llamó de las tinieblas a su admirable luz» ( 1 P 2,9).\nCon todo, por encima de la conversación en la que Pedro hace su profesión de fe, hay otra pregunta: «¿Qué dice la gente —pregunta Jesús—sobre el Hijo del hombre? ¿Quién dicen que es?» ( Mt 16,13). No es una cuestión banal, al contrario, concierne a un aspecto importante de nuestro ministerio: la realidad en la que vivimos, con sus límites y sus potencialidades, sus cuestionamientos y sus convicciones.\n«¿Qué dice la gente sobre el Hijo del hombre? ¿Quién dicen que es?» ( Mt 16,13). Pensando en la escena sobre la que estamos reflexionando, podremos encontrar dos posibles respuestas a esta pregunta, que delinean otras tantas actitudes.\nEn primer lugar, está la respuesta del mundo. Mateo señala que la conversación entre Jesús y los suyos acerca de su identidad sucede en la hermosa ciudad de Cesarea de Filipo, rica de palacios lujosos, engarzada en un paraje natural encantador, a las faldas del Hermón, pero también sede de círculos crueles de poder y teatro de traiciones y de infidelidades. Esta imagen nos habla de un mundo que considera a Jesús una persona que carece totalmente de importancia, al máximo un personaje curioso, que puede suscitar asombro con su modo insólito de hablar y de actuar. Y así, cuando su presencia se vuelva molesta por las instancias de honestidad y las exigencias morales que solicita, este mundo no dudará en rechazarlo y eliminarlo.\nHay también otra posible respuesta a la pregunta de Jesús, la de la gente común. Para ellos el Nazareno no es un charlatán, es un hombre recto, un hombre valiente, que habla bien y que dice cosas justas, como otros grandes profetas de la historia de Israel. Por eso lo siguen, al menos hasta donde pueden hacerlo sin demasiados riesgos e inconvenientes. Pero lo consideran sólo un hombre y, por eso, en el momento del peligro, durante la Pasión, también ellos lo abandonan y se van, desilusionados.\nLlama la atención la actualidad de estas dos actitudes. Ambas encarnan ideas que podemos encontrar fácilmente —tal vez expresadas con un lenguaje distinto, pero idénticas en la sustancia— en la boca de muchos hombres y mujeres de nuestro tiempo.\nHoy también son muchos los contextos en los que la fe cristiana se retiene un absurdo, algo para personas débiles y poco inteligentes, contextos en los que se prefieren otras seguridades distintas a la que ella propone, como la tecnología, el dinero, el éxito, el poder o el placer.\nHablamos de ambientes en los que no es fácil testimoniar y anunciar el Evangelio y donde se ridiculiza a quien cree, se le obstaculiza y desprecia, o, a lo sumo, se le soporta y compadece. Y, sin embargo, precisamente por esto, son lugares en los que la misión es más urgente, porque la falta de fe lleva a menudo consigo dramas como la pérdida del sentido de la vida, el olvido de la misericordia, la violación de la dignidad de la persona en sus formas más dramáticas, la crisis de la familia y tantas heridas más que acarrean no poco sufrimiento a nuestra sociedad.\nNo faltan tampoco los contextos en los que Jesús, aunque apreciado como hombre, es reducido solamente a una especie de líder carismático o a un superhombre, y esto no sólo entre los no creyentes, sino incluso entre muchos bautizados, que de ese modo terminan viviendo, en este ámbito, un ateísmo de hecho.\nEste es el mundo que nos ha sido confiado, y en el que, como enseñó muchas veces el Papa Francisco, estamos llamados a dar testimonio de la fe gozosa en Jesús Salvador. Por esto, también para nosotros, es esencial repetir: «Tú eres el Mesías, el Hijo de Dios vivo» ( Mt 16,16).\nEs fundamental hacerlo antes de nada en nuestra relación personal con Él, en el compromiso con un camino de conversión cotidiano. Pero también, como Iglesia, viviendo juntos nuestra pertenencia al Señor y llevando a todos la Buena Noticia (cf. Concilio Vaticano II , Const. dogmática, Lumen gentium , 1).\nLo digo ante todo por mí, como Sucesor de Pedro, mientras inicio mi misión de Obispo de la Iglesia que está en Roma, llamada a presidir en la caridad la Iglesia universal, según la célebre expresión de S. Ignacio de Antioquía (cf. Carta a los Romanos , Proemio). Él, conducido en cadenas a esta ciudad, lugar de su inminente sacrificio, escribía a los cristianos que allí se encontraban: «en ese momento seré verdaderamente discípulo de Cristo, cuando el mundo ya no verá más mi cuerpo» ( Carta a los Romanos , IV, 1). Hacía referencia a ser devorado por las fieras del circo —y así ocurrió—, pero sus palabras evocan en un sentido más general un compromiso irrenunciable para cualquiera que en la Iglesia ejercite un ministerio de autoridad, desaparecer para que permanezca Cristo, hacerse pequeño para que Él sea conocido y glorificado (cf. Jn 3,30), gastándose hasta el final para que a nadie falte la oportunidad de conocerlo y amarlo.\nQue Dios me conceda esta gracia, hoy y siempre, con la ayuda de la tierna intercesión de María, Madre de la Iglesia.",
                  "2025-05-09_homilia_santa_misa_pro_ecclesia_celebrada_por_el_romano_pontífice_león_xiv_con_los_cardenales_(9_de_mayo_de_2025).json"
                ]
              ],
              "shape": {
                "columns": 6,
                "rows": 10
              }
            },
            "text/html": [
              "<div>\n",
              "<style scoped>\n",
              "    .dataframe tbody tr th:only-of-type {\n",
              "        vertical-align: middle;\n",
              "    }\n",
              "\n",
              "    .dataframe tbody tr th {\n",
              "        vertical-align: top;\n",
              "    }\n",
              "\n",
              "    .dataframe thead th {\n",
              "        text-align: right;\n",
              "    }\n",
              "</style>\n",
              "<table border=\"1\" class=\"dataframe\">\n",
              "  <thead>\n",
              "    <tr style=\"text-align: right;\">\n",
              "      <th></th>\n",
              "      <th>tipo</th>\n",
              "      <th>fecha</th>\n",
              "      <th>titulo</th>\n",
              "      <th>url</th>\n",
              "      <th>texto</th>\n",
              "      <th>filename</th>\n",
              "    </tr>\n",
              "  </thead>\n",
              "  <tbody>\n",
              "    <tr>\n",
              "      <th>0</th>\n",
              "      <td>Homilia</td>\n",
              "      <td>2025-05-18</td>\n",
              "      <td>V Domingo de Pascua – Celebración Eucarística ...</td>\n",
              "      <td>https://www.vatican.va/content/leo-xiv/es/homi...</td>\n",
              "      <td>CELEBRACIÓN EUCARÍSTICA CON MOTIVO DEL INICIO ...</td>\n",
              "      <td>2025-05-18_homilia_v_domingo_de_pascua_–_celeb...</td>\n",
              "    </tr>\n",
              "    <tr>\n",
              "      <th>1</th>\n",
              "      <td>Angelus</td>\n",
              "      <td>2025-05-18</td>\n",
              "      <td>Regina Caeli, 18 de mayo de 2025</td>\n",
              "      <td>https://www.vatican.va/content/leo-xiv/es/ange...</td>\n",
              "      <td>PAPA LEÓN XIV\\nSanta Misa de Inicio del Minist...</td>\n",
              "      <td>2025-05-18_angelus_regina_caeli,_18_de_mayo_de...</td>\n",
              "    </tr>\n",
              "    <tr>\n",
              "      <th>2</th>\n",
              "      <td>Discurso</td>\n",
              "      <td>2025-05-16</td>\n",
              "      <td>Al Cuerpo Diplomático (16 de mayo de 2025)</td>\n",
              "      <td>https://www.vatican.va/content/leo-xiv/es/spee...</td>\n",
              "      <td>AUDIENCIA AL CUERPO DIPLOMÁTICO ACREDITADO ANT...</td>\n",
              "      <td>2025-05-16_discurso_al_cuerpo_diplomático_(16_...</td>\n",
              "    </tr>\n",
              "    <tr>\n",
              "      <th>3</th>\n",
              "      <td>Discurso</td>\n",
              "      <td>2025-05-15</td>\n",
              "      <td>A los Hermanos de las Escuelas Cristianas (15 ...</td>\n",
              "      <td>https://www.vatican.va/content/leo-xiv/es/spee...</td>\n",
              "      <td>DISCURSO DEL SANTO PADRE LEÓN XIV A LOS HERMAN...</td>\n",
              "      <td>2025-05-15_discurso_a_los_hermanos_de_las_escu...</td>\n",
              "    </tr>\n",
              "    <tr>\n",
              "      <th>4</th>\n",
              "      <td>Discurso</td>\n",
              "      <td>2025-05-14</td>\n",
              "      <td>A los participantes en el Jubileo de las Igles...</td>\n",
              "      <td>https://www.vatican.va/content/leo-xiv/es/spee...</td>\n",
              "      <td>DISCURSO DEL SANTO PADRE LEÓN XIV A LOS PARTIC...</td>\n",
              "      <td>2025-05-14_discurso_a_los_participantes_en_el_...</td>\n",
              "    </tr>\n",
              "    <tr>\n",
              "      <th>5</th>\n",
              "      <td>Discurso</td>\n",
              "      <td>2025-05-12</td>\n",
              "      <td>Audiencia del Santo Padre León XIV a los repre...</td>\n",
              "      <td>https://www.vatican.va/content/leo-xiv/es/spee...</td>\n",
              "      <td>DISCURSO DEL SANTO PADRE LEÓN XIV A LOS REPRES...</td>\n",
              "      <td>2025-05-12_discurso_audiencia_del_santo_padre_...</td>\n",
              "    </tr>\n",
              "    <tr>\n",
              "      <th>6</th>\n",
              "      <td>Homilia</td>\n",
              "      <td>2025-05-11</td>\n",
              "      <td>Homilía del Santo Padre León XIV en la cripta ...</td>\n",
              "      <td>https://www.vatican.va/content/leo-xiv/es/homi...</td>\n",
              "      <td>HOMILÍA DEL SANTO PADRE LEÓN XIV EN LA CRIPTA ...</td>\n",
              "      <td>2025-05-11_homilia_homilía_del_santo_padre_leó...</td>\n",
              "    </tr>\n",
              "    <tr>\n",
              "      <th>7</th>\n",
              "      <td>Angelus</td>\n",
              "      <td>2025-05-11</td>\n",
              "      <td>Regina Caeli, 11 de mayo de 2025</td>\n",
              "      <td>https://www.vatican.va/content/leo-xiv/es/ange...</td>\n",
              "      <td>PAPA LEÓN XIV\\nREGINA CAELI\\nLogia Central de ...</td>\n",
              "      <td>2025-05-11_angelus_regina_caeli,_11_de_mayo_de...</td>\n",
              "    </tr>\n",
              "    <tr>\n",
              "      <th>8</th>\n",
              "      <td>Discurso</td>\n",
              "      <td>2025-05-10</td>\n",
              "      <td>Discurso del Santo Padre al Colegio Cardenalic...</td>\n",
              "      <td>https://www.vatican.va/content/leo-xiv/es/spee...</td>\n",
              "      <td>DISCURSO DEL SANTO PADRE LEÓN XIV AL COLEGIO C...</td>\n",
              "      <td>2025-05-10_discurso_discurso_del_santo_padre_a...</td>\n",
              "    </tr>\n",
              "    <tr>\n",
              "      <th>9</th>\n",
              "      <td>Homilia</td>\n",
              "      <td>2025-05-09</td>\n",
              "      <td>Santa Misa pro Ecclesia celebrada por el Roman...</td>\n",
              "      <td>https://www.vatican.va/content/leo-xiv/es/homi...</td>\n",
              "      <td>SANTA MISA PRO ECCLESIA CELEBRADA POR EL ROMAN...</td>\n",
              "      <td>2025-05-09_homilia_santa_misa_pro_ecclesia_cel...</td>\n",
              "    </tr>\n",
              "  </tbody>\n",
              "</table>\n",
              "</div>"
            ],
            "text/plain": [
              "       tipo       fecha                                             titulo  \\\n",
              "0   Homilia  2025-05-18  V Domingo de Pascua – Celebración Eucarística ...   \n",
              "1   Angelus  2025-05-18                   Regina Caeli, 18 de mayo de 2025   \n",
              "2  Discurso  2025-05-16         Al Cuerpo Diplomático (16 de mayo de 2025)   \n",
              "3  Discurso  2025-05-15  A los Hermanos de las Escuelas Cristianas (15 ...   \n",
              "4  Discurso  2025-05-14  A los participantes en el Jubileo de las Igles...   \n",
              "5  Discurso  2025-05-12  Audiencia del Santo Padre León XIV a los repre...   \n",
              "6   Homilia  2025-05-11  Homilía del Santo Padre León XIV en la cripta ...   \n",
              "7   Angelus  2025-05-11                   Regina Caeli, 11 de mayo de 2025   \n",
              "8  Discurso  2025-05-10  Discurso del Santo Padre al Colegio Cardenalic...   \n",
              "9   Homilia  2025-05-09  Santa Misa pro Ecclesia celebrada por el Roman...   \n",
              "\n",
              "                                                 url  \\\n",
              "0  https://www.vatican.va/content/leo-xiv/es/homi...   \n",
              "1  https://www.vatican.va/content/leo-xiv/es/ange...   \n",
              "2  https://www.vatican.va/content/leo-xiv/es/spee...   \n",
              "3  https://www.vatican.va/content/leo-xiv/es/spee...   \n",
              "4  https://www.vatican.va/content/leo-xiv/es/spee...   \n",
              "5  https://www.vatican.va/content/leo-xiv/es/spee...   \n",
              "6  https://www.vatican.va/content/leo-xiv/es/homi...   \n",
              "7  https://www.vatican.va/content/leo-xiv/es/ange...   \n",
              "8  https://www.vatican.va/content/leo-xiv/es/spee...   \n",
              "9  https://www.vatican.va/content/leo-xiv/es/homi...   \n",
              "\n",
              "                                               texto  \\\n",
              "0  CELEBRACIÓN EUCARÍSTICA CON MOTIVO DEL INICIO ...   \n",
              "1  PAPA LEÓN XIV\\nSanta Misa de Inicio del Minist...   \n",
              "2  AUDIENCIA AL CUERPO DIPLOMÁTICO ACREDITADO ANT...   \n",
              "3  DISCURSO DEL SANTO PADRE LEÓN XIV A LOS HERMAN...   \n",
              "4  DISCURSO DEL SANTO PADRE LEÓN XIV A LOS PARTIC...   \n",
              "5  DISCURSO DEL SANTO PADRE LEÓN XIV A LOS REPRES...   \n",
              "6  HOMILÍA DEL SANTO PADRE LEÓN XIV EN LA CRIPTA ...   \n",
              "7  PAPA LEÓN XIV\\nREGINA CAELI\\nLogia Central de ...   \n",
              "8  DISCURSO DEL SANTO PADRE LEÓN XIV AL COLEGIO C...   \n",
              "9  SANTA MISA PRO ECCLESIA CELEBRADA POR EL ROMAN...   \n",
              "\n",
              "                                            filename  \n",
              "0  2025-05-18_homilia_v_domingo_de_pascua_–_celeb...  \n",
              "1  2025-05-18_angelus_regina_caeli,_18_de_mayo_de...  \n",
              "2  2025-05-16_discurso_al_cuerpo_diplomático_(16_...  \n",
              "3  2025-05-15_discurso_a_los_hermanos_de_las_escu...  \n",
              "4  2025-05-14_discurso_a_los_participantes_en_el_...  \n",
              "5  2025-05-12_discurso_audiencia_del_santo_padre_...  \n",
              "6  2025-05-11_homilia_homilía_del_santo_padre_leó...  \n",
              "7  2025-05-11_angelus_regina_caeli,_11_de_mayo_de...  \n",
              "8  2025-05-10_discurso_discurso_del_santo_padre_a...  \n",
              "9  2025-05-09_homilia_santa_misa_pro_ecclesia_cel...  "
            ]
          },
          "execution_count": 8,
          "metadata": {},
          "output_type": "execute_result"
        }
      ],
      "source": [
        "urls = {\n",
        "    \"Homilia\": \"https://www.vatican.va/content/leo-xiv/es/homilies/2025.html\",\n",
        "    \"Angelus\": \"https://www.vatican.va/content/leo-xiv/es/angelus/2025.html\",\n",
        "    \"Discurso\": \"https://www.vatican.va/content/leo-xiv/es/speeches/2025/may.index.html\"\n",
        "}\n",
        "\n",
        "\n",
        "df = obtener_todos_los_textos(urls)\n",
        "# si el título tiene menos de 10 caracteres, lo eliminamos\n",
        "df = df[df[\"titulo\"].str.len() > 10]\n",
        "df = df.reset_index(drop=True)\n",
        "\n",
        "# filename =f\"{fecha_formateada}_{tipo_doc.replace(' ', '_').lower()}_{titulo_doc.replace(' ', '_').lower()}.json\"\n",
        "\n",
        "df[\"filename\"] = df.apply(\n",
        "    lambda x: f\"{x['fecha']}_{x['tipo'].replace(' ', '_').lower()}_{x['titulo'].replace(' ', '_').lower()}\",\n",
        "    axis=1,\n",
        ")\n",
        "df"
      ]
    },
    {
      "cell_type": "code",
      "execution_count": 3,
      "metadata": {},
      "outputs": [],
      "source": [
        "from iglesia.agents import create_iglesia_content_crew"
      ]
    },
    {
      "cell_type": "code",
      "execution_count": 4,
      "metadata": {},
      "outputs": [],
      "source": [
        "\n",
        "iglesia_content_crew = create_iglesia_content_crew(df[:2], LLM)"
      ]
    },
    {
      "cell_type": "code",
      "execution_count": 5,
      "metadata": {},
      "outputs": [
        {
          "data": {
            "text/html": [
              "<pre style=\"white-space:pre;overflow-x:auto;line-height:normal;font-family:Menlo,'DejaVu Sans Mono',consolas,'Courier New',monospace\"><span style=\"color: #008080; text-decoration-color: #008080\">╭──────────────────────────────────────────── Crew Execution Started ─────────────────────────────────────────────╮</span>\n",
              "<span style=\"color: #008080; text-decoration-color: #008080\">│</span>                                                                                                                 <span style=\"color: #008080; text-decoration-color: #008080\">│</span>\n",
              "<span style=\"color: #008080; text-decoration-color: #008080\">│</span>  <span style=\"color: #008080; text-decoration-color: #008080; font-weight: bold\">Crew Execution Started</span>                                                                                         <span style=\"color: #008080; text-decoration-color: #008080\">│</span>\n",
              "<span style=\"color: #008080; text-decoration-color: #008080\">│</span>  <span style=\"color: #c0c0c0; text-decoration-color: #c0c0c0\">Name: </span><span style=\"color: #008080; text-decoration-color: #008080\">crew</span>                                                                                                     <span style=\"color: #008080; text-decoration-color: #008080\">│</span>\n",
              "<span style=\"color: #008080; text-decoration-color: #008080\">│</span>  <span style=\"color: #c0c0c0; text-decoration-color: #c0c0c0\">ID: </span><span style=\"color: #008080; text-decoration-color: #008080\">7bf45b52-54d2-4831-bcf8-ae50462afe97</span>                                                                       <span style=\"color: #008080; text-decoration-color: #008080\">│</span>\n",
              "<span style=\"color: #008080; text-decoration-color: #008080\">│</span>                                                                                                                 <span style=\"color: #008080; text-decoration-color: #008080\">│</span>\n",
              "<span style=\"color: #008080; text-decoration-color: #008080\">│</span>                                                                                                                 <span style=\"color: #008080; text-decoration-color: #008080\">│</span>\n",
              "<span style=\"color: #008080; text-decoration-color: #008080\">╰─────────────────────────────────────────────────────────────────────────────────────────────────────────────────╯</span>\n",
              "</pre>\n"
            ],
            "text/plain": [
              "\u001b[36m╭─\u001b[0m\u001b[36m───────────────────────────────────────────\u001b[0m\u001b[36m Crew Execution Started \u001b[0m\u001b[36m────────────────────────────────────────────\u001b[0m\u001b[36m─╮\u001b[0m\n",
              "\u001b[36m│\u001b[0m                                                                                                                 \u001b[36m│\u001b[0m\n",
              "\u001b[36m│\u001b[0m  \u001b[1;36mCrew Execution Started\u001b[0m                                                                                         \u001b[36m│\u001b[0m\n",
              "\u001b[36m│\u001b[0m  \u001b[37mName: \u001b[0m\u001b[36mcrew\u001b[0m                                                                                                     \u001b[36m│\u001b[0m\n",
              "\u001b[36m│\u001b[0m  \u001b[37mID: \u001b[0m\u001b[36m7bf45b52-54d2-4831-bcf8-ae50462afe97\u001b[0m                                                                       \u001b[36m│\u001b[0m\n",
              "\u001b[36m│\u001b[0m                                                                                                                 \u001b[36m│\u001b[0m\n",
              "\u001b[36m│\u001b[0m                                                                                                                 \u001b[36m│\u001b[0m\n",
              "\u001b[36m╰─────────────────────────────────────────────────────────────────────────────────────────────────────────────────╯\u001b[0m\n"
            ]
          },
          "metadata": {},
          "output_type": "display_data"
        },
        {
          "data": {
            "text/html": [
              "<pre style=\"white-space:pre;overflow-x:auto;line-height:normal;font-family:Menlo,'DejaVu Sans Mono',consolas,'Courier New',monospace\">\n",
              "</pre>\n"
            ],
            "text/plain": [
              "\n"
            ]
          },
          "metadata": {},
          "output_type": "display_data"
        },
        {
          "data": {
            "text/html": [
              "<pre style=\"white-space:pre;overflow-x:auto;line-height:normal;font-family:Menlo,'DejaVu Sans Mono',consolas,'Courier New',monospace\"><span style=\"color: #008080; text-decoration-color: #008080; font-weight: bold\">🚀 Crew: crew</span>\n",
              "└── <span style=\"color: #808000; text-decoration-color: #808000; font-weight: bold\">📋 Task: b2124eda-05b6-4650-892c-d38052fd2218</span>\n",
              "    <span style=\"color: #c0c0c0; text-decoration-color: #c0c0c0\">   Status: </span><span style=\"color: #bfbf7f; text-decoration-color: #bfbf7f\">Executing Task...</span>\n",
              "</pre>\n"
            ],
            "text/plain": [
              "\u001b[1;36m🚀 Crew: \u001b[0m\u001b[1;36mcrew\u001b[0m\n",
              "└── \u001b[1;33m📋 Task: b2124eda-05b6-4650-892c-d38052fd2218\u001b[0m\n",
              "    \u001b[37m   Status: \u001b[0m\u001b[2;33mExecuting Task...\u001b[0m\n"
            ]
          },
          "metadata": {},
          "output_type": "display_data"
        },
        {
          "data": {
            "text/html": [
              "<pre style=\"white-space:pre;overflow-x:auto;line-height:normal;font-family:Menlo,'DejaVu Sans Mono',consolas,'Courier New',monospace\">\n",
              "</pre>\n"
            ],
            "text/plain": [
              "\n"
            ]
          },
          "metadata": {},
          "output_type": "display_data"
        },
        {
          "data": {
            "text/html": [
              "<pre style=\"white-space:pre;overflow-x:auto;line-height:normal;font-family:Menlo,'DejaVu Sans Mono',consolas,'Courier New',monospace\"><span style=\"color: #008080; text-decoration-color: #008080; font-weight: bold\">🚀 Crew: crew</span>\n",
              "└── <span style=\"color: #808000; text-decoration-color: #808000; font-weight: bold\">📋 Task: b2124eda-05b6-4650-892c-d38052fd2218</span>\n",
              "    <span style=\"color: #c0c0c0; text-decoration-color: #c0c0c0\">   Status: </span><span style=\"color: #bfbf7f; text-decoration-color: #bfbf7f\">Executing Task...</span>\n",
              "    └── <span style=\"color: #008000; text-decoration-color: #008000; font-weight: bold\">🤖 Agent: </span><span style=\"color: #008000; text-decoration-color: #008000\">Periodista católico, experto en analizar y estructurar textos del Papa y de la Iglesia</span>\n",
              "        <span style=\"color: #c0c0c0; text-decoration-color: #c0c0c0\">    Status: </span><span style=\"color: #008000; text-decoration-color: #008000; font-weight: bold\">In Progress</span>\n",
              "</pre>\n"
            ],
            "text/plain": [
              "\u001b[1;36m🚀 Crew: \u001b[0m\u001b[1;36mcrew\u001b[0m\n",
              "└── \u001b[1;33m📋 Task: b2124eda-05b6-4650-892c-d38052fd2218\u001b[0m\n",
              "    \u001b[37m   Status: \u001b[0m\u001b[2;33mExecuting Task...\u001b[0m\n",
              "    └── \u001b[1;32m🤖 Agent: \u001b[0m\u001b[32mPeriodista católico, experto en analizar y estructurar textos del Papa y de la Iglesia\u001b[0m\n",
              "        \u001b[37m    Status: \u001b[0m\u001b[1;32mIn Progress\u001b[0m\n"
            ]
          },
          "metadata": {},
          "output_type": "display_data"
        },
        {
          "data": {
            "text/html": [
              "<pre style=\"white-space:pre;overflow-x:auto;line-height:normal;font-family:Menlo,'DejaVu Sans Mono',consolas,'Courier New',monospace\">\n",
              "</pre>\n"
            ],
            "text/plain": [
              "\n"
            ]
          },
          "metadata": {},
          "output_type": "display_data"
        },
        {
          "name": "stdout",
          "output_type": "stream",
          "text": [
            "\u001b[1m\u001b[95m# Agent:\u001b[00m \u001b[1m\u001b[92mPeriodista católico, experto en analizar y estructurar textos del Papa y de la Iglesia\u001b[00m\n",
            "\u001b[95m## Task:\u001b[00m \u001b[92mAnaliza en profundidad el siguiente texto eclesiástico.\n",
            "            Título: \"V Domingo de Pascua – Celebración Eucarística por el inicio del ministerio petrino del obispo de Roma León XIV (18 de mayo de 2025)\"\n",
            "            Tipo de Documento: \"Homilia\"\n",
            "            URL Original: \"https://www.vatican.va/content/leo-xiv/es/homilies/2025/documents/20250518-inizio-pontificato.html\"\n",
            "            Texto: \"CELEBRACIÓN EUCARÍSTICA CON MOTIVO DEL INICIO DEL MINISTERIO PETRINO DEL OBISPO DE ROMA LEÓN XIV\n",
            "HOMILÍA DE SU SANTIDAD EL PAPA LEÓN XIV\n",
            "Plaza de San Pedro Domingo 18 de mayo de 2025\n",
            "[ Multimedia ]\n",
            "___________________\n",
            "Queridos hermanos cardenales, hermanos en el episcopado y en el sacerdocio, distinguidas autoridades y miembros del Cuerpo diplomático, ¡Saludos a los peregrinos que han venido al Jubileo de las Cofradías! hermanos y hermanas:\n",
            "Los saludo a todos con el corazón lleno de gratitud, al inicio del ministerio que me ha sido confiado. Escribía san Agustín: «Nos has hecho para ti, [Señor,] y nuestro corazón está inquieto hasta que descanse en ti» ( Confesiones , 1,1.1).\n",
            "En estos últimos días, hemos vivido un tiempo particularmente intenso. La muerte del Papa Francisco ha llenado de tristeza nuestros corazones y, en esas horas difíciles, nos hemos sentido como esas multitudes que el Evangelio describe «como ovejas que no tienen pastor» ( Mt 9,36). Precisamente en el día de Pascua recibimos su última bendición y, a la luz de la resurrección, afrontamos ese momento con la certeza de que el Señor nunca abandona a su pueblo, lo reúne cuando está disperso y lo cuida «como un pastor a su rebaño» ( Jr 31,10).\n",
            "Con este espíritu de fe, el Colegio de los cardenales se reunió para el cónclave; llegando con historias personales y caminos diferentes, hemos puesto en las manos de Dios el deseo de elegir al nuevo sucesor de Pedro, el Obispo de Roma, un pastor capaz de custodiar el rico patrimonio de la fe cristiana y, al mismo tiempo, de mirar más allá, para saber afrontar los interrogantes, las inquietudes y los desafíos de hoy. Acompañados por sus oraciones, hemos experimentado la obra del Espíritu Santo, que ha sabido armonizar los distintos instrumentos musicales, haciendo vibrar las cuerdas de nuestro corazón en una única melodía.\n",
            "Fui elegido sin tener ningún mérito y, con temor y trepidación, vengo a ustedes como un hermano que quiere hacerse siervo de su fe y de su alegría, caminando con ustedes por el camino del amor de Dios, que nos quiere a todos unidos en una única familia.\n",
            "Amor y unidad : estas son las dos dimensiones de la misión que Jesús confió a Pedro.\n",
            "Nos lo narra ese pasaje del Evangelio que nos conduce al lago de Tiberíades, el mismo donde Jesús había comenzado la misión recibida del Padre: “pescar” a la humanidad para salvarla de las aguas del mal y de la muerte. Pasando por la orilla de ese lago, había llamado a Pedro y a los primeros discípulos a ser como Él “pescadores de hombres”; y ahora, después de la resurrección, les corresponde precisamente a ellos llevar adelante esta misión: no dejar de lanzar la red para sumergir la esperanza del Evangelio en las aguas del mundo; navegar en el mar de la vida para que todos puedan reunirse en el abrazo de Dios.\n",
            "¿Cómo puede Pedro llevar a cabo esta tarea? El Evangelio nos dice que es posible sólo porque ha experimentado en su propia vida el amor infinito e incondicional de Dios, incluso en la hora del fracaso y la negación. Por eso, cuando es Jesús quien se dirige a Pedro, el Evangelio usa el verbo griego agapao —que se refiere al amor que Dios tiene por nosotros, a su entrega sin reservas ni cálculos—, diferente al verbo usado para la respuesta de Pedro, que en cambio describe el amor de amistad, que intercambiamos entre nosotros.\n",
            "Cuando Jesús le pregunta a Pedro: «Simón, hijo de Juan, ¿me amas?» ( Jn 21,16), indica pues el amor del Padre. Es como si Jesús le dijera: sólo si has conocido y experimentado el amor de Dios, que nunca falla, podrás apacentar a mis corderos; sólo en el amor de Dios Padre podrás amar a tus hermanos “aún más”, es decir, hasta ofrecer la vida por ellos.\n",
            "A Pedro, pues, se le confía la tarea de “amar aún más” y de dar su vida por el rebaño. El ministerio de Pedro está marcado precisamente por este amor oblativo, porque la Iglesia de Roma preside en la caridad y su verdadera autoridad es la caridad de Cristo. No se trata nunca de atrapar a los demás con el sometimiento, con la propaganda religiosa o con los medios del poder, sino que se trata siempre y solamente de amar como lo hizo Jesús.\n",
            "Él —afirma el mismo apóstol Pedro— «es la piedra que ustedes, los constructores, han rechazado, y ha llegado a ser la piedra angular» ( Hch 4,11). Y si la piedra es Cristo, Pedro debe apacentar el rebaño sin ceder nunca a la tentación de ser un líder solitario o un jefe que está por encima de los demás, haciéndose dueño de las personas que le han sido confiadas (cf. 1 P 5,3); por el contrario, a él se le pide servir a la fe de sus hermanos, caminando junto con ellos.  Todos, en efecto, hemos sido constituidos «piedras vivas» ( 1 P 2,5), llamados con nuestro Bautismo a construir el edificio de Dios en la comunión fraterna, en la armonía del Espíritu, en la convivencia de las diferencias. Como afirma san Agustín: «Todos los que viven en concordia con los hermanos y aman a sus prójimos son los que componen la Iglesia» ( Sermón 359,9).\n",
            "Hermanos y hermanas, quisiera que este fuera nuestro primer gran deseo: una Iglesia unida, signo de unidad y comunión, que se convierta en fermento para un mundo reconciliado .\n",
            "En nuestro tiempo, vemos aún demasiada discordia, demasiadas heridas causadas por el odio, la violencia, los prejuicios, el miedo a lo diferente, por un paradigma económico que explota los recursos de la tierra y margina a los más pobres. Y nosotros queremos ser, dentro de esta masa, una pequeña levadura de unidad, de comunión y de fraternidad. Nosotros queremos decirle al mundo, con humildad y alegría: ¡miren a Cristo! ¡Acérquense a Él! ¡Acojan su Palabra que ilumina y consuela! Escuchen su propuesta de amor para formar su única familia: en el único Cristo somos uno . Y esta es la vía que hemos de recorrer juntos, unidos entre nosotros, pero también con las Iglesias cristianas hermanas, con quienes transitan otros caminos religiosos, con aquellos que cultivan la inquietud de la búsqueda de Dios, con todas las mujeres y los hombres de buena voluntad, para construir un mundo nuevo donde reine la paz.\n",
            "Este es el espíritu misionero que debe animarnos, sin encerrarnos en nuestro pequeño grupo ni sentirnos superiores al mundo; estamos llamados a ofrecer el amor de Dios a todos, para que se realice esa unidad que no anula las diferencias, sino que valora la historia personal de cada uno y la cultura social y religiosa de cada pueblo.\n",
            "Hermanos, hermanas, ¡esta es la hora del amor! La caridad de Dios, que nos hace hermanos entre nosotros, es el corazón del Evangelio. Con mi predecesor León XIII, hoy podemos preguntarnos: si esta caridad prevaleciera en el mundo, «¿no parece que acabaría por extinguirse bien pronto toda lucha allí donde ella entrara en vigor en la sociedad civil?» (Carta enc. Rerum novarum , 20).\n",
            "Con la luz y la fuerza del Espíritu Santo, construyamos una Iglesia fundada en el amor de Dios y signo de unidad, una Iglesia misionera, que abre los brazos al mundo, que anuncia la Palabra, que se deja cuestionar por la historia, y que se convierte en fermento de concordia para la humanidad.\n",
            "Juntos, como un solo pueblo, todos como hermanos, caminemos hacia Dios y amémonos los unos a los otros.\"\n",
            "\n",
            "            Tu análisis debe enfocarse en extraer la información clave y estructurarla.\n",
            "            Formatea tu respuesta exclusivamente como un objeto JSON. No incluyas ninguna explicación o texto introductorio fuera del JSON.\n",
            "            Asegúrate de incluir todos los campos solicitados en el JSON.\u001b[00m\n"
          ]
        },
        {
          "data": {
            "text/html": [
              "<pre style=\"white-space:pre;overflow-x:auto;line-height:normal;font-family:Menlo,'DejaVu Sans Mono',consolas,'Courier New',monospace\"><span style=\"color: #008000; text-decoration-color: #008000; font-weight: bold\">🤖 Agent: </span><span style=\"color: #008000; text-decoration-color: #008000\">Periodista católico, experto en analizar y estructurar textos del Papa y de la Iglesia</span>\n",
              "<span style=\"color: #c0c0c0; text-decoration-color: #c0c0c0\">    Status: </span><span style=\"color: #008000; text-decoration-color: #008000; font-weight: bold\">In Progress</span>\n",
              "└── <span style=\"color: #000080; text-decoration-color: #000080; font-weight: bold\">🧠 </span><span style=\"color: #000080; text-decoration-color: #000080\">Thinking...</span>\n",
              "</pre>\n"
            ],
            "text/plain": [
              "\u001b[1;32m🤖 Agent: \u001b[0m\u001b[32mPeriodista católico, experto en analizar y estructurar textos del Papa y de la Iglesia\u001b[0m\n",
              "\u001b[37m    Status: \u001b[0m\u001b[1;32mIn Progress\u001b[0m\n",
              "└── \u001b[1;34m🧠 \u001b[0m\u001b[34mThinking...\u001b[0m\n"
            ]
          },
          "metadata": {},
          "output_type": "display_data"
        },
        {
          "data": {
            "text/html": [
              "<pre style=\"white-space:pre;overflow-x:auto;line-height:normal;font-family:Menlo,'DejaVu Sans Mono',consolas,'Courier New',monospace\">\n",
              "</pre>\n"
            ],
            "text/plain": [
              "\n"
            ]
          },
          "metadata": {},
          "output_type": "display_data"
        },
        {
          "data": {
            "text/html": [
              "<pre style=\"white-space:pre;overflow-x:auto;line-height:normal;font-family:Menlo,'DejaVu Sans Mono',consolas,'Courier New',monospace\"><span style=\"color: #008000; text-decoration-color: #008000; font-weight: bold\">🤖 Agent: </span><span style=\"color: #008000; text-decoration-color: #008000\">Periodista católico, experto en analizar y estructurar textos del Papa y de la Iglesia</span>\n",
              "<span style=\"color: #c0c0c0; text-decoration-color: #c0c0c0\">    Status: </span><span style=\"color: #008000; text-decoration-color: #008000; font-weight: bold\">In Progress</span>\n",
              "</pre>\n"
            ],
            "text/plain": [
              "\u001b[1;32m🤖 Agent: \u001b[0m\u001b[32mPeriodista católico, experto en analizar y estructurar textos del Papa y de la Iglesia\u001b[0m\n",
              "\u001b[37m    Status: \u001b[0m\u001b[1;32mIn Progress\u001b[0m\n"
            ]
          },
          "metadata": {},
          "output_type": "display_data"
        },
        {
          "data": {
            "text/html": [
              "<pre style=\"white-space:pre;overflow-x:auto;line-height:normal;font-family:Menlo,'DejaVu Sans Mono',consolas,'Courier New',monospace\">\n",
              "</pre>\n"
            ],
            "text/plain": [
              "\n"
            ]
          },
          "metadata": {},
          "output_type": "display_data"
        },
        {
          "name": "stdout",
          "output_type": "stream",
          "text": [
            "\n",
            "\n",
            "\u001b[1m\u001b[95m# Agent:\u001b[00m \u001b[1m\u001b[92mPeriodista católico, experto en analizar y estructurar textos del Papa y de la Iglesia\u001b[00m\n",
            "\u001b[95m## Final Answer:\u001b[00m \u001b[92m\n",
            "{\n",
            "  \"fuente_documento\": \"V Domingo de Pascua – Celebración Eucarística por el inicio del ministerio petrino del obispo de Roma León XIV (18 de mayo de 2025)\",\n",
            "  \"tipo_documento\": \"Homilia\",\n",
            "  \"url_original\": \"https://www.vatican.va/content/leo-xiv/es/homilies/2025/documents/20250518-inizio-pontificato.html\",\n",
            "  \"resumen_general\": \"El Papa León XIV en su homilía destaca la misión de Pedro basada en el amor de Dios, la unidad de la Iglesia, y el compromiso de ser fermento de paz y fraternidad en el mundo, invitando a todos a caminar juntos en la caridad y la misión evangelizadora.\",\n",
            "  \"ideas_clave\": [\n",
            "    \"El inicio del ministerio petrino es una oportunidad para renovar el compromiso de amor y servicio en la Iglesia.\",\n",
            "    \"El amor de Dios, experimentado en la vida personal, es la base para amar y servir a los demás.\",\n",
            "    \"La unidad y comunión en la Iglesia son esenciales para ser testigos creíbles del Evangelio en el mundo.\",\n",
            "    \"La Iglesia debe ser fermento de reconciliación, paz y fraternidad en un mundo marcado por la discordia y la injusticia.\",\n",
            "    \"La misión de la Iglesia es ofrecer el amor de Dios a todos, promoviendo la diversidad y respetando las culturas y historias personales.\"\n",
            "  ],\n",
            "  \"tags_sugeridos\": [\"ministerio petrino\", \"unidad eclesial\", \"amor de Dios\", \"misión evangelizadora\", \"paz y fraternidad\"]\n",
            "}\u001b[00m\n",
            "\n",
            "\n"
          ]
        },
        {
          "data": {
            "text/html": [
              "<pre style=\"white-space:pre;overflow-x:auto;line-height:normal;font-family:Menlo,'DejaVu Sans Mono',consolas,'Courier New',monospace\"><span style=\"color: #008080; text-decoration-color: #008080; font-weight: bold\">🚀 Crew: crew</span>\n",
              "└── <span style=\"color: #808000; text-decoration-color: #808000; font-weight: bold\">📋 Task: b2124eda-05b6-4650-892c-d38052fd2218</span>\n",
              "    <span style=\"color: #c0c0c0; text-decoration-color: #c0c0c0\">   Status: </span><span style=\"color: #bfbf7f; text-decoration-color: #bfbf7f\">Executing Task...</span>\n",
              "    └── <span style=\"color: #008000; text-decoration-color: #008000; font-weight: bold\">🤖 Agent: </span><span style=\"color: #008000; text-decoration-color: #008000\">Periodista católico, experto en analizar y estructurar textos del Papa y de la Iglesia</span>\n",
              "        <span style=\"color: #c0c0c0; text-decoration-color: #c0c0c0\">    Status: </span><span style=\"color: #008000; text-decoration-color: #008000; font-weight: bold\">✅ Completed</span>\n",
              "</pre>\n"
            ],
            "text/plain": [
              "\u001b[1;36m🚀 Crew: \u001b[0m\u001b[1;36mcrew\u001b[0m\n",
              "└── \u001b[1;33m📋 Task: b2124eda-05b6-4650-892c-d38052fd2218\u001b[0m\n",
              "    \u001b[37m   Status: \u001b[0m\u001b[2;33mExecuting Task...\u001b[0m\n",
              "    └── \u001b[1;32m🤖 Agent: \u001b[0m\u001b[32mPeriodista católico, experto en analizar y estructurar textos del Papa y de la Iglesia\u001b[0m\n",
              "        \u001b[37m    Status: \u001b[0m\u001b[1;32m✅ Completed\u001b[0m\n"
            ]
          },
          "metadata": {},
          "output_type": "display_data"
        },
        {
          "data": {
            "text/html": [
              "<pre style=\"white-space:pre;overflow-x:auto;line-height:normal;font-family:Menlo,'DejaVu Sans Mono',consolas,'Courier New',monospace\">\n",
              "</pre>\n"
            ],
            "text/plain": [
              "\n"
            ]
          },
          "metadata": {},
          "output_type": "display_data"
        },
        {
          "data": {
            "text/html": [
              "<pre style=\"white-space:pre;overflow-x:auto;line-height:normal;font-family:Menlo,'DejaVu Sans Mono',consolas,'Courier New',monospace\"><span style=\"color: #008080; text-decoration-color: #008080; font-weight: bold\">🚀 Crew: crew</span>\n",
              "└── <span style=\"color: #008000; text-decoration-color: #008000; font-weight: bold\">📋 Task: b2124eda-05b6-4650-892c-d38052fd2218</span>\n",
              "    <span style=\"color: #c0c0c0; text-decoration-color: #c0c0c0\">   Assigned to: </span><span style=\"color: #008000; text-decoration-color: #008000\">Periodista católico, experto en analizar y estructurar textos del Papa y de la Iglesia</span>\n",
              "    <span style=\"color: #c0c0c0; text-decoration-color: #c0c0c0\">   Status: </span><span style=\"color: #008000; text-decoration-color: #008000; font-weight: bold\">✅ Completed</span>\n",
              "    └── <span style=\"color: #008000; text-decoration-color: #008000; font-weight: bold\">🤖 Agent: </span><span style=\"color: #008000; text-decoration-color: #008000\">Periodista católico, experto en analizar y estructurar textos del Papa y de la Iglesia</span>\n",
              "        <span style=\"color: #c0c0c0; text-decoration-color: #c0c0c0\">    Status: </span><span style=\"color: #008000; text-decoration-color: #008000; font-weight: bold\">✅ Completed</span>\n",
              "</pre>\n"
            ],
            "text/plain": [
              "\u001b[1;36m🚀 Crew: \u001b[0m\u001b[1;36mcrew\u001b[0m\n",
              "└── \u001b[1;32m📋 Task: b2124eda-05b6-4650-892c-d38052fd2218\u001b[0m\n",
              "    \u001b[37m   Assigned to: \u001b[0m\u001b[32mPeriodista católico, experto en analizar y estructurar textos del Papa y de la Iglesia\u001b[0m\n",
              "    \u001b[37m   Status: \u001b[0m\u001b[1;32m✅ Completed\u001b[0m\n",
              "    └── \u001b[1;32m🤖 Agent: \u001b[0m\u001b[32mPeriodista católico, experto en analizar y estructurar textos del Papa y de la Iglesia\u001b[0m\n",
              "        \u001b[37m    Status: \u001b[0m\u001b[1;32m✅ Completed\u001b[0m\n"
            ]
          },
          "metadata": {},
          "output_type": "display_data"
        },
        {
          "data": {
            "text/html": [
              "<pre style=\"white-space:pre;overflow-x:auto;line-height:normal;font-family:Menlo,'DejaVu Sans Mono',consolas,'Courier New',monospace\"><span style=\"color: #008000; text-decoration-color: #008000\">╭──────────────────────────────────────────────── Task Completion ────────────────────────────────────────────────╮</span>\n",
              "<span style=\"color: #008000; text-decoration-color: #008000\">│</span>                                                                                                                 <span style=\"color: #008000; text-decoration-color: #008000\">│</span>\n",
              "<span style=\"color: #008000; text-decoration-color: #008000\">│</span>  <span style=\"color: #008000; text-decoration-color: #008000; font-weight: bold\">Task Completed</span>                                                                                                 <span style=\"color: #008000; text-decoration-color: #008000\">│</span>\n",
              "<span style=\"color: #008000; text-decoration-color: #008000\">│</span>  <span style=\"color: #c0c0c0; text-decoration-color: #c0c0c0\">Name: </span><span style=\"color: #008000; text-decoration-color: #008000\">b2124eda-05b6-4650-892c-d38052fd2218</span>                                                                     <span style=\"color: #008000; text-decoration-color: #008000\">│</span>\n",
              "<span style=\"color: #008000; text-decoration-color: #008000\">│</span>  <span style=\"color: #c0c0c0; text-decoration-color: #c0c0c0\">Agent: </span><span style=\"color: #008000; text-decoration-color: #008000\">Periodista católico, experto en analizar y estructurar textos del Papa y de la Iglesia</span>                  <span style=\"color: #008000; text-decoration-color: #008000\">│</span>\n",
              "<span style=\"color: #008000; text-decoration-color: #008000\">│</span>                                                                                                                 <span style=\"color: #008000; text-decoration-color: #008000\">│</span>\n",
              "<span style=\"color: #008000; text-decoration-color: #008000\">│</span>                                                                                                                 <span style=\"color: #008000; text-decoration-color: #008000\">│</span>\n",
              "<span style=\"color: #008000; text-decoration-color: #008000\">╰─────────────────────────────────────────────────────────────────────────────────────────────────────────────────╯</span>\n",
              "</pre>\n"
            ],
            "text/plain": [
              "\u001b[32m╭─\u001b[0m\u001b[32m───────────────────────────────────────────────\u001b[0m\u001b[32m Task Completion \u001b[0m\u001b[32m───────────────────────────────────────────────\u001b[0m\u001b[32m─╮\u001b[0m\n",
              "\u001b[32m│\u001b[0m                                                                                                                 \u001b[32m│\u001b[0m\n",
              "\u001b[32m│\u001b[0m  \u001b[1;32mTask Completed\u001b[0m                                                                                                 \u001b[32m│\u001b[0m\n",
              "\u001b[32m│\u001b[0m  \u001b[37mName: \u001b[0m\u001b[32mb2124eda-05b6-4650-892c-d38052fd2218\u001b[0m                                                                     \u001b[32m│\u001b[0m\n",
              "\u001b[32m│\u001b[0m  \u001b[37mAgent: \u001b[0m\u001b[32mPeriodista católico, experto en analizar y estructurar textos del Papa y de la Iglesia\u001b[0m                  \u001b[32m│\u001b[0m\n",
              "\u001b[32m│\u001b[0m                                                                                                                 \u001b[32m│\u001b[0m\n",
              "\u001b[32m│\u001b[0m                                                                                                                 \u001b[32m│\u001b[0m\n",
              "\u001b[32m╰─────────────────────────────────────────────────────────────────────────────────────────────────────────────────╯\u001b[0m\n"
            ]
          },
          "metadata": {},
          "output_type": "display_data"
        },
        {
          "data": {
            "text/html": [
              "<pre style=\"white-space:pre;overflow-x:auto;line-height:normal;font-family:Menlo,'DejaVu Sans Mono',consolas,'Courier New',monospace\">\n",
              "</pre>\n"
            ],
            "text/plain": [
              "\n"
            ]
          },
          "metadata": {},
          "output_type": "display_data"
        },
        {
          "data": {
            "text/html": [
              "<pre style=\"white-space:pre;overflow-x:auto;line-height:normal;font-family:Menlo,'DejaVu Sans Mono',consolas,'Courier New',monospace\"><span style=\"color: #008080; text-decoration-color: #008080; font-weight: bold\">🚀 Crew: crew</span>\n",
              "├── <span style=\"color: #008000; text-decoration-color: #008000; font-weight: bold\">📋 Task: b2124eda-05b6-4650-892c-d38052fd2218</span>\n",
              "│   <span style=\"color: #c0c0c0; text-decoration-color: #c0c0c0\">   Assigned to: </span><span style=\"color: #008000; text-decoration-color: #008000\">Periodista católico, experto en analizar y estructurar textos del Papa y de la Iglesia</span>\n",
              "│   <span style=\"color: #c0c0c0; text-decoration-color: #c0c0c0\">   Status: </span><span style=\"color: #008000; text-decoration-color: #008000; font-weight: bold\">✅ Completed</span>\n",
              "│   └── <span style=\"color: #008000; text-decoration-color: #008000; font-weight: bold\">🤖 Agent: </span><span style=\"color: #008000; text-decoration-color: #008000\">Periodista católico, experto en analizar y estructurar textos del Papa y de la Iglesia</span>\n",
              "│       <span style=\"color: #c0c0c0; text-decoration-color: #c0c0c0\">    Status: </span><span style=\"color: #008000; text-decoration-color: #008000; font-weight: bold\">✅ Completed</span>\n",
              "└── <span style=\"color: #808000; text-decoration-color: #808000; font-weight: bold\">📋 Task: 00771583-504b-4321-97ab-2f2374cbe8f6</span>\n",
              "    <span style=\"color: #c0c0c0; text-decoration-color: #c0c0c0\">   Status: </span><span style=\"color: #bfbf7f; text-decoration-color: #bfbf7f\">Executing Task...</span>\n",
              "</pre>\n"
            ],
            "text/plain": [
              "\u001b[1;36m🚀 Crew: \u001b[0m\u001b[1;36mcrew\u001b[0m\n",
              "├── \u001b[1;32m📋 Task: b2124eda-05b6-4650-892c-d38052fd2218\u001b[0m\n",
              "│   \u001b[37m   Assigned to: \u001b[0m\u001b[32mPeriodista católico, experto en analizar y estructurar textos del Papa y de la Iglesia\u001b[0m\n",
              "│   \u001b[37m   Status: \u001b[0m\u001b[1;32m✅ Completed\u001b[0m\n",
              "│   └── \u001b[1;32m🤖 Agent: \u001b[0m\u001b[32mPeriodista católico, experto en analizar y estructurar textos del Papa y de la Iglesia\u001b[0m\n",
              "│       \u001b[37m    Status: \u001b[0m\u001b[1;32m✅ Completed\u001b[0m\n",
              "└── \u001b[1;33m📋 Task: 00771583-504b-4321-97ab-2f2374cbe8f6\u001b[0m\n",
              "    \u001b[37m   Status: \u001b[0m\u001b[2;33mExecuting Task...\u001b[0m\n"
            ]
          },
          "metadata": {},
          "output_type": "display_data"
        },
        {
          "data": {
            "text/html": [
              "<pre style=\"white-space:pre;overflow-x:auto;line-height:normal;font-family:Menlo,'DejaVu Sans Mono',consolas,'Courier New',monospace\">\n",
              "</pre>\n"
            ],
            "text/plain": [
              "\n"
            ]
          },
          "metadata": {},
          "output_type": "display_data"
        },
        {
          "data": {
            "text/html": [
              "<pre style=\"white-space:pre;overflow-x:auto;line-height:normal;font-family:Menlo,'DejaVu Sans Mono',consolas,'Courier New',monospace\"><span style=\"color: #008080; text-decoration-color: #008080; font-weight: bold\">🚀 Crew: crew</span>\n",
              "├── <span style=\"color: #008000; text-decoration-color: #008000; font-weight: bold\">📋 Task: b2124eda-05b6-4650-892c-d38052fd2218</span>\n",
              "│   <span style=\"color: #c0c0c0; text-decoration-color: #c0c0c0\">   Assigned to: </span><span style=\"color: #008000; text-decoration-color: #008000\">Periodista católico, experto en analizar y estructurar textos del Papa y de la Iglesia</span>\n",
              "│   <span style=\"color: #c0c0c0; text-decoration-color: #c0c0c0\">   Status: </span><span style=\"color: #008000; text-decoration-color: #008000; font-weight: bold\">✅ Completed</span>\n",
              "│   └── <span style=\"color: #008000; text-decoration-color: #008000; font-weight: bold\">🤖 Agent: </span><span style=\"color: #008000; text-decoration-color: #008000\">Periodista católico, experto en analizar y estructurar textos del Papa y de la Iglesia</span>\n",
              "│       <span style=\"color: #c0c0c0; text-decoration-color: #c0c0c0\">    Status: </span><span style=\"color: #008000; text-decoration-color: #008000; font-weight: bold\">✅ Completed</span>\n",
              "└── <span style=\"color: #808000; text-decoration-color: #808000; font-weight: bold\">📋 Task: 00771583-504b-4321-97ab-2f2374cbe8f6</span>\n",
              "    <span style=\"color: #c0c0c0; text-decoration-color: #c0c0c0\">   Status: </span><span style=\"color: #bfbf7f; text-decoration-color: #bfbf7f\">Executing Task...</span>\n",
              "    └── <span style=\"color: #008000; text-decoration-color: #008000; font-weight: bold\">🤖 Agent: </span><span style=\"color: #008000; text-decoration-color: #008000\">Periodista católico, experto en analizar y estructurar textos del Papa y de la Iglesia</span>\n",
              "        <span style=\"color: #c0c0c0; text-decoration-color: #c0c0c0\">    Status: </span><span style=\"color: #008000; text-decoration-color: #008000; font-weight: bold\">In Progress</span>\n",
              "</pre>\n"
            ],
            "text/plain": [
              "\u001b[1;36m🚀 Crew: \u001b[0m\u001b[1;36mcrew\u001b[0m\n",
              "├── \u001b[1;32m📋 Task: b2124eda-05b6-4650-892c-d38052fd2218\u001b[0m\n",
              "│   \u001b[37m   Assigned to: \u001b[0m\u001b[32mPeriodista católico, experto en analizar y estructurar textos del Papa y de la Iglesia\u001b[0m\n",
              "│   \u001b[37m   Status: \u001b[0m\u001b[1;32m✅ Completed\u001b[0m\n",
              "│   └── \u001b[1;32m🤖 Agent: \u001b[0m\u001b[32mPeriodista católico, experto en analizar y estructurar textos del Papa y de la Iglesia\u001b[0m\n",
              "│       \u001b[37m    Status: \u001b[0m\u001b[1;32m✅ Completed\u001b[0m\n",
              "└── \u001b[1;33m📋 Task: 00771583-504b-4321-97ab-2f2374cbe8f6\u001b[0m\n",
              "    \u001b[37m   Status: \u001b[0m\u001b[2;33mExecuting Task...\u001b[0m\n",
              "    └── \u001b[1;32m🤖 Agent: \u001b[0m\u001b[32mPeriodista católico, experto en analizar y estructurar textos del Papa y de la Iglesia\u001b[0m\n",
              "        \u001b[37m    Status: \u001b[0m\u001b[1;32mIn Progress\u001b[0m\n"
            ]
          },
          "metadata": {},
          "output_type": "display_data"
        },
        {
          "data": {
            "text/html": [
              "<pre style=\"white-space:pre;overflow-x:auto;line-height:normal;font-family:Menlo,'DejaVu Sans Mono',consolas,'Courier New',monospace\">\n",
              "</pre>\n"
            ],
            "text/plain": [
              "\n"
            ]
          },
          "metadata": {},
          "output_type": "display_data"
        },
        {
          "name": "stdout",
          "output_type": "stream",
          "text": [
            "\u001b[1m\u001b[95m# Agent:\u001b[00m \u001b[1m\u001b[92mPeriodista católico, experto en analizar y estructurar textos del Papa y de la Iglesia\u001b[00m\n",
            "\u001b[95m## Task:\u001b[00m \u001b[92mAnaliza en profundidad el siguiente texto eclesiástico.\n",
            "            Título: \"Regina Caeli, 18 de mayo de 2025\"\n",
            "            Tipo de Documento: \"Angelus\"\n",
            "            URL Original: \"https://www.vatican.va/content/leo-xiv/es/angelus/2025/documents/20250518-regina-caeli.html\"\n",
            "            Texto: \"PAPA LEÓN XIV\n",
            "Santa Misa de Inicio del Ministerio Petrino\n",
            "Regina Caeli al finalizar la Misa\n",
            "Plaza de San Pedro Domingo 18 de mayo de 2025\n",
            "[ Multimedia ]\n",
            "________________________________________\n",
            "\n",
            "Al final de esta celebración , los saludo y les doy las gracias a todos ustedes, romanos y fieles de tantas partes del mundo, que han querido participar.\n",
            "Expreso mi gratitud en particular a las Delegaciones oficiales de numerosos países, así como a los representantes de las Iglesias y Comunidades eclesiales y de otras religiones.\n",
            "Dirijo un cordial saludo a los miles de peregrinos que han acudido de todos los continentes con ocasión del Jubileo de las Cofradías. Queridos hermanos, les agradezco que mantengan vivo el gran patrimonio de la piedad popular.\n",
            "Durante la Misa sentí fuertemente la presencia espiritual del Papa Francisco, que desde el cielo nos acompaña. En esta dimensión de comunión de los santos recuerdo que ayer en Chambéry, Francia, fue beatificado el sacerdote Camille Costa de Beauregard, que vivió entre finales del siglo XIX y principios del XX, testigo de una gran caridad pastoral.\n",
            "En la alegría de la fe y de la comunión no podemos olvidarnos de los hermanos y hermanas que sufren a causa de las guerras. En Gaza, los niños, las familias y los ancianos supervivientes están pasando hambre. En Myanmar, nuevas hostilidades han destruido vidas inocentes. La atormentada Ucrania espera por fin negociaciones para una paz justa y duradera.\n",
            "Por eso, mientras encomendamos a María el servicio del Obispo de Roma, Pastor de la Iglesia universal, desde la “barca de Pedro” contemplémosla a ella, Estrella del mar, Madre del Buen Consejo, como signo de esperanza. Imploremos por su intercesión el don de la paz, el auxilio y el consuelo para los que sufren y, para todos nosotros, la gracia de ser testigos del Señor Resucitado.\"\n",
            "\n",
            "            Tu análisis debe enfocarse en extraer la información clave y estructurarla.\n",
            "            Formatea tu respuesta exclusivamente como un objeto JSON. No incluyas ninguna explicación o texto introductorio fuera del JSON.\n",
            "            Asegúrate de incluir todos los campos solicitados en el JSON.\u001b[00m\n",
            "\n",
            "\n",
            "\u001b[1m\u001b[95m# Agent:\u001b[00m \u001b[1m\u001b[92mPeriodista católico, experto en analizar y estructurar textos del Papa y de la Iglesia\u001b[00m\n",
            "\u001b[95m## Final Answer:\u001b[00m \u001b[92m\n",
            "{\n",
            "  \"fuente_documento\": \"Regina Caeli, 18 de mayo de 2025\",\n",
            "  \"tipo_documento\": \"Angelus\",\n",
            "  \"url_original\": \"https://www.vatican.va/content/leo-xiv/es/angelus/2025/documents/20250518-regina-caeli.html\",\n",
            "  \"resumen_general\": \"El Papa León XIV en su Regina Caeli invita a la comunidad a orar por la paz en el mundo, recordando la presencia espiritual del Papa Francisco, y destacando la importancia de la comunión, la esperanza en María y la solidaridad con los que sufren en diversas regiones afectadas por conflictos y hambre.\",\n",
            "  \"ideas_clave\": [\n",
            "    \"La celebración del Regina Caeli expresa gratitud por la participación de fieles, delegaciones y comunidades eclesiales en el Jubileo de las Cofradías.\",\n",
            "    \"Se recuerda la presencia espiritual del Papa Francisco, ejemplo de comunión en la Iglesia, y la beatificación del sacerdote Camille Costa de Beauregard como testimonio de caridad pastoral.\",\n",
            "    \"Es fundamental orar por la paz en Gaza, Myanmar y Ucrania, y por quienes sufren por guerras, hambre y destrucción.\",\n",
            "    \"María, como Estrella del mar y Madre del Buen Consejo, es un signo de esperanza y mediadora de paz, auxilio y consuelo para los que padecen.\",\n",
            "    \"La oración y la confianza en María fortalecen la misión de los cristianos de ser testigos del Resucitado en el mundo.\"\n",
            "  ],\n",
            "  \"tags_sugeridos\": [\"Regina Caeli\", \"paz mundial\", \"comunión eclesial\", \"oración por los conflictos\", \"María, Madre del Buen Consejo\"]\n",
            "}\u001b[00m\n",
            "\n",
            "\n"
          ]
        },
        {
          "data": {
            "text/html": [
              "<pre style=\"white-space:pre;overflow-x:auto;line-height:normal;font-family:Menlo,'DejaVu Sans Mono',consolas,'Courier New',monospace\"><span style=\"color: #008080; text-decoration-color: #008080; font-weight: bold\">🚀 Crew: crew</span>\n",
              "├── <span style=\"color: #008000; text-decoration-color: #008000; font-weight: bold\">📋 Task: b2124eda-05b6-4650-892c-d38052fd2218</span>\n",
              "│   <span style=\"color: #c0c0c0; text-decoration-color: #c0c0c0\">   Assigned to: </span><span style=\"color: #008000; text-decoration-color: #008000\">Periodista católico, experto en analizar y estructurar textos del Papa y de la Iglesia</span>\n",
              "│   <span style=\"color: #c0c0c0; text-decoration-color: #c0c0c0\">   Status: </span><span style=\"color: #008000; text-decoration-color: #008000; font-weight: bold\">✅ Completed</span>\n",
              "│   └── <span style=\"color: #008000; text-decoration-color: #008000; font-weight: bold\">🤖 Agent: </span><span style=\"color: #008000; text-decoration-color: #008000\">Periodista católico, experto en analizar y estructurar textos del Papa y de la Iglesia</span>\n",
              "│       <span style=\"color: #c0c0c0; text-decoration-color: #c0c0c0\">    Status: </span><span style=\"color: #008000; text-decoration-color: #008000; font-weight: bold\">✅ Completed</span>\n",
              "└── <span style=\"color: #808000; text-decoration-color: #808000; font-weight: bold\">📋 Task: 00771583-504b-4321-97ab-2f2374cbe8f6</span>\n",
              "    <span style=\"color: #c0c0c0; text-decoration-color: #c0c0c0\">   Status: </span><span style=\"color: #bfbf7f; text-decoration-color: #bfbf7f\">Executing Task...</span>\n",
              "    └── <span style=\"color: #008000; text-decoration-color: #008000; font-weight: bold\">🤖 Agent: </span><span style=\"color: #008000; text-decoration-color: #008000\">Periodista católico, experto en analizar y estructurar textos del Papa y de la Iglesia</span>\n",
              "        <span style=\"color: #c0c0c0; text-decoration-color: #c0c0c0\">    Status: </span><span style=\"color: #008000; text-decoration-color: #008000; font-weight: bold\">✅ Completed</span>\n",
              "</pre>\n"
            ],
            "text/plain": [
              "\u001b[1;36m🚀 Crew: \u001b[0m\u001b[1;36mcrew\u001b[0m\n",
              "├── \u001b[1;32m📋 Task: b2124eda-05b6-4650-892c-d38052fd2218\u001b[0m\n",
              "│   \u001b[37m   Assigned to: \u001b[0m\u001b[32mPeriodista católico, experto en analizar y estructurar textos del Papa y de la Iglesia\u001b[0m\n",
              "│   \u001b[37m   Status: \u001b[0m\u001b[1;32m✅ Completed\u001b[0m\n",
              "│   └── \u001b[1;32m🤖 Agent: \u001b[0m\u001b[32mPeriodista católico, experto en analizar y estructurar textos del Papa y de la Iglesia\u001b[0m\n",
              "│       \u001b[37m    Status: \u001b[0m\u001b[1;32m✅ Completed\u001b[0m\n",
              "└── \u001b[1;33m📋 Task: 00771583-504b-4321-97ab-2f2374cbe8f6\u001b[0m\n",
              "    \u001b[37m   Status: \u001b[0m\u001b[2;33mExecuting Task...\u001b[0m\n",
              "    └── \u001b[1;32m🤖 Agent: \u001b[0m\u001b[32mPeriodista católico, experto en analizar y estructurar textos del Papa y de la Iglesia\u001b[0m\n",
              "        \u001b[37m    Status: \u001b[0m\u001b[1;32m✅ Completed\u001b[0m\n"
            ]
          },
          "metadata": {},
          "output_type": "display_data"
        },
        {
          "data": {
            "text/html": [
              "<pre style=\"white-space:pre;overflow-x:auto;line-height:normal;font-family:Menlo,'DejaVu Sans Mono',consolas,'Courier New',monospace\">\n",
              "</pre>\n"
            ],
            "text/plain": [
              "\n"
            ]
          },
          "metadata": {},
          "output_type": "display_data"
        },
        {
          "data": {
            "text/html": [
              "<pre style=\"white-space:pre;overflow-x:auto;line-height:normal;font-family:Menlo,'DejaVu Sans Mono',consolas,'Courier New',monospace\"><span style=\"color: #008080; text-decoration-color: #008080; font-weight: bold\">🚀 Crew: crew</span>\n",
              "├── <span style=\"color: #008000; text-decoration-color: #008000; font-weight: bold\">📋 Task: b2124eda-05b6-4650-892c-d38052fd2218</span>\n",
              "│   <span style=\"color: #c0c0c0; text-decoration-color: #c0c0c0\">   Assigned to: </span><span style=\"color: #008000; text-decoration-color: #008000\">Periodista católico, experto en analizar y estructurar textos del Papa y de la Iglesia</span>\n",
              "│   <span style=\"color: #c0c0c0; text-decoration-color: #c0c0c0\">   Status: </span><span style=\"color: #008000; text-decoration-color: #008000; font-weight: bold\">✅ Completed</span>\n",
              "│   └── <span style=\"color: #008000; text-decoration-color: #008000; font-weight: bold\">🤖 Agent: </span><span style=\"color: #008000; text-decoration-color: #008000\">Periodista católico, experto en analizar y estructurar textos del Papa y de la Iglesia</span>\n",
              "│       <span style=\"color: #c0c0c0; text-decoration-color: #c0c0c0\">    Status: </span><span style=\"color: #008000; text-decoration-color: #008000; font-weight: bold\">✅ Completed</span>\n",
              "└── <span style=\"color: #008000; text-decoration-color: #008000; font-weight: bold\">📋 Task: 00771583-504b-4321-97ab-2f2374cbe8f6</span>\n",
              "    <span style=\"color: #c0c0c0; text-decoration-color: #c0c0c0\">   Assigned to: </span><span style=\"color: #008000; text-decoration-color: #008000\">Periodista católico, experto en analizar y estructurar textos del Papa y de la Iglesia</span>\n",
              "    <span style=\"color: #c0c0c0; text-decoration-color: #c0c0c0\">   Status: </span><span style=\"color: #008000; text-decoration-color: #008000; font-weight: bold\">✅ Completed</span>\n",
              "    └── <span style=\"color: #008000; text-decoration-color: #008000; font-weight: bold\">🤖 Agent: </span><span style=\"color: #008000; text-decoration-color: #008000\">Periodista católico, experto en analizar y estructurar textos del Papa y de la Iglesia</span>\n",
              "        <span style=\"color: #c0c0c0; text-decoration-color: #c0c0c0\">    Status: </span><span style=\"color: #008000; text-decoration-color: #008000; font-weight: bold\">✅ Completed</span>\n",
              "</pre>\n"
            ],
            "text/plain": [
              "\u001b[1;36m🚀 Crew: \u001b[0m\u001b[1;36mcrew\u001b[0m\n",
              "├── \u001b[1;32m📋 Task: b2124eda-05b6-4650-892c-d38052fd2218\u001b[0m\n",
              "│   \u001b[37m   Assigned to: \u001b[0m\u001b[32mPeriodista católico, experto en analizar y estructurar textos del Papa y de la Iglesia\u001b[0m\n",
              "│   \u001b[37m   Status: \u001b[0m\u001b[1;32m✅ Completed\u001b[0m\n",
              "│   └── \u001b[1;32m🤖 Agent: \u001b[0m\u001b[32mPeriodista católico, experto en analizar y estructurar textos del Papa y de la Iglesia\u001b[0m\n",
              "│       \u001b[37m    Status: \u001b[0m\u001b[1;32m✅ Completed\u001b[0m\n",
              "└── \u001b[1;32m📋 Task: 00771583-504b-4321-97ab-2f2374cbe8f6\u001b[0m\n",
              "    \u001b[37m   Assigned to: \u001b[0m\u001b[32mPeriodista católico, experto en analizar y estructurar textos del Papa y de la Iglesia\u001b[0m\n",
              "    \u001b[37m   Status: \u001b[0m\u001b[1;32m✅ Completed\u001b[0m\n",
              "    └── \u001b[1;32m🤖 Agent: \u001b[0m\u001b[32mPeriodista católico, experto en analizar y estructurar textos del Papa y de la Iglesia\u001b[0m\n",
              "        \u001b[37m    Status: \u001b[0m\u001b[1;32m✅ Completed\u001b[0m\n"
            ]
          },
          "metadata": {},
          "output_type": "display_data"
        },
        {
          "data": {
            "text/html": [
              "<pre style=\"white-space:pre;overflow-x:auto;line-height:normal;font-family:Menlo,'DejaVu Sans Mono',consolas,'Courier New',monospace\"><span style=\"color: #008000; text-decoration-color: #008000\">╭──────────────────────────────────────────────── Task Completion ────────────────────────────────────────────────╮</span>\n",
              "<span style=\"color: #008000; text-decoration-color: #008000\">│</span>                                                                                                                 <span style=\"color: #008000; text-decoration-color: #008000\">│</span>\n",
              "<span style=\"color: #008000; text-decoration-color: #008000\">│</span>  <span style=\"color: #008000; text-decoration-color: #008000; font-weight: bold\">Task Completed</span>                                                                                                 <span style=\"color: #008000; text-decoration-color: #008000\">│</span>\n",
              "<span style=\"color: #008000; text-decoration-color: #008000\">│</span>  <span style=\"color: #c0c0c0; text-decoration-color: #c0c0c0\">Name: </span><span style=\"color: #008000; text-decoration-color: #008000\">00771583-504b-4321-97ab-2f2374cbe8f6</span>                                                                     <span style=\"color: #008000; text-decoration-color: #008000\">│</span>\n",
              "<span style=\"color: #008000; text-decoration-color: #008000\">│</span>  <span style=\"color: #c0c0c0; text-decoration-color: #c0c0c0\">Agent: </span><span style=\"color: #008000; text-decoration-color: #008000\">Periodista católico, experto en analizar y estructurar textos del Papa y de la Iglesia</span>                  <span style=\"color: #008000; text-decoration-color: #008000\">│</span>\n",
              "<span style=\"color: #008000; text-decoration-color: #008000\">│</span>                                                                                                                 <span style=\"color: #008000; text-decoration-color: #008000\">│</span>\n",
              "<span style=\"color: #008000; text-decoration-color: #008000\">│</span>                                                                                                                 <span style=\"color: #008000; text-decoration-color: #008000\">│</span>\n",
              "<span style=\"color: #008000; text-decoration-color: #008000\">╰─────────────────────────────────────────────────────────────────────────────────────────────────────────────────╯</span>\n",
              "</pre>\n"
            ],
            "text/plain": [
              "\u001b[32m╭─\u001b[0m\u001b[32m───────────────────────────────────────────────\u001b[0m\u001b[32m Task Completion \u001b[0m\u001b[32m───────────────────────────────────────────────\u001b[0m\u001b[32m─╮\u001b[0m\n",
              "\u001b[32m│\u001b[0m                                                                                                                 \u001b[32m│\u001b[0m\n",
              "\u001b[32m│\u001b[0m  \u001b[1;32mTask Completed\u001b[0m                                                                                                 \u001b[32m│\u001b[0m\n",
              "\u001b[32m│\u001b[0m  \u001b[37mName: \u001b[0m\u001b[32m00771583-504b-4321-97ab-2f2374cbe8f6\u001b[0m                                                                     \u001b[32m│\u001b[0m\n",
              "\u001b[32m│\u001b[0m  \u001b[37mAgent: \u001b[0m\u001b[32mPeriodista católico, experto en analizar y estructurar textos del Papa y de la Iglesia\u001b[0m                  \u001b[32m│\u001b[0m\n",
              "\u001b[32m│\u001b[0m                                                                                                                 \u001b[32m│\u001b[0m\n",
              "\u001b[32m│\u001b[0m                                                                                                                 \u001b[32m│\u001b[0m\n",
              "\u001b[32m╰─────────────────────────────────────────────────────────────────────────────────────────────────────────────────╯\u001b[0m\n"
            ]
          },
          "metadata": {},
          "output_type": "display_data"
        },
        {
          "data": {
            "text/html": [
              "<pre style=\"white-space:pre;overflow-x:auto;line-height:normal;font-family:Menlo,'DejaVu Sans Mono',consolas,'Courier New',monospace\">\n",
              "</pre>\n"
            ],
            "text/plain": [
              "\n"
            ]
          },
          "metadata": {},
          "output_type": "display_data"
        },
        {
          "data": {
            "text/html": [
              "<pre style=\"white-space:pre;overflow-x:auto;line-height:normal;font-family:Menlo,'DejaVu Sans Mono',consolas,'Courier New',monospace\"><span style=\"color: #008080; text-decoration-color: #008080; font-weight: bold\">🚀 Crew: crew</span>\n",
              "├── <span style=\"color: #008000; text-decoration-color: #008000; font-weight: bold\">📋 Task: b2124eda-05b6-4650-892c-d38052fd2218</span>\n",
              "│   <span style=\"color: #c0c0c0; text-decoration-color: #c0c0c0\">   Assigned to: </span><span style=\"color: #008000; text-decoration-color: #008000\">Periodista católico, experto en analizar y estructurar textos del Papa y de la Iglesia</span>\n",
              "│   <span style=\"color: #c0c0c0; text-decoration-color: #c0c0c0\">   Status: </span><span style=\"color: #008000; text-decoration-color: #008000; font-weight: bold\">✅ Completed</span>\n",
              "│   └── <span style=\"color: #008000; text-decoration-color: #008000; font-weight: bold\">🤖 Agent: </span><span style=\"color: #008000; text-decoration-color: #008000\">Periodista católico, experto en analizar y estructurar textos del Papa y de la Iglesia</span>\n",
              "│       <span style=\"color: #c0c0c0; text-decoration-color: #c0c0c0\">    Status: </span><span style=\"color: #008000; text-decoration-color: #008000; font-weight: bold\">✅ Completed</span>\n",
              "├── <span style=\"color: #008000; text-decoration-color: #008000; font-weight: bold\">📋 Task: 00771583-504b-4321-97ab-2f2374cbe8f6</span>\n",
              "│   <span style=\"color: #c0c0c0; text-decoration-color: #c0c0c0\">   Assigned to: </span><span style=\"color: #008000; text-decoration-color: #008000\">Periodista católico, experto en analizar y estructurar textos del Papa y de la Iglesia</span>\n",
              "│   <span style=\"color: #c0c0c0; text-decoration-color: #c0c0c0\">   Status: </span><span style=\"color: #008000; text-decoration-color: #008000; font-weight: bold\">✅ Completed</span>\n",
              "│   └── <span style=\"color: #008000; text-decoration-color: #008000; font-weight: bold\">🤖 Agent: </span><span style=\"color: #008000; text-decoration-color: #008000\">Periodista católico, experto en analizar y estructurar textos del Papa y de la Iglesia</span>\n",
              "│       <span style=\"color: #c0c0c0; text-decoration-color: #c0c0c0\">    Status: </span><span style=\"color: #008000; text-decoration-color: #008000; font-weight: bold\">✅ Completed</span>\n",
              "└── <span style=\"color: #808000; text-decoration-color: #808000; font-weight: bold\">📋 Task: 9080e374-c583-4cc8-82a7-d3d99a39954e</span>\n",
              "    <span style=\"color: #c0c0c0; text-decoration-color: #c0c0c0\">   Status: </span><span style=\"color: #bfbf7f; text-decoration-color: #bfbf7f\">Executing Task...</span>\n",
              "</pre>\n"
            ],
            "text/plain": [
              "\u001b[1;36m🚀 Crew: \u001b[0m\u001b[1;36mcrew\u001b[0m\n",
              "├── \u001b[1;32m📋 Task: b2124eda-05b6-4650-892c-d38052fd2218\u001b[0m\n",
              "│   \u001b[37m   Assigned to: \u001b[0m\u001b[32mPeriodista católico, experto en analizar y estructurar textos del Papa y de la Iglesia\u001b[0m\n",
              "│   \u001b[37m   Status: \u001b[0m\u001b[1;32m✅ Completed\u001b[0m\n",
              "│   └── \u001b[1;32m🤖 Agent: \u001b[0m\u001b[32mPeriodista católico, experto en analizar y estructurar textos del Papa y de la Iglesia\u001b[0m\n",
              "│       \u001b[37m    Status: \u001b[0m\u001b[1;32m✅ Completed\u001b[0m\n",
              "├── \u001b[1;32m📋 Task: 00771583-504b-4321-97ab-2f2374cbe8f6\u001b[0m\n",
              "│   \u001b[37m   Assigned to: \u001b[0m\u001b[32mPeriodista católico, experto en analizar y estructurar textos del Papa y de la Iglesia\u001b[0m\n",
              "│   \u001b[37m   Status: \u001b[0m\u001b[1;32m✅ Completed\u001b[0m\n",
              "│   └── \u001b[1;32m🤖 Agent: \u001b[0m\u001b[32mPeriodista católico, experto en analizar y estructurar textos del Papa y de la Iglesia\u001b[0m\n",
              "│       \u001b[37m    Status: \u001b[0m\u001b[1;32m✅ Completed\u001b[0m\n",
              "└── \u001b[1;33m📋 Task: 9080e374-c583-4cc8-82a7-d3d99a39954e\u001b[0m\n",
              "    \u001b[37m   Status: \u001b[0m\u001b[2;33mExecuting Task...\u001b[0m\n"
            ]
          },
          "metadata": {},
          "output_type": "display_data"
        },
        {
          "data": {
            "text/html": [
              "<pre style=\"white-space:pre;overflow-x:auto;line-height:normal;font-family:Menlo,'DejaVu Sans Mono',consolas,'Courier New',monospace\">\n",
              "</pre>\n"
            ],
            "text/plain": [
              "\n"
            ]
          },
          "metadata": {},
          "output_type": "display_data"
        },
        {
          "data": {
            "text/html": [
              "<pre style=\"white-space:pre;overflow-x:auto;line-height:normal;font-family:Menlo,'DejaVu Sans Mono',consolas,'Courier New',monospace\"><span style=\"color: #008080; text-decoration-color: #008080; font-weight: bold\">🚀 Crew: crew</span>\n",
              "├── <span style=\"color: #008000; text-decoration-color: #008000; font-weight: bold\">📋 Task: b2124eda-05b6-4650-892c-d38052fd2218</span>\n",
              "│   <span style=\"color: #c0c0c0; text-decoration-color: #c0c0c0\">   Assigned to: </span><span style=\"color: #008000; text-decoration-color: #008000\">Periodista católico, experto en analizar y estructurar textos del Papa y de la Iglesia</span>\n",
              "│   <span style=\"color: #c0c0c0; text-decoration-color: #c0c0c0\">   Status: </span><span style=\"color: #008000; text-decoration-color: #008000; font-weight: bold\">✅ Completed</span>\n",
              "│   └── <span style=\"color: #008000; text-decoration-color: #008000; font-weight: bold\">🤖 Agent: </span><span style=\"color: #008000; text-decoration-color: #008000\">Periodista católico, experto en analizar y estructurar textos del Papa y de la Iglesia</span>\n",
              "│       <span style=\"color: #c0c0c0; text-decoration-color: #c0c0c0\">    Status: </span><span style=\"color: #008000; text-decoration-color: #008000; font-weight: bold\">✅ Completed</span>\n",
              "├── <span style=\"color: #008000; text-decoration-color: #008000; font-weight: bold\">📋 Task: 00771583-504b-4321-97ab-2f2374cbe8f6</span>\n",
              "│   <span style=\"color: #c0c0c0; text-decoration-color: #c0c0c0\">   Assigned to: </span><span style=\"color: #008000; text-decoration-color: #008000\">Periodista católico, experto en analizar y estructurar textos del Papa y de la Iglesia</span>\n",
              "│   <span style=\"color: #c0c0c0; text-decoration-color: #c0c0c0\">   Status: </span><span style=\"color: #008000; text-decoration-color: #008000; font-weight: bold\">✅ Completed</span>\n",
              "│   └── <span style=\"color: #008000; text-decoration-color: #008000; font-weight: bold\">🤖 Agent: </span><span style=\"color: #008000; text-decoration-color: #008000\">Periodista católico, experto en analizar y estructurar textos del Papa y de la Iglesia</span>\n",
              "│       <span style=\"color: #c0c0c0; text-decoration-color: #c0c0c0\">    Status: </span><span style=\"color: #008000; text-decoration-color: #008000; font-weight: bold\">✅ Completed</span>\n",
              "└── <span style=\"color: #808000; text-decoration-color: #808000; font-weight: bold\">📋 Task: 9080e374-c583-4cc8-82a7-d3d99a39954e</span>\n",
              "    <span style=\"color: #c0c0c0; text-decoration-color: #c0c0c0\">   Status: </span><span style=\"color: #bfbf7f; text-decoration-color: #bfbf7f\">Executing Task...</span>\n",
              "    └── <span style=\"color: #008000; text-decoration-color: #008000; font-weight: bold\">🤖 Agent: </span><span style=\"color: #008000; text-decoration-color: #008000\">Periodista católico, experto en analizar y estructurar textos del Papa y de la Iglesia</span>\n",
              "        <span style=\"color: #c0c0c0; text-decoration-color: #c0c0c0\">    Status: </span><span style=\"color: #008000; text-decoration-color: #008000; font-weight: bold\">In Progress</span>\n",
              "</pre>\n"
            ],
            "text/plain": [
              "\u001b[1;36m🚀 Crew: \u001b[0m\u001b[1;36mcrew\u001b[0m\n",
              "├── \u001b[1;32m📋 Task: b2124eda-05b6-4650-892c-d38052fd2218\u001b[0m\n",
              "│   \u001b[37m   Assigned to: \u001b[0m\u001b[32mPeriodista católico, experto en analizar y estructurar textos del Papa y de la Iglesia\u001b[0m\n",
              "│   \u001b[37m   Status: \u001b[0m\u001b[1;32m✅ Completed\u001b[0m\n",
              "│   └── \u001b[1;32m🤖 Agent: \u001b[0m\u001b[32mPeriodista católico, experto en analizar y estructurar textos del Papa y de la Iglesia\u001b[0m\n",
              "│       \u001b[37m    Status: \u001b[0m\u001b[1;32m✅ Completed\u001b[0m\n",
              "├── \u001b[1;32m📋 Task: 00771583-504b-4321-97ab-2f2374cbe8f6\u001b[0m\n",
              "│   \u001b[37m   Assigned to: \u001b[0m\u001b[32mPeriodista católico, experto en analizar y estructurar textos del Papa y de la Iglesia\u001b[0m\n",
              "│   \u001b[37m   Status: \u001b[0m\u001b[1;32m✅ Completed\u001b[0m\n",
              "│   └── \u001b[1;32m🤖 Agent: \u001b[0m\u001b[32mPeriodista católico, experto en analizar y estructurar textos del Papa y de la Iglesia\u001b[0m\n",
              "│       \u001b[37m    Status: \u001b[0m\u001b[1;32m✅ Completed\u001b[0m\n",
              "└── \u001b[1;33m📋 Task: 9080e374-c583-4cc8-82a7-d3d99a39954e\u001b[0m\n",
              "    \u001b[37m   Status: \u001b[0m\u001b[2;33mExecuting Task...\u001b[0m\n",
              "    └── \u001b[1;32m🤖 Agent: \u001b[0m\u001b[32mPeriodista católico, experto en analizar y estructurar textos del Papa y de la Iglesia\u001b[0m\n",
              "        \u001b[37m    Status: \u001b[0m\u001b[1;32mIn Progress\u001b[0m\n"
            ]
          },
          "metadata": {},
          "output_type": "display_data"
        },
        {
          "data": {
            "text/html": [
              "<pre style=\"white-space:pre;overflow-x:auto;line-height:normal;font-family:Menlo,'DejaVu Sans Mono',consolas,'Courier New',monospace\">\n",
              "</pre>\n"
            ],
            "text/plain": [
              "\n"
            ]
          },
          "metadata": {},
          "output_type": "display_data"
        },
        {
          "name": "stdout",
          "output_type": "stream",
          "text": [
            "\u001b[1m\u001b[95m# Agent:\u001b[00m \u001b[1m\u001b[92mPeriodista católico, experto en analizar y estructurar textos del Papa y de la Iglesia\u001b[00m\n",
            "\u001b[95m## Task:\u001b[00m \u001b[92mResumen de los resumenes recibidos\u001b[00m\n",
            "\n",
            "\n",
            "\u001b[1m\u001b[95m# Agent:\u001b[00m \u001b[1m\u001b[92mPeriodista católico, experto en analizar y estructurar textos del Papa y de la Iglesia\u001b[00m\n",
            "\u001b[95m## Final Answer:\u001b[00m \u001b[92m\n",
            "¡Bienvenidos al Resumen Semanal de Igles-IA! Esta semana, el Papa León XIV nos invita a reflexionar sobre la importancia del inicio del ministerio petrino, destacando que es una oportunidad para renovar nuestro compromiso de amor y servicio en la Iglesia, promoviendo la unidad, la paz y la fraternidad en el mundo. En su homilía, subraya que el amor de Dios, experimentado en lo personal, es la base para amar y servir a los demás, y que la misión de la Iglesia es ser fermento de reconciliación y respeto por la diversidad cultural.  \n",
            "\n",
            "Por otro lado, en su Angelus, el Papa nos llama a orar por la paz en Gaza, Myanmar y Ucrania, resaltando la presencia espiritual del Papa Francisco y la importancia de María como mediadora de esperanza y paz. Nos anima a confiar en María, Madre del Buen Consejo, y a fortalecer nuestra misión de testigos del Resucitado en medio de las dificultades y conflictos que enfrentan muchas regiones del mundo.  \n",
            "\n",
            "En resumen, esta semana nos invita a vivir en comunión, a fortalecer nuestra fe y a ser agentes de paz y fraternidad en nuestro entorno, siguiendo el ejemplo de Pedro y María.  \n",
            "\n",
            "Links a todas las URLs originales:  \n",
            "- Homilía del V Domingo de Pascua: [https://www.vatican.va/content/leo-xiv/es/homilies/2025/documents/20250518-inizio-pontificato.html](https://www.vatican.va/content/leo-xiv/es/homilies/2025/documents/20250518-inizio-pontificato.html)  \n",
            "- Angelus del 18 de mayo de 2025: [https://www.vatican.va/content/leo-xiv/es/angelus/2025/documents/20250518-regina-caeli.html](https://www.vatican.va/content/leo-xiv/es/angelus/2025/documents/20250518-regina-caeli.html)\u001b[00m\n",
            "\n",
            "\n"
          ]
        },
        {
          "data": {
            "text/html": [
              "<pre style=\"white-space:pre;overflow-x:auto;line-height:normal;font-family:Menlo,'DejaVu Sans Mono',consolas,'Courier New',monospace\"><span style=\"color: #008080; text-decoration-color: #008080; font-weight: bold\">🚀 Crew: crew</span>\n",
              "├── <span style=\"color: #008000; text-decoration-color: #008000; font-weight: bold\">📋 Task: b2124eda-05b6-4650-892c-d38052fd2218</span>\n",
              "│   <span style=\"color: #c0c0c0; text-decoration-color: #c0c0c0\">   Assigned to: </span><span style=\"color: #008000; text-decoration-color: #008000\">Periodista católico, experto en analizar y estructurar textos del Papa y de la Iglesia</span>\n",
              "│   <span style=\"color: #c0c0c0; text-decoration-color: #c0c0c0\">   Status: </span><span style=\"color: #008000; text-decoration-color: #008000; font-weight: bold\">✅ Completed</span>\n",
              "│   └── <span style=\"color: #008000; text-decoration-color: #008000; font-weight: bold\">🤖 Agent: </span><span style=\"color: #008000; text-decoration-color: #008000\">Periodista católico, experto en analizar y estructurar textos del Papa y de la Iglesia</span>\n",
              "│       <span style=\"color: #c0c0c0; text-decoration-color: #c0c0c0\">    Status: </span><span style=\"color: #008000; text-decoration-color: #008000; font-weight: bold\">✅ Completed</span>\n",
              "├── <span style=\"color: #008000; text-decoration-color: #008000; font-weight: bold\">📋 Task: 00771583-504b-4321-97ab-2f2374cbe8f6</span>\n",
              "│   <span style=\"color: #c0c0c0; text-decoration-color: #c0c0c0\">   Assigned to: </span><span style=\"color: #008000; text-decoration-color: #008000\">Periodista católico, experto en analizar y estructurar textos del Papa y de la Iglesia</span>\n",
              "│   <span style=\"color: #c0c0c0; text-decoration-color: #c0c0c0\">   Status: </span><span style=\"color: #008000; text-decoration-color: #008000; font-weight: bold\">✅ Completed</span>\n",
              "│   └── <span style=\"color: #008000; text-decoration-color: #008000; font-weight: bold\">🤖 Agent: </span><span style=\"color: #008000; text-decoration-color: #008000\">Periodista católico, experto en analizar y estructurar textos del Papa y de la Iglesia</span>\n",
              "│       <span style=\"color: #c0c0c0; text-decoration-color: #c0c0c0\">    Status: </span><span style=\"color: #008000; text-decoration-color: #008000; font-weight: bold\">✅ Completed</span>\n",
              "└── <span style=\"color: #808000; text-decoration-color: #808000; font-weight: bold\">📋 Task: 9080e374-c583-4cc8-82a7-d3d99a39954e</span>\n",
              "    <span style=\"color: #c0c0c0; text-decoration-color: #c0c0c0\">   Status: </span><span style=\"color: #bfbf7f; text-decoration-color: #bfbf7f\">Executing Task...</span>\n",
              "    └── <span style=\"color: #008000; text-decoration-color: #008000; font-weight: bold\">🤖 Agent: </span><span style=\"color: #008000; text-decoration-color: #008000\">Periodista católico, experto en analizar y estructurar textos del Papa y de la Iglesia</span>\n",
              "        <span style=\"color: #c0c0c0; text-decoration-color: #c0c0c0\">    Status: </span><span style=\"color: #008000; text-decoration-color: #008000; font-weight: bold\">✅ Completed</span>\n",
              "</pre>\n"
            ],
            "text/plain": [
              "\u001b[1;36m🚀 Crew: \u001b[0m\u001b[1;36mcrew\u001b[0m\n",
              "├── \u001b[1;32m📋 Task: b2124eda-05b6-4650-892c-d38052fd2218\u001b[0m\n",
              "│   \u001b[37m   Assigned to: \u001b[0m\u001b[32mPeriodista católico, experto en analizar y estructurar textos del Papa y de la Iglesia\u001b[0m\n",
              "│   \u001b[37m   Status: \u001b[0m\u001b[1;32m✅ Completed\u001b[0m\n",
              "│   └── \u001b[1;32m🤖 Agent: \u001b[0m\u001b[32mPeriodista católico, experto en analizar y estructurar textos del Papa y de la Iglesia\u001b[0m\n",
              "│       \u001b[37m    Status: \u001b[0m\u001b[1;32m✅ Completed\u001b[0m\n",
              "├── \u001b[1;32m📋 Task: 00771583-504b-4321-97ab-2f2374cbe8f6\u001b[0m\n",
              "│   \u001b[37m   Assigned to: \u001b[0m\u001b[32mPeriodista católico, experto en analizar y estructurar textos del Papa y de la Iglesia\u001b[0m\n",
              "│   \u001b[37m   Status: \u001b[0m\u001b[1;32m✅ Completed\u001b[0m\n",
              "│   └── \u001b[1;32m🤖 Agent: \u001b[0m\u001b[32mPeriodista católico, experto en analizar y estructurar textos del Papa y de la Iglesia\u001b[0m\n",
              "│       \u001b[37m    Status: \u001b[0m\u001b[1;32m✅ Completed\u001b[0m\n",
              "└── \u001b[1;33m📋 Task: 9080e374-c583-4cc8-82a7-d3d99a39954e\u001b[0m\n",
              "    \u001b[37m   Status: \u001b[0m\u001b[2;33mExecuting Task...\u001b[0m\n",
              "    └── \u001b[1;32m🤖 Agent: \u001b[0m\u001b[32mPeriodista católico, experto en analizar y estructurar textos del Papa y de la Iglesia\u001b[0m\n",
              "        \u001b[37m    Status: \u001b[0m\u001b[1;32m✅ Completed\u001b[0m\n"
            ]
          },
          "metadata": {},
          "output_type": "display_data"
        },
        {
          "data": {
            "text/html": [
              "<pre style=\"white-space:pre;overflow-x:auto;line-height:normal;font-family:Menlo,'DejaVu Sans Mono',consolas,'Courier New',monospace\">\n",
              "</pre>\n"
            ],
            "text/plain": [
              "\n"
            ]
          },
          "metadata": {},
          "output_type": "display_data"
        },
        {
          "data": {
            "text/html": [
              "<pre style=\"white-space:pre;overflow-x:auto;line-height:normal;font-family:Menlo,'DejaVu Sans Mono',consolas,'Courier New',monospace\"><span style=\"color: #008080; text-decoration-color: #008080; font-weight: bold\">🚀 Crew: crew</span>\n",
              "├── <span style=\"color: #008000; text-decoration-color: #008000; font-weight: bold\">📋 Task: b2124eda-05b6-4650-892c-d38052fd2218</span>\n",
              "│   <span style=\"color: #c0c0c0; text-decoration-color: #c0c0c0\">   Assigned to: </span><span style=\"color: #008000; text-decoration-color: #008000\">Periodista católico, experto en analizar y estructurar textos del Papa y de la Iglesia</span>\n",
              "│   <span style=\"color: #c0c0c0; text-decoration-color: #c0c0c0\">   Status: </span><span style=\"color: #008000; text-decoration-color: #008000; font-weight: bold\">✅ Completed</span>\n",
              "│   └── <span style=\"color: #008000; text-decoration-color: #008000; font-weight: bold\">🤖 Agent: </span><span style=\"color: #008000; text-decoration-color: #008000\">Periodista católico, experto en analizar y estructurar textos del Papa y de la Iglesia</span>\n",
              "│       <span style=\"color: #c0c0c0; text-decoration-color: #c0c0c0\">    Status: </span><span style=\"color: #008000; text-decoration-color: #008000; font-weight: bold\">✅ Completed</span>\n",
              "├── <span style=\"color: #008000; text-decoration-color: #008000; font-weight: bold\">📋 Task: 00771583-504b-4321-97ab-2f2374cbe8f6</span>\n",
              "│   <span style=\"color: #c0c0c0; text-decoration-color: #c0c0c0\">   Assigned to: </span><span style=\"color: #008000; text-decoration-color: #008000\">Periodista católico, experto en analizar y estructurar textos del Papa y de la Iglesia</span>\n",
              "│   <span style=\"color: #c0c0c0; text-decoration-color: #c0c0c0\">   Status: </span><span style=\"color: #008000; text-decoration-color: #008000; font-weight: bold\">✅ Completed</span>\n",
              "│   └── <span style=\"color: #008000; text-decoration-color: #008000; font-weight: bold\">🤖 Agent: </span><span style=\"color: #008000; text-decoration-color: #008000\">Periodista católico, experto en analizar y estructurar textos del Papa y de la Iglesia</span>\n",
              "│       <span style=\"color: #c0c0c0; text-decoration-color: #c0c0c0\">    Status: </span><span style=\"color: #008000; text-decoration-color: #008000; font-weight: bold\">✅ Completed</span>\n",
              "└── <span style=\"color: #008000; text-decoration-color: #008000; font-weight: bold\">📋 Task: 9080e374-c583-4cc8-82a7-d3d99a39954e</span>\n",
              "    <span style=\"color: #c0c0c0; text-decoration-color: #c0c0c0\">   Assigned to: </span><span style=\"color: #008000; text-decoration-color: #008000\">Periodista católico, experto en analizar y estructurar textos del Papa y de la Iglesia</span>\n",
              "    <span style=\"color: #c0c0c0; text-decoration-color: #c0c0c0\">   Status: </span><span style=\"color: #008000; text-decoration-color: #008000; font-weight: bold\">✅ Completed</span>\n",
              "    └── <span style=\"color: #008000; text-decoration-color: #008000; font-weight: bold\">🤖 Agent: </span><span style=\"color: #008000; text-decoration-color: #008000\">Periodista católico, experto en analizar y estructurar textos del Papa y de la Iglesia</span>\n",
              "        <span style=\"color: #c0c0c0; text-decoration-color: #c0c0c0\">    Status: </span><span style=\"color: #008000; text-decoration-color: #008000; font-weight: bold\">✅ Completed</span>\n",
              "</pre>\n"
            ],
            "text/plain": [
              "\u001b[1;36m🚀 Crew: \u001b[0m\u001b[1;36mcrew\u001b[0m\n",
              "├── \u001b[1;32m📋 Task: b2124eda-05b6-4650-892c-d38052fd2218\u001b[0m\n",
              "│   \u001b[37m   Assigned to: \u001b[0m\u001b[32mPeriodista católico, experto en analizar y estructurar textos del Papa y de la Iglesia\u001b[0m\n",
              "│   \u001b[37m   Status: \u001b[0m\u001b[1;32m✅ Completed\u001b[0m\n",
              "│   └── \u001b[1;32m🤖 Agent: \u001b[0m\u001b[32mPeriodista católico, experto en analizar y estructurar textos del Papa y de la Iglesia\u001b[0m\n",
              "│       \u001b[37m    Status: \u001b[0m\u001b[1;32m✅ Completed\u001b[0m\n",
              "├── \u001b[1;32m📋 Task: 00771583-504b-4321-97ab-2f2374cbe8f6\u001b[0m\n",
              "│   \u001b[37m   Assigned to: \u001b[0m\u001b[32mPeriodista católico, experto en analizar y estructurar textos del Papa y de la Iglesia\u001b[0m\n",
              "│   \u001b[37m   Status: \u001b[0m\u001b[1;32m✅ Completed\u001b[0m\n",
              "│   └── \u001b[1;32m🤖 Agent: \u001b[0m\u001b[32mPeriodista católico, experto en analizar y estructurar textos del Papa y de la Iglesia\u001b[0m\n",
              "│       \u001b[37m    Status: \u001b[0m\u001b[1;32m✅ Completed\u001b[0m\n",
              "└── \u001b[1;32m📋 Task: 9080e374-c583-4cc8-82a7-d3d99a39954e\u001b[0m\n",
              "    \u001b[37m   Assigned to: \u001b[0m\u001b[32mPeriodista católico, experto en analizar y estructurar textos del Papa y de la Iglesia\u001b[0m\n",
              "    \u001b[37m   Status: \u001b[0m\u001b[1;32m✅ Completed\u001b[0m\n",
              "    └── \u001b[1;32m🤖 Agent: \u001b[0m\u001b[32mPeriodista católico, experto en analizar y estructurar textos del Papa y de la Iglesia\u001b[0m\n",
              "        \u001b[37m    Status: \u001b[0m\u001b[1;32m✅ Completed\u001b[0m\n"
            ]
          },
          "metadata": {},
          "output_type": "display_data"
        },
        {
          "data": {
            "text/html": [
              "<pre style=\"white-space:pre;overflow-x:auto;line-height:normal;font-family:Menlo,'DejaVu Sans Mono',consolas,'Courier New',monospace\"><span style=\"color: #008000; text-decoration-color: #008000\">╭──────────────────────────────────────────────── Task Completion ────────────────────────────────────────────────╮</span>\n",
              "<span style=\"color: #008000; text-decoration-color: #008000\">│</span>                                                                                                                 <span style=\"color: #008000; text-decoration-color: #008000\">│</span>\n",
              "<span style=\"color: #008000; text-decoration-color: #008000\">│</span>  <span style=\"color: #008000; text-decoration-color: #008000; font-weight: bold\">Task Completed</span>                                                                                                 <span style=\"color: #008000; text-decoration-color: #008000\">│</span>\n",
              "<span style=\"color: #008000; text-decoration-color: #008000\">│</span>  <span style=\"color: #c0c0c0; text-decoration-color: #c0c0c0\">Name: </span><span style=\"color: #008000; text-decoration-color: #008000\">9080e374-c583-4cc8-82a7-d3d99a39954e</span>                                                                     <span style=\"color: #008000; text-decoration-color: #008000\">│</span>\n",
              "<span style=\"color: #008000; text-decoration-color: #008000\">│</span>  <span style=\"color: #c0c0c0; text-decoration-color: #c0c0c0\">Agent: </span><span style=\"color: #008000; text-decoration-color: #008000\">Periodista católico, experto en analizar y estructurar textos del Papa y de la Iglesia</span>                  <span style=\"color: #008000; text-decoration-color: #008000\">│</span>\n",
              "<span style=\"color: #008000; text-decoration-color: #008000\">│</span>                                                                                                                 <span style=\"color: #008000; text-decoration-color: #008000\">│</span>\n",
              "<span style=\"color: #008000; text-decoration-color: #008000\">│</span>                                                                                                                 <span style=\"color: #008000; text-decoration-color: #008000\">│</span>\n",
              "<span style=\"color: #008000; text-decoration-color: #008000\">╰─────────────────────────────────────────────────────────────────────────────────────────────────────────────────╯</span>\n",
              "</pre>\n"
            ],
            "text/plain": [
              "\u001b[32m╭─\u001b[0m\u001b[32m───────────────────────────────────────────────\u001b[0m\u001b[32m Task Completion \u001b[0m\u001b[32m───────────────────────────────────────────────\u001b[0m\u001b[32m─╮\u001b[0m\n",
              "\u001b[32m│\u001b[0m                                                                                                                 \u001b[32m│\u001b[0m\n",
              "\u001b[32m│\u001b[0m  \u001b[1;32mTask Completed\u001b[0m                                                                                                 \u001b[32m│\u001b[0m\n",
              "\u001b[32m│\u001b[0m  \u001b[37mName: \u001b[0m\u001b[32m9080e374-c583-4cc8-82a7-d3d99a39954e\u001b[0m                                                                     \u001b[32m│\u001b[0m\n",
              "\u001b[32m│\u001b[0m  \u001b[37mAgent: \u001b[0m\u001b[32mPeriodista católico, experto en analizar y estructurar textos del Papa y de la Iglesia\u001b[0m                  \u001b[32m│\u001b[0m\n",
              "\u001b[32m│\u001b[0m                                                                                                                 \u001b[32m│\u001b[0m\n",
              "\u001b[32m│\u001b[0m                                                                                                                 \u001b[32m│\u001b[0m\n",
              "\u001b[32m╰─────────────────────────────────────────────────────────────────────────────────────────────────────────────────╯\u001b[0m\n"
            ]
          },
          "metadata": {},
          "output_type": "display_data"
        },
        {
          "data": {
            "text/html": [
              "<pre style=\"white-space:pre;overflow-x:auto;line-height:normal;font-family:Menlo,'DejaVu Sans Mono',consolas,'Courier New',monospace\">\n",
              "</pre>\n"
            ],
            "text/plain": [
              "\n"
            ]
          },
          "metadata": {},
          "output_type": "display_data"
        },
        {
          "data": {
            "text/html": [
              "<pre style=\"white-space:pre;overflow-x:auto;line-height:normal;font-family:Menlo,'DejaVu Sans Mono',consolas,'Courier New',monospace\"><span style=\"color: #008000; text-decoration-color: #008000\">╭──────────────────────────────────────────────── Crew Completion ────────────────────────────────────────────────╮</span>\n",
              "<span style=\"color: #008000; text-decoration-color: #008000\">│</span>                                                                                                                 <span style=\"color: #008000; text-decoration-color: #008000\">│</span>\n",
              "<span style=\"color: #008000; text-decoration-color: #008000\">│</span>  <span style=\"color: #008000; text-decoration-color: #008000; font-weight: bold\">Crew Execution Completed</span>                                                                                       <span style=\"color: #008000; text-decoration-color: #008000\">│</span>\n",
              "<span style=\"color: #008000; text-decoration-color: #008000\">│</span>  <span style=\"color: #c0c0c0; text-decoration-color: #c0c0c0\">Name: </span><span style=\"color: #008000; text-decoration-color: #008000\">crew</span>                                                                                                     <span style=\"color: #008000; text-decoration-color: #008000\">│</span>\n",
              "<span style=\"color: #008000; text-decoration-color: #008000\">│</span>  <span style=\"color: #c0c0c0; text-decoration-color: #c0c0c0\">ID: </span><span style=\"color: #008000; text-decoration-color: #008000\">7bf45b52-54d2-4831-bcf8-ae50462afe97</span>                                                                       <span style=\"color: #008000; text-decoration-color: #008000\">│</span>\n",
              "<span style=\"color: #008000; text-decoration-color: #008000\">│</span>                                                                                                                 <span style=\"color: #008000; text-decoration-color: #008000\">│</span>\n",
              "<span style=\"color: #008000; text-decoration-color: #008000\">│</span>                                                                                                                 <span style=\"color: #008000; text-decoration-color: #008000\">│</span>\n",
              "<span style=\"color: #008000; text-decoration-color: #008000\">╰─────────────────────────────────────────────────────────────────────────────────────────────────────────────────╯</span>\n",
              "</pre>\n"
            ],
            "text/plain": [
              "\u001b[32m╭─\u001b[0m\u001b[32m───────────────────────────────────────────────\u001b[0m\u001b[32m Crew Completion \u001b[0m\u001b[32m───────────────────────────────────────────────\u001b[0m\u001b[32m─╮\u001b[0m\n",
              "\u001b[32m│\u001b[0m                                                                                                                 \u001b[32m│\u001b[0m\n",
              "\u001b[32m│\u001b[0m  \u001b[1;32mCrew Execution Completed\u001b[0m                                                                                       \u001b[32m│\u001b[0m\n",
              "\u001b[32m│\u001b[0m  \u001b[37mName: \u001b[0m\u001b[32mcrew\u001b[0m                                                                                                     \u001b[32m│\u001b[0m\n",
              "\u001b[32m│\u001b[0m  \u001b[37mID: \u001b[0m\u001b[32m7bf45b52-54d2-4831-bcf8-ae50462afe97\u001b[0m                                                                       \u001b[32m│\u001b[0m\n",
              "\u001b[32m│\u001b[0m                                                                                                                 \u001b[32m│\u001b[0m\n",
              "\u001b[32m│\u001b[0m                                                                                                                 \u001b[32m│\u001b[0m\n",
              "\u001b[32m╰─────────────────────────────────────────────────────────────────────────────────────────────────────────────────╯\u001b[0m\n"
            ]
          },
          "metadata": {},
          "output_type": "display_data"
        },
        {
          "data": {
            "text/html": [
              "<pre style=\"white-space:pre;overflow-x:auto;line-height:normal;font-family:Menlo,'DejaVu Sans Mono',consolas,'Courier New',monospace\">\n",
              "</pre>\n"
            ],
            "text/plain": [
              "\n"
            ]
          },
          "metadata": {},
          "output_type": "display_data"
        }
      ],
      "source": [
        "result = iglesia_content_crew.kickoff()"
      ]
    },
    {
      "cell_type": "code",
      "execution_count": null,
      "metadata": {},
      "outputs": [],
      "source": []
    },
    {
      "cell_type": "code",
      "execution_count": null,
      "metadata": {},
      "outputs": [],
      "source": []
    },
    {
      "cell_type": "code",
      "execution_count": 127,
      "metadata": {},
      "outputs": [
        {
          "name": "stdout",
          "output_type": "stream",
          "text": [
            "{\n",
            "  \"fuente_documento\": \"A los Hermanos de las Escuelas Cristianas (15 de mayo de 2025)\",\n",
            "  \"tipo_documento\": \"Discurso\",\n",
            "  \"url_original\": \"https://www.vatican.va/content/leo-xiv/es/speeches/2025/may/documents/20250515-fratelli-scuole-cristiane.html\",\n",
            "  \"resumen_general\": \"El Papa León XIV conmemora el tercer centenario de las Escuelas Cristianas, resaltando su historia de innovación educativa, su respuesta a los retos actuales de los jóvenes y la importancia del ministerio y misión laical en la enseñanza, promoviendo vocaciones y la santidad en la comunidad educativa.\",\n",
            "  \"ideas_clave\": [\n",
            "    \"Las Escuelas Cristianas nacieron como respuesta a las necesidades de los pobres, promoviendo una educación gratuita, inclusiva y adaptada a su tiempo.\",\n",
            "    \"La innovación pedagógica de San Juan Bautista de La Salle, como el uso del idioma vernáculo y la participación familiar, sigue siendo relevante para afrontar los retos actuales.\",\n",
            "    \"Los jóvenes de hoy enfrentan obstáculos como el individualismo, relativismo y superficialidad, que requieren respuestas creativas y valientes en la educación.\",\n",
            "    \"La enseñanza debe ser vista como un ministerio y misión, donde los maestros y hermanos laicos ejercen un verdadero munus sacerdotal y profético en la comunidad.\",\n",
            "    \"Es fundamental promover vocaciones religiosas laicales en las escuelas para fortalecer la misión educativa y santificadora, en línea con el carisma lasaliano.\"\n",
            "  ],\n",
            "  \"tags_sugeridos\": [\"educación cristiana\", \"San Juan Bautista de La Salle\", \"ministerio laical\", \"vocaciones\", \"innovación pedagógica\", \"misión educativa\", \"santidad\"]\n",
            "}\n"
          ]
        }
      ],
      "source": [
        "print(result)"
      ]
    },
    {
      "cell_type": "code",
      "execution_count": 115,
      "metadata": {},
      "outputs": [
        {
          "name": "stdout",
          "output_type": "stream",
          "text": [
            "\u001b[36m╭─\u001b[0m\u001b[36m──────────────────────────\u001b[0m\u001b[36m Crew Execution Started \u001b[0m\u001b[36m──────────────────────────\u001b[0m\u001b[36m─╮\u001b[0m\n",
            "\u001b[36m│\u001b[0m                                                                              \u001b[36m│\u001b[0m\n",
            "\u001b[36m│\u001b[0m  \u001b[1;36mCrew Execution Started\u001b[0m                                                      \u001b[36m│\u001b[0m\n",
            "\u001b[36m│\u001b[0m  \u001b[37mName: \u001b[0m\u001b[36mcrew\u001b[0m                                                                  \u001b[36m│\u001b[0m\n",
            "\u001b[36m│\u001b[0m  \u001b[37mID: \u001b[0m\u001b[36mc0be0261-cc23-4fd3-b889-d88162a9091c\u001b[0m                                    \u001b[36m│\u001b[0m\n",
            "\u001b[36m│\u001b[0m                                                                              \u001b[36m│\u001b[0m\n",
            "\u001b[36m│\u001b[0m                                                                              \u001b[36m│\u001b[0m\n",
            "\u001b[36m╰──────────────────────────────────────────────────────────────────────────────╯\u001b[0m\n",
            "\n",
            "\u001b[1;36m🚀 Crew: \u001b[0m\u001b[1;36mcrew\u001b[0m\n",
            "└── \u001b[1;33m📋 Task: 0587e000-d059-4ef0-babe-1e06002c0dd4\u001b[0m\n",
            "    \u001b[37m   Status: \u001b[0m\u001b[2;33mExecuting Task...\u001b[0m\n",
            "\n",
            "\u001b[1;36m🚀 Crew: \u001b[0m\u001b[1;36mcrew\u001b[0m\n",
            "└── \u001b[1;33m📋 Task: 0587e000-d059-4ef0-babe-1e06002c0dd4\u001b[0m\n",
            "    \u001b[37m   Status: \u001b[0m\u001b[2;33mExecuting Task...\u001b[0m\n",
            "    └── \u001b[1;32m🤖 Agent: \u001b[0m\u001b[32mText Summarizer\u001b[0m\n",
            "        \u001b[37m    Status: \u001b[0m\u001b[1;32mIn Progress\u001b[0m\n",
            "\n",
            "\u001b[1m\u001b[95m# Agent:\u001b[00m \u001b[1m\u001b[92mText Summarizer\u001b[00m\n",
            "\u001b[95m## Task:\u001b[00m \u001b[92mCreate a summary of the following text: AUDIENCIA AL CUERPO DIPLOMÁTICO ACREDITADO ANTE LA SANTA SEDE\n",
            "DISCURSO DEL SANTO PADRE LEÓN XIV\n",
            "Sala Clementina Viernes, 16 de mayo de 2025\n",
            "[ Multimedia ]\n",
            "___________________________________\n",
            "Eminencia, Excelencias, señoras y señores, la paz esté con ustedes:\n",
            "Doy gracias a S.E. el Sr. George Poulides, Embajador de la República de Chipre y Decano del Cuerpo Diplomático, por las cordiales palabras que me ha dirigido en nombre de todos ustedes y por su trabajo incansable, que lleva adelante con la fuerza, la pasión y la simpatía que lo caracterizan, dotes por los que ha merecido la estima de todos mis Predecesores, que ha conocido en estos años de misión ante la Santa Sede y, en particular, del recordado Papa Francisco.\n",
            "Deseo además expresarles mi gratitud por los numerosos mensajes de felicitación enviados luego de mi elección, así como por las precedentes condolencias que han llegado al fallecer el Papa Francisco , incluso de países con los que la Santa Sede no mantiene relaciones diplomáticas. Se trata de una significativa manifestación de estima, que alienta a profundizar las mutuas relaciones.\n",
            "En nuestro diálogo, quisiera que predominase siempre el sentido de ser familia —la comunidad diplomática representa, en efecto, la entera familia de los pueblos—, que comparte las alegrías y los dolores de la vida junto con los valores humanos y espirituales que la animan. La diplomacia pontificia es, de hecho, una expresión de la misma catolicidad de la Iglesia y, en su acción diplomática, la Santa Sede está animada por una urgencia pastoral que la impulsa no a buscar privilegios sino a intensificar su misión evangélica al servicio de la humanidad. Ésta combate la indiferencia y apela continuamente a las conciencias, como ha hecho incansablemente mi venerado Predecesor, siempre atento al clamor de los pobres, los necesitados y los marginados, como también a los desafíos que caracterizan nuestro tiempo, desde la protección de la creación hasta la inteligencia artificial.\n",
            "Además de ser un signo concreto de la atención que sus países reservan a la Sede Apostólica, su presencia hoy es para mí un don, que permite renovar la aspiración de la Iglesia —y mía personal— de alcanzar y abrazar a cada pueblo y a cada persona de esta tierra, deseosa y necesitada de verdad, de justicia y de paz. En cierto sentido, mi propia experiencia de vida, desplegada entre América del Norte, América del Sur y Europa, pone de manifiesto esta aspiración de traspasar los confines para encontrarse con personas y culturas diferentes.\n",
            "Por medio del constante y paciente trabajo de la Secretaría de Estado, intento consolidar el conocimiento y el diálogo con ustedes y con sus países, muchos de los cuales he tenido ya la gracia de visitar a lo largo de mi vida, especialmente cuando fui Prior General de los Agustinos. Confío en que la Divina Providencia me conceda tener en el futuro ocasión de encontrarme con las realidades de las que ustedes provienen, permitiéndome acoger las oportunidades que se presenten para confirmar en la fe a tantos hermanos y hermanas dispersos por el mundo y construir nuevos puentes con todas las personas de buena voluntad.\n",
            "En nuestro diálogo, quisiera que tuviéramos presente las tres palabras clave que constituyen los pilares de la acción misionera de la Iglesia y de la labor de la diplomacia de la Santa Sede.\n",
            "La primera palabra es paz . Muchas veces la consideramos una palabra “negativa”, o sea, como mera ausencia de guerra o de conflicto, porque la contraposición es parte de la naturaleza humana y nos acompaña siempre, impulsándonos en demasiadas ocasiones a vivir en un constante “estado de conflicto”; en casa, en el trabajo, en la sociedad. La paz entonces pareciera una simple tregua, una pausa de descanso entre una discordia y otra, porque, aunque uno se esfuerce, las tensiones están siempre presentes, un poco como las brasas que arden bajo las cenizas, prontas a reavivarse en cualquier momento.\n",
            "En la perspectiva cristiana —como también en la de otras experiencias religiosas— la paz es ante todo un don, el primer don de Cristo: «Les doy mi paz» ( Jn 14,27). Pero es un don activo, apasionante, que nos afecta y compromete a cada uno de nosotros, independientemente de la procedencia cultural y de la pertenencia religiosa, y que exige en primer lugar un trabajo sobre uno mismo. La paz se construye en el corazón y a partir del corazón, arrancando el orgullo y las reivindicaciones, y midiendo el lenguaje, porque también se puede herir y matar con las palabras, no sólo con las armas.\n",
            "En esta óptica, considero fundamental el aporte que las religiones y el diálogo interreligioso pueden brindar para favorecer contextos de paz. Eso, naturalmente, exige el pleno respeto de la libertad religiosa en cada país, porque la experiencia religiosa es una dimensión fundamental de la persona humana, sin la cual es difícil —si no imposible— realizar esa purificación del corazón necesaria para construir relaciones de paz.\n",
            "A partir de este trabajo, que todos estamos llamados a realizar, se pueden extirpar las premisas de cualquier conflicto y de cualquier destructiva voluntad de conquista. Esto exige también una sincera voluntad de diálogo, animada por el deseo de encontrarse más que de confrontarse. En esta perspectiva es necesario revitalizar la diplomacia multilateral y esas instituciones internacionales que han sido queridas y pensadas en primer lugar para poner remedio a los conflictos que pudiesen surgir en el seno de la comunidad internacional. Ciertamente, es necesaria también la voluntad de dejar de producir instrumentos de destrucción y de muerte, porque, como recordaba el Papa Francisco en su último Mensaje Urbi et Orbi , «la paz tampoco es posible sin un verdadero desarme [ y] la exigencia que cada pueblo tiene de proveer a su propia defensa no puede transformarse en una carrera general al rearme» [1] .\n",
            "La segunda palabra es justicia . Procurar la paz exige practicar la justicia. Como ya he tenido modo de señalar, he elegido mi nombre pensando principalmente en León XIII , el Papa de la primera gran encíclica social, la Rerum novarum . En el cambio de época que estamos viviendo, la Santa Sede no puede eximirse de hacer sentir su propia voz ante los numerosos desequilibrios y las injusticias que conducen, entre otras cosas, a condiciones indignas de trabajo y a sociedades cada vez más fragmentadas y conflictivas. Es necesario, además, esforzarse por remediar las desigualdades globales, que trazan surcos profundos de opulencia e indigencia entre continentes, países e, incluso, dentro de las mismas sociedades.\n",
            "Es tarea de quien tiene responsabilidad de gobierno aplicarse para construir sociedades civiles armónicas y pacíficas. Esto puede realizarse sobre todo invirtiendo en la familia, fundada sobre la unión estable entre el hombre y la mujer, «bien pequeña, es cierto, pero verdadera sociedad y más antigua que cualquiera otra» [2] . Además, nadie puede eximirse de favorecer contextos en los que se tutele la dignidad de cada persona, especialmente de aquellas más frágiles e indefensas, desde el niño por nacer hasta el anciano, desde el enfermo al desocupado, sean estos ciudadanos o inmigrantes.\n",
            "Mi propia historia es la de un ciudadano, descendiente de inmigrantes, que a su vez ha emigrado. Cada uno de nosotros, en el curso de la vida, se puede encontrar sano o enfermo, ocupado o desocupado, en su patria o en tierra extranjera. Su dignidad, sin embargo, es siempre la misma, la de una creatura querida y amada por Dios.\n",
            "La tercera palabra es verdad . No se pueden construir relaciones verdaderamente pacíficas, incluso dentro de la comunidad internacional, sin verdad. Allí donde las palabras asumen connotaciones ambiguas y ambivalentes, y el mundo virtual, con su percepción distorsionada de la realidad, prevalece sin control; es difícil construir relaciones auténticas, porque decaen las premisas objetivas y reales de la comunicación.\n",
            "Por su parte, la Iglesia no puede nunca eximirse de decir la verdad sobre el hombre y sobre el mundo, recurriendo a lo que sea necesario, incluso a un lenguaje franco, que inicialmente puede suscitar alguna incomprensión. La verdad, sin embargo, no se separa nunca de la caridad, que siempre tiene radicada la preocupación por la vida y el bien de cada hombre y mujer. Por otra parte, en la perspectiva cristiana, la verdad no es la afirmación de principios abstractos y desencarnados, sino el encuentro con la persona misma de Cristo, que vive en la comunidad de los creyentes. De ese modo, la verdad no nos aleja; por el contrario, nos permite afrontar con mayor vigor los desafíos de nuestro tiempo, como las migraciones, el uso ético de la inteligencia artificial y la protección de nuestra amada tierra. Son desafíos que requieren el compromiso y la colaboración de todos, porque nadie puede pensar en afrontarlos solo.\n",
            "Queridos embajadores:\n",
            "Mi ministerio comienza en el corazón del Año jubilar, dedicado de manera particular a la esperanza. Es un tiempo de conversión y de renovación, y sobre todo la ocasión para dejar atrás las contiendas y comenzar un camino nuevo, animados por la esperanza de poder construir, trabajando juntos, cada uno según sus propias sensibilidades y responsabilidades, un mundo en el que cada uno de nosotros pueda realizar la propia humanidad en la verdad, en la justicia y en la paz. Espero que esto pueda suceder en todos los contextos, empezando por los más que más sufren, como Ucrania y Tierra Santa.\n",
            "Les agradezco todo el trabajo que hacen para construir puentes entre sus países y la Santa Sede, y de todo corazón los bendigo, bendigo a sus familias y a sus pueblos. Gracias.\n",
            "[Bendición]\n",
            "Y gracias por todo el trabajo que hacen.\n",
            "________________________________\n",
            "[1] Mensaje «Urbi et Orbi» (20 abril 2025).\n",
            "[2] León XIII, Carta enc. Rerum novarum (15 mayo 1891), 9.. Source: Al Cuerpo Diplomático (16 de mayo de 2025)\u001b[00m\n",
            "\n",
            "\n",
            "\u001b[1m\u001b[95m# Agent:\u001b[00m \u001b[1m\u001b[92mText Summarizer\u001b[00m\n",
            "\u001b[95m## Final Answer:\u001b[00m \u001b[92m\n",
            "In his address to the diplomatic corps accredited to the Holy See on May 16, 2025, Pope León XIV expresses gratitude to Ambassador George Poulides and acknowledges the support and condolences received after his election. He emphasizes the importance of viewing the diplomatic community as a family representing the diversity of peoples and underscores the mission of the Church to promote peace, justice, and truth. The Pope identifies three key pillars of his ministry: peace, which is an active gift requiring personal commitment; justice, which addresses global inequalities and the dignity of every person; and truth, which is essential for authentic relationships within the international community. He calls for a collective effort to confront contemporary challenges such as migration and environmental protection, fostering dialogue and cooperation. The Pope concludes by urging collaboration towards a hopeful future, especially for those who suffer.  \n",
            "Source: Al Cuerpo Diplomático (16 de mayo de 2025)\u001b[00m\n",
            "\n",
            "\n",
            "\u001b[1;36m🚀 Crew: \u001b[0m\u001b[1;36mcrew\u001b[0m\n",
            "└── \u001b[1;33m📋 Task: 0587e000-d059-4ef0-babe-1e06002c0dd4\u001b[0m\n",
            "    \u001b[37m   Status: \u001b[0m\u001b[2;33mExecuting Task...\u001b[0m\n",
            "    └── \u001b[1;32m🤖 Agent: \u001b[0m\u001b[32mText Summarizer\u001b[0m\n",
            "        \u001b[37m    Status: \u001b[0m\u001b[1;32m✅ Completed\u001b[0m\n",
            "\n",
            "\u001b[1;36m🚀 Crew: \u001b[0m\u001b[1;36mcrew\u001b[0m\n",
            "└── \u001b[1;32m📋 Task: 0587e000-d059-4ef0-babe-1e06002c0dd4\u001b[0m\n",
            "    \u001b[37m   Assigned to: \u001b[0m\u001b[32mText Summarizer\u001b[0m\n",
            "    \u001b[37m   Status: \u001b[0m\u001b[1;32m✅ Completed\u001b[0m\n",
            "    └── \u001b[1;32m🤖 Agent: \u001b[0m\u001b[32mText Summarizer\u001b[0m\n",
            "        \u001b[37m    Status: \u001b[0m\u001b[1;32m✅ Completed\u001b[0m\n",
            "\u001b[32m╭─\u001b[0m\u001b[32m─────────────────────────────\u001b[0m\u001b[32m Task Completion \u001b[0m\u001b[32m──────────────────────────────\u001b[0m\u001b[32m─╮\u001b[0m\n",
            "\u001b[32m│\u001b[0m                                                                              \u001b[32m│\u001b[0m\n",
            "\u001b[32m│\u001b[0m  \u001b[1;32mTask Completed\u001b[0m                                                              \u001b[32m│\u001b[0m\n",
            "\u001b[32m│\u001b[0m  \u001b[37mName: \u001b[0m\u001b[32m0587e000-d059-4ef0-babe-1e06002c0dd4\u001b[0m                                  \u001b[32m│\u001b[0m\n",
            "\u001b[32m│\u001b[0m  \u001b[37mAgent: \u001b[0m\u001b[32mText Summarizer\u001b[0m                                                      \u001b[32m│\u001b[0m\n",
            "\u001b[32m│\u001b[0m                                                                              \u001b[32m│\u001b[0m\n",
            "\u001b[32m│\u001b[0m                                                                              \u001b[32m│\u001b[0m\n",
            "\u001b[32m╰──────────────────────────────────────────────────────────────────────────────╯\u001b[0m\n",
            "\n",
            "\u001b[1;36m🚀 Crew: \u001b[0m\u001b[1;36mcrew\u001b[0m\n",
            "├── \u001b[1;32m📋 Task: 0587e000-d059-4ef0-babe-1e06002c0dd4\u001b[0m\n",
            "│   \u001b[37m   Assigned to: \u001b[0m\u001b[32mText Summarizer\u001b[0m\n",
            "│   \u001b[37m   Status: \u001b[0m\u001b[1;32m✅ Completed\u001b[0m\n",
            "│   └── \u001b[1;32m🤖 Agent: \u001b[0m\u001b[32mText Summarizer\u001b[0m\n",
            "│       \u001b[37m    Status: \u001b[0m\u001b[1;32m✅ Completed\u001b[0m\n",
            "└── \u001b[1;33m📋 Task: e331c46b-c7e9-44c2-8d8b-8507e1ead593\u001b[0m\n",
            "    \u001b[37m   Status: \u001b[0m\u001b[2;33mExecuting Task...\u001b[0m\n",
            "\n",
            "\u001b[1;36m🚀 Crew: \u001b[0m\u001b[1;36mcrew\u001b[0m\n",
            "├── \u001b[1;32m📋 Task: 0587e000-d059-4ef0-babe-1e06002c0dd4\u001b[0m\n",
            "│   \u001b[37m   Assigned to: \u001b[0m\u001b[32mText Summarizer\u001b[0m\n",
            "│   \u001b[37m   Status: \u001b[0m\u001b[1;32m✅ Completed\u001b[0m\n",
            "│   └── \u001b[1;32m🤖 Agent: \u001b[0m\u001b[32mText Summarizer\u001b[0m\n",
            "│       \u001b[37m    Status: \u001b[0m\u001b[1;32m✅ Completed\u001b[0m\n",
            "└── \u001b[1;33m📋 Task: e331c46b-c7e9-44c2-8d8b-8507e1ead593\u001b[0m\n",
            "    \u001b[37m   Status: \u001b[0m\u001b[2;33mExecuting Task...\u001b[0m\n",
            "    └── \u001b[1;32m🤖 Agent: \u001b[0m\u001b[32mText Summarizer\u001b[0m\n",
            "        \u001b[37m    Status: \u001b[0m\u001b[1;32mIn Progress\u001b[0m\n",
            "\n",
            "\u001b[1m\u001b[95m# Agent:\u001b[00m \u001b[1m\u001b[92mText Summarizer\u001b[00m\n",
            "\u001b[95m## Task:\u001b[00m \u001b[92mCreate a summary of the following text: DISCURSO DEL SANTO PADRE LEÓN XIV A LOS HERMANOS DE LAS ESCUELAS CRISTIANAS\n",
            "Jueves, 15 de mayo de 2025\n",
            "[ Multimedia ]\n",
            "___________________________________\n",
            "En el nombre del Padre, del Hijo y del Espíritu Santo, ¡la paz esté con ustedes!\n",
            "Eminencia,\n",
            "queridos hermanos y hermanas, ¡bienvenidos!\n",
            "Me alegra mucho recibirlos en el tercer centenario de la promulgación de la bula In apostolicae dignitatis solio , con la que el Papa Benedicto XIII aprobó su Instituto y su Regla (26 de enero de 1725). Coincide también con el 75º aniversario de la proclamación, por parte del Papa Pío XII , de San Juan Bautista de La Salle como «Patrono celestial de todos los educadores» (cf. Lett. Ap. Quod ait , 15 de mayo de 1950: AAS 12, 1950, 631-632).\n",
            "Después de tres siglos, es hermoso constatar cómo su presencia sigue trayendo consigo la frescura de una rica y vasta realidad educativa, con la que aún hoy, en diversas partes del mundo, con entusiasmo, fidelidad y espíritu de sacrificio, se dedican a la formación de los jóvenes.\n",
            "Precisamente a la luz de estas conmemoraciones, quisiera detenerme a reflexionar con ustedes sobre dos aspectos de su historia que considero importantes para todos nosotros: la atención a la actualidad y la dimensión ministerial y misionera de la enseñanza en la comunidad.\n",
            "Los inicios de su obra hablan mucho de «actualidad». San Juan Bautista de La Salle comenzó respondiendo a la petición de ayuda de un laico, Adriano Nyel, que luchaba por mantener en pie sus «escuelas para pobres». Su fundador reconoció en su petición de ayuda una señal de Dios, aceptó el reto y se puso manos a la obra. Así, más allá de sus propias intenciones y expectativas, dio vida a un nuevo sistema de enseñanza: el de las Escuelas Cristianas , gratuitas y abiertas a todos. Entre los elementos innovadores que introdujo en esta revolución pedagógica, recordamos la enseñanza dirigida a las clases y no a los alumnos individuales; la adopción, como lengua de enseñanza, en lugar del latín, del francés, accesible a todos; las clases dominicales, a las que también podían asistir los jóvenes obligados a trabajar entre semana; la participación de las familias en los itinerarios escolares, según el principio del «triángulo educativo», válido aún hoy. Así, los problemas, a medida que se presentaban, en lugar de desanimarlo, lo estimulaban a buscar respuestas creativas y a adentrarse en caminos nuevos y a menudo inexplorados.\n",
            "Todo esto no puede sino hacernos pensar y suscitar en nosotros preguntas útiles. ¿Cuáles son, en el mundo juvenil de nuestros días, los retos más urgentes que hay que afrontar? ¿Qué valores hay que promover? ¿Con qué recursos se puede contar?\n",
            "Los jóvenes de nuestro tiempo, como los de todas las épocas, son volcanes de vida, de energía, de sentimientos, de ideas. Lo vemos en las cosas maravillosas que saben hacer en tantos campos. Pero también necesitan ayuda para hacer crecer en armonía tanta riqueza y para superar lo que, aunque de manera diferente al pasado, todavía puede impedir su sano desarrollo.\n",
            "Si, por ejemplo, en el siglo XVII el uso de la lengua latina era para muchos una barrera comunicativa insuperable, hoy hay otros obstáculos que afrontar. Pensemos en el aislamiento que provocan los modelos relacionales cada vez más extendidos, basados en la superficialidad, el individualismo y la inestabilidad afectiva; en la difusión de esquemas de pensamiento debilitados por el relativismo; en el predominio de ritmos y estilos de vida en los que no hay suficiente espacio para la escucha, la reflexión y el diálogo, en la escuela, en la familia, a veces entre los propios compañeros, con la soledad que ello conlleva.\n",
            "Se trata de retos exigentes, de los que, sin embargo, también nosotros, como San Juan Bautista de La Salle, podemos hacer trampolines para explorar caminos, elaborar instrumentos y adoptar lenguajes nuevos, con los que seguir tocando el corazón de los alumnos, animándolos y estimulándolos a afrontar con valentía todos los obstáculos para dar lo mejor de sí mismos en la vida, según los designios de Dios. En este sentido, es loable la atención que prestan en sus escuelas a la formación de los docentes y a la creación de comunidades educativas en las que el esfuerzo didáctico se enriquece con la aportación de todos. Los animo a continuar por este camino.\n",
            "Pero antes de concluir, quisiera mencionar otro aspecto de la realidad lasaliana que considero importante: la docencia vivida como ministerio y misión , como consagración en la Iglesia. San Juan Bautista de La Salle no quería que entre los maestros de las Escuelas Cristianas hubiera sacerdotes, sino solo «hermanos», para que todos sus esfuerzos se dirigieran, con la ayuda de Dios, a la educación de los alumnos. Le gustaba decir: «Su altar es la cátedra», promoviendo así en la Iglesia de su tiempo una realidad hasta entonces desconocida: la de los maestros y catequistas laicos investidos, en la comunidad, de un verdadero «ministerio», según el principio de evangelizar educando y educar evangelizando (cf. Francisco, Discurso a los participantes en el Capítulo General de los Hermanos de las Escuelas Cristianas , 21 de mayo de 2022).\n",
            "Así, el carisma de la escuela, que ustedes abrazan con el cuarto voto de la enseñanza, además de un servicio a la sociedad y una valiosa obra de caridad, aparece aún hoy como una de las expresiones más bellas y elocuentes de ese munus sacerdotal, profético y real que todos hemos recibido en el Bautismo, como subrayan los documentos del Concilio Vaticano II . En sus realidades educativas, así, los religiosos hacen proféticamente visible, a través de su consagración, el ministerio bautismal que impulsa a todos (cf. Const. dogm. Lumen gentium, 44 ), cada uno según su estado y sus tareas, sin diferencias, a «contribuir como miembros vivos […] al crecimiento de la Iglesia y a su santificación permanente» ( ibídem , 33 ).\n",
            "Por este motivo, deseo que las vocaciones a la consagración religiosa lasaliana crezcan, sean alentadas y promovidas, en sus escuelas y fuera de ellas, y que, en sinergia con todos los demás componentes formativos, contribuyan a suscitar entre los jóvenes que las frecuentan caminos alegres y fecundos de santidad.\n",
            "¡Gracias por lo que hacen! Rezo por ustedes y les imparto la Bendición Apostólica, que de muy buen grado extiendo a toda la Familia Lasaliana. _______________________________________ Boletín de la Oficina de Prensa de la Santa Sede , 15 de mayo de 2025. Source: A los Hermanos de las Escuelas Cristianas (15 de mayo de 2025)\u001b[00m\n",
            "\n",
            "\n",
            "\u001b[1m\u001b[95m# Agent:\u001b[00m \u001b[1m\u001b[92mText Summarizer\u001b[00m\n",
            "\u001b[95m## Final Answer:\u001b[00m \u001b[92m\n",
            "In his address to the brothers of the Christian Schools on May 15, 2025, Pope León XIV welcomes them, celebrating the 300th anniversary of the papal bull approving their institute and the 75th anniversary of St. John Baptist de La Salle being named the patron saint of educators. He reflects on the significance of adapting educational practices to contemporary challenges, advocating for free and inclusive education, and emphasizing the importance of fostering creativity and community in teaching. The Pope highlights the role of educators as a ministry and mission within the Church, valuing the contribution of religious educators in nurturing the faith and spiritual growth of students. He encourages the promotion of vocations to the Lasallian religious life and concludes by expressing gratitude for their work and imparting his apostolic blessing to the Lasallian family.  \n",
            "Source: A los Hermanos de las Escuelas Cristianas (15 de mayo de 2025)\u001b[00m\n",
            "\n",
            "\n",
            "\u001b[1;36m🚀 Crew: \u001b[0m\u001b[1;36mcrew\u001b[0m\n",
            "├── \u001b[1;32m📋 Task: 0587e000-d059-4ef0-babe-1e06002c0dd4\u001b[0m\n",
            "│   \u001b[37m   Assigned to: \u001b[0m\u001b[32mText Summarizer\u001b[0m\n",
            "│   \u001b[37m   Status: \u001b[0m\u001b[1;32m✅ Completed\u001b[0m\n",
            "│   └── \u001b[1;32m🤖 Agent: \u001b[0m\u001b[32mText Summarizer\u001b[0m\n",
            "│       \u001b[37m    Status: \u001b[0m\u001b[1;32m✅ Completed\u001b[0m\n",
            "└── \u001b[1;33m📋 Task: e331c46b-c7e9-44c2-8d8b-8507e1ead593\u001b[0m\n",
            "    \u001b[37m   Status: \u001b[0m\u001b[2;33mExecuting Task...\u001b[0m\n",
            "    └── \u001b[1;32m🤖 Agent: \u001b[0m\u001b[32mText Summarizer\u001b[0m\n",
            "        \u001b[37m    Status: \u001b[0m\u001b[1;32m✅ Completed\u001b[0m\n",
            "\n",
            "\u001b[1;36m🚀 Crew: \u001b[0m\u001b[1;36mcrew\u001b[0m\n",
            "├── \u001b[1;32m📋 Task: 0587e000-d059-4ef0-babe-1e06002c0dd4\u001b[0m\n",
            "│   \u001b[37m   Assigned to: \u001b[0m\u001b[32mText Summarizer\u001b[0m\n",
            "│   \u001b[37m   Status: \u001b[0m\u001b[1;32m✅ Completed\u001b[0m\n",
            "│   └── \u001b[1;32m🤖 Agent: \u001b[0m\u001b[32mText Summarizer\u001b[0m\n",
            "│       \u001b[37m    Status: \u001b[0m\u001b[1;32m✅ Completed\u001b[0m\n",
            "└── \u001b[1;32m📋 Task: e331c46b-c7e9-44c2-8d8b-8507e1ead593\u001b[0m\n",
            "    \u001b[37m   Assigned to: \u001b[0m\u001b[32mText Summarizer\u001b[0m\n",
            "    \u001b[37m   Status: \u001b[0m\u001b[1;32m✅ Completed\u001b[0m\n",
            "    └── \u001b[1;32m🤖 Agent: \u001b[0m\u001b[32mText Summarizer\u001b[0m\n",
            "        \u001b[37m    Status: \u001b[0m\u001b[1;32m✅ Completed\u001b[0m\n",
            "\u001b[32m╭─\u001b[0m\u001b[32m─────────────────────────────\u001b[0m\u001b[32m Task Completion \u001b[0m\u001b[32m──────────────────────────────\u001b[0m\u001b[32m─╮\u001b[0m\n",
            "\u001b[32m│\u001b[0m                                                                              \u001b[32m│\u001b[0m\n",
            "\u001b[32m│\u001b[0m  \u001b[1;32mTask Completed\u001b[0m                                                              \u001b[32m│\u001b[0m\n",
            "\u001b[32m│\u001b[0m  \u001b[37mName: \u001b[0m\u001b[32me331c46b-c7e9-44c2-8d8b-8507e1ead593\u001b[0m                                  \u001b[32m│\u001b[0m\n",
            "\u001b[32m│\u001b[0m  \u001b[37mAgent: \u001b[0m\u001b[32mText Summarizer\u001b[0m                                                      \u001b[32m│\u001b[0m\n",
            "\u001b[32m│\u001b[0m                                                                              \u001b[32m│\u001b[0m\n",
            "\u001b[32m│\u001b[0m                                                                              \u001b[32m│\u001b[0m\n",
            "\u001b[32m╰──────────────────────────────────────────────────────────────────────────────╯\u001b[0m\n",
            "\n",
            "\u001b[1;36m🚀 Crew: \u001b[0m\u001b[1;36mcrew\u001b[0m\n",
            "├── \u001b[1;32m📋 Task: 0587e000-d059-4ef0-babe-1e06002c0dd4\u001b[0m\n",
            "│   \u001b[37m   Assigned to: \u001b[0m\u001b[32mText Summarizer\u001b[0m\n",
            "│   \u001b[37m   Status: \u001b[0m\u001b[1;32m✅ Completed\u001b[0m\n",
            "│   └── \u001b[1;32m🤖 Agent: \u001b[0m\u001b[32mText Summarizer\u001b[0m\n",
            "│       \u001b[37m    Status: \u001b[0m\u001b[1;32m✅ Completed\u001b[0m\n",
            "├── \u001b[1;32m📋 Task: e331c46b-c7e9-44c2-8d8b-8507e1ead593\u001b[0m\n",
            "│   \u001b[37m   Assigned to: \u001b[0m\u001b[32mText Summarizer\u001b[0m\n",
            "│   \u001b[37m   Status: \u001b[0m\u001b[1;32m✅ Completed\u001b[0m\n",
            "│   └── \u001b[1;32m🤖 Agent: \u001b[0m\u001b[32mText Summarizer\u001b[0m\n",
            "│       \u001b[37m    Status: \u001b[0m\u001b[1;32m✅ Completed\u001b[0m\n",
            "└── \u001b[1;33m📋 Task: de919397-70c6-49b7-a311-80f1001d1ecc\u001b[0m\n",
            "    \u001b[37m   Status: \u001b[0m\u001b[2;33mExecuting Task...\u001b[0m\n",
            "\n",
            "\u001b[1;36m🚀 Crew: \u001b[0m\u001b[1;36mcrew\u001b[0m\n",
            "├── \u001b[1;32m📋 Task: 0587e000-d059-4ef0-babe-1e06002c0dd4\u001b[0m\n",
            "│   \u001b[37m   Assigned to: \u001b[0m\u001b[32mText Summarizer\u001b[0m\n",
            "│   \u001b[37m   Status: \u001b[0m\u001b[1;32m✅ Completed\u001b[0m\n",
            "│   └── \u001b[1;32m🤖 Agent: \u001b[0m\u001b[32mText Summarizer\u001b[0m\n",
            "│       \u001b[37m    Status: \u001b[0m\u001b[1;32m✅ Completed\u001b[0m\n",
            "├── \u001b[1;32m📋 Task: e331c46b-c7e9-44c2-8d8b-8507e1ead593\u001b[0m\n",
            "│   \u001b[37m   Assigned to: \u001b[0m\u001b[32mText Summarizer\u001b[0m\n",
            "│   \u001b[37m   Status: \u001b[0m\u001b[1;32m✅ Completed\u001b[0m\n",
            "│   └── \u001b[1;32m🤖 Agent: \u001b[0m\u001b[32mText Summarizer\u001b[0m\n",
            "│       \u001b[37m    Status: \u001b[0m\u001b[1;32m✅ Completed\u001b[0m\n",
            "└── \u001b[1;33m📋 Task: de919397-70c6-49b7-a311-80f1001d1ecc\u001b[0m\n",
            "    \u001b[37m   Status: \u001b[0m\u001b[2;33mExecuting Task...\u001b[0m\n",
            "    └── \u001b[1;32m🤖 Agent: \u001b[0m\u001b[32mSummary Consolidator\u001b[0m\n",
            "        \u001b[37m    Status: \u001b[0m\u001b[1;32mIn Progress\u001b[0m\n",
            "\n",
            "\u001b[1m\u001b[95m# Agent:\u001b[00m \u001b[1m\u001b[92mSummary Consolidator\u001b[00m\n",
            "\u001b[95m## Task:\u001b[00m \u001b[92mCreate a comprehensive summary of all the previous summaries, including their sources\u001b[00m\n",
            "\n",
            "\n",
            "\u001b[1m\u001b[95m# Agent:\u001b[00m \u001b[1m\u001b[92mSummary Consolidator\u001b[00m\n",
            "\u001b[95m## Final Answer:\u001b[00m \u001b[92m\n",
            "In his recent addresses, Pope León XIV has articulated key themes reflecting the Church's mission and the role of education within society. On May 16, 2025, during his address to the diplomatic corps accredited to the Holy See, the Pope expressed deep gratitude to Ambassador George Poulides and acknowledged the support he received following his election. He placed emphasis on viewing the diplomatic community as a familial unit representing various peoples' diversity. He identified three foundational pillars of his ministry: peace as an active commitment, justice addressing global inequalities and upholding human dignity, and truth, which fosters genuine international relationships. The Pope urged collaboration among nations to tackle critical contemporary issues, including migration and environmental protection, calling for a collective effort to create a hopeful future, particularly for those in suffering (Source: Al Cuerpo Diplomático, 16 de mayo de 2025).\n",
            "\n",
            "In a different address on May 15, 2025, Pope León XIV welcomed the brothers of the Christian Schools, commemorating the 300th anniversary of the papal bull that approved their institute and the 75th anniversary of St. John Baptist de La Salle as the patron saint of educators. He highlighted the necessity of adapting educational methods to meet contemporary challenges, strongly advocating for free and inclusive education as well as the nurturing of creativity and community within teaching practices. The Pope underscored the vital role of educators within the Church's mission, recognizing the invaluable contributions of religious educators in the spiritual and faith development of students. He encouraged the promotion of vocations to the Lasallian religious life and concluded with expressions of gratitude for their contributions and bestowed his apostolic blessing upon the Lasallian community (Source: A los Hermanos de las Escuelas Cristianas, 15 de mayo de 2025).\u001b[00m\n",
            "\n",
            "\n",
            "\u001b[1;36m🚀 Crew: \u001b[0m\u001b[1;36mcrew\u001b[0m\n",
            "├── \u001b[1;32m📋 Task: 0587e000-d059-4ef0-babe-1e06002c0dd4\u001b[0m\n",
            "│   \u001b[37m   Assigned to: \u001b[0m\u001b[32mText Summarizer\u001b[0m\n",
            "│   \u001b[37m   Status: \u001b[0m\u001b[1;32m✅ Completed\u001b[0m\n",
            "│   └── \u001b[1;32m🤖 Agent: \u001b[0m\u001b[32mText Summarizer\u001b[0m\n",
            "│       \u001b[37m    Status: \u001b[0m\u001b[1;32m✅ Completed\u001b[0m\n",
            "├── \u001b[1;32m📋 Task: e331c46b-c7e9-44c2-8d8b-8507e1ead593\u001b[0m\n",
            "│   \u001b[37m   Assigned to: \u001b[0m\u001b[32mText Summarizer\u001b[0m\n",
            "│   \u001b[37m   Status: \u001b[0m\u001b[1;32m✅ Completed\u001b[0m\n",
            "│   └── \u001b[1;32m🤖 Agent: \u001b[0m\u001b[32mText Summarizer\u001b[0m\n",
            "│       \u001b[37m    Status: \u001b[0m\u001b[1;32m✅ Completed\u001b[0m\n",
            "└── \u001b[1;33m📋 Task: de919397-70c6-49b7-a311-80f1001d1ecc\u001b[0m\n",
            "    \u001b[37m   Status: \u001b[0m\u001b[2;33mExecuting Task...\u001b[0m\n",
            "    └── \u001b[1;32m🤖 Agent: \u001b[0m\u001b[32mSummary Consolidator\u001b[0m\n",
            "        \u001b[37m    Status: \u001b[0m\u001b[1;32m✅ Completed\u001b[0m\n",
            "\n",
            "\u001b[1;36m🚀 Crew: \u001b[0m\u001b[1;36mcrew\u001b[0m\n",
            "├── \u001b[1;32m📋 Task: 0587e000-d059-4ef0-babe-1e06002c0dd4\u001b[0m\n",
            "│   \u001b[37m   Assigned to: \u001b[0m\u001b[32mText Summarizer\u001b[0m\n",
            "│   \u001b[37m   Status: \u001b[0m\u001b[1;32m✅ Completed\u001b[0m\n",
            "│   └── \u001b[1;32m🤖 Agent: \u001b[0m\u001b[32mText Summarizer\u001b[0m\n",
            "│       \u001b[37m    Status: \u001b[0m\u001b[1;32m✅ Completed\u001b[0m\n",
            "├── \u001b[1;32m📋 Task: e331c46b-c7e9-44c2-8d8b-8507e1ead593\u001b[0m\n",
            "│   \u001b[37m   Assigned to: \u001b[0m\u001b[32mText Summarizer\u001b[0m\n",
            "│   \u001b[37m   Status: \u001b[0m\u001b[1;32m✅ Completed\u001b[0m\n",
            "│   └── \u001b[1;32m🤖 Agent: \u001b[0m\u001b[32mText Summarizer\u001b[0m\n",
            "│       \u001b[37m    Status: \u001b[0m\u001b[1;32m✅ Completed\u001b[0m\n",
            "└── \u001b[1;32m📋 Task: de919397-70c6-49b7-a311-80f1001d1ecc\u001b[0m\n",
            "    \u001b[37m   Assigned to: \u001b[0m\u001b[32mSummary Consolidator\u001b[0m\n",
            "    \u001b[37m   Status: \u001b[0m\u001b[1;32m✅ Completed\u001b[0m\n",
            "    └── \u001b[1;32m🤖 Agent: \u001b[0m\u001b[32mSummary Consolidator\u001b[0m\n",
            "        \u001b[37m    Status: \u001b[0m\u001b[1;32m✅ Completed\u001b[0m\n",
            "\u001b[32m╭─\u001b[0m\u001b[32m─────────────────────────────\u001b[0m\u001b[32m Task Completion \u001b[0m\u001b[32m──────────────────────────────\u001b[0m\u001b[32m─╮\u001b[0m\n",
            "\u001b[32m│\u001b[0m                                                                              \u001b[32m│\u001b[0m\n",
            "\u001b[32m│\u001b[0m  \u001b[1;32mTask Completed\u001b[0m                                                              \u001b[32m│\u001b[0m\n",
            "\u001b[32m│\u001b[0m  \u001b[37mName: \u001b[0m\u001b[32mde919397-70c6-49b7-a311-80f1001d1ecc\u001b[0m                                  \u001b[32m│\u001b[0m\n",
            "\u001b[32m│\u001b[0m  \u001b[37mAgent: \u001b[0m\u001b[32mSummary Consolidator\u001b[0m                                                 \u001b[32m│\u001b[0m\n",
            "\u001b[32m│\u001b[0m                                                                              \u001b[32m│\u001b[0m\n",
            "\u001b[32m│\u001b[0m                                                                              \u001b[32m│\u001b[0m\n",
            "\u001b[32m╰──────────────────────────────────────────────────────────────────────────────╯\u001b[0m\n",
            "\n",
            "\u001b[32m╭─\u001b[0m\u001b[32m─────────────────────────────\u001b[0m\u001b[32m Crew Completion \u001b[0m\u001b[32m──────────────────────────────\u001b[0m\u001b[32m─╮\u001b[0m\n",
            "\u001b[32m│\u001b[0m                                                                              \u001b[32m│\u001b[0m\n",
            "\u001b[32m│\u001b[0m  \u001b[1;32mCrew Execution Completed\u001b[0m                                                    \u001b[32m│\u001b[0m\n",
            "\u001b[32m│\u001b[0m  \u001b[37mName: \u001b[0m\u001b[32mcrew\u001b[0m                                                                  \u001b[32m│\u001b[0m\n",
            "\u001b[32m│\u001b[0m  \u001b[37mID: \u001b[0m\u001b[32mc0be0261-cc23-4fd3-b889-d88162a9091c\u001b[0m                                    \u001b[32m│\u001b[0m\n",
            "\u001b[32m│\u001b[0m                                                                              \u001b[32m│\u001b[0m\n",
            "\u001b[32m│\u001b[0m                                                                              \u001b[32m│\u001b[0m\n",
            "\u001b[32m╰──────────────────────────────────────────────────────────────────────────────╯\u001b[0m\n",
            "\n"
          ]
        },
        {
          "data": {
            "text/plain": [
              "CrewOutput(raw=\"In his recent addresses, Pope León XIV has articulated key themes reflecting the Church's mission and the role of education within society. On May 16, 2025, during his address to the diplomatic corps accredited to the Holy See, the Pope expressed deep gratitude to Ambassador George Poulides and acknowledged the support he received following his election. He placed emphasis on viewing the diplomatic community as a familial unit representing various peoples' diversity. He identified three foundational pillars of his ministry: peace as an active commitment, justice addressing global inequalities and upholding human dignity, and truth, which fosters genuine international relationships. The Pope urged collaboration among nations to tackle critical contemporary issues, including migration and environmental protection, calling for a collective effort to create a hopeful future, particularly for those in suffering (Source: Al Cuerpo Diplomático, 16 de mayo de 2025).\\n\\nIn a different address on May 15, 2025, Pope León XIV welcomed the brothers of the Christian Schools, commemorating the 300th anniversary of the papal bull that approved their institute and the 75th anniversary of St. John Baptist de La Salle as the patron saint of educators. He highlighted the necessity of adapting educational methods to meet contemporary challenges, strongly advocating for free and inclusive education as well as the nurturing of creativity and community within teaching practices. The Pope underscored the vital role of educators within the Church's mission, recognizing the invaluable contributions of religious educators in the spiritual and faith development of students. He encouraged the promotion of vocations to the Lasallian religious life and concluded with expressions of gratitude for their contributions and bestowed his apostolic blessing upon the Lasallian community (Source: A los Hermanos de las Escuelas Cristianas, 15 de mayo de 2025).\", pydantic=None, json_dict=None, tasks_output=[TaskOutput(description='Create a summary of the following text: AUDIENCIA AL CUERPO DIPLOMÁTICO ACREDITADO ANTE LA SANTA SEDE\\nDISCURSO DEL SANTO PADRE LEÓN XIV\\nSala Clementina Viernes, 16 de mayo de 2025\\n[ Multimedia ]\\n___________________________________\\nEminencia, Excelencias, señoras y señores, la paz esté con ustedes:\\nDoy gracias a S.E. el Sr. George Poulides, Embajador de la República de Chipre y Decano del Cuerpo Diplomático, por las cordiales palabras que me ha dirigido en nombre de todos ustedes y por su trabajo incansable, que lleva adelante con la fuerza, la pasión y la simpatía que lo caracterizan, dotes por los que ha merecido la estima de todos mis Predecesores, que ha conocido en estos años de misión ante la Santa Sede y, en particular, del recordado Papa Francisco.\\nDeseo además expresarles mi gratitud por los numerosos mensajes de felicitación enviados luego de mi elección, así como por las precedentes condolencias que han llegado al fallecer el Papa Francisco , incluso de países con los que la Santa Sede no mantiene relaciones diplomáticas. Se trata de una significativa manifestación de estima, que alienta a profundizar las mutuas relaciones.\\nEn nuestro diálogo, quisiera que predominase siempre el sentido de ser familia —la comunidad diplomática representa, en efecto, la entera familia de los pueblos—, que comparte las alegrías y los dolores de la vida junto con los valores humanos y espirituales que la animan. La diplomacia pontificia es, de hecho, una expresión de la misma catolicidad de la Iglesia y, en su acción diplomática, la Santa Sede está animada por una urgencia pastoral que la impulsa no a buscar privilegios sino a intensificar su misión evangélica al servicio de la humanidad. Ésta combate la indiferencia y apela continuamente a las conciencias, como ha hecho incansablemente mi venerado Predecesor, siempre atento al clamor de los pobres, los necesitados y los marginados, como también a los desafíos que caracterizan nuestro tiempo, desde la protección de la creación hasta la inteligencia artificial.\\nAdemás de ser un signo concreto de la atención que sus países reservan a la Sede Apostólica, su presencia hoy es para mí un don, que permite renovar la aspiración de la Iglesia —y mía personal— de alcanzar y abrazar a cada pueblo y a cada persona de esta tierra, deseosa y necesitada de verdad, de justicia y de paz. En cierto sentido, mi propia experiencia de vida, desplegada entre América del Norte, América del Sur y Europa, pone de manifiesto esta aspiración de traspasar los confines para encontrarse con personas y culturas diferentes.\\nPor medio del constante y paciente trabajo de la Secretaría de Estado, intento consolidar el conocimiento y el diálogo con ustedes y con sus países, muchos de los cuales he tenido ya la gracia de visitar a lo largo de mi vida, especialmente cuando fui Prior General de los Agustinos. Confío en que la Divina Providencia me conceda tener en el futuro ocasión de encontrarme con las realidades de las que ustedes provienen, permitiéndome acoger las oportunidades que se presenten para confirmar en la fe a tantos hermanos y hermanas dispersos por el mundo y construir nuevos puentes con todas las personas de buena voluntad.\\nEn nuestro diálogo, quisiera que tuviéramos presente las tres palabras clave que constituyen los pilares de la acción misionera de la Iglesia y de la labor de la diplomacia de la Santa Sede.\\nLa primera palabra es paz . Muchas veces la consideramos una palabra “negativa”, o sea, como mera ausencia de guerra o de conflicto, porque la contraposición es parte de la naturaleza humana y nos acompaña siempre, impulsándonos en demasiadas ocasiones a vivir en un constante “estado de conflicto”; en casa, en el trabajo, en la sociedad. La paz entonces pareciera una simple tregua, una pausa de descanso entre una discordia y otra, porque, aunque uno se esfuerce, las tensiones están siempre presentes, un poco como las brasas que arden bajo las cenizas, prontas a reavivarse en cualquier momento.\\nEn la perspectiva cristiana —como también en la de otras experiencias religiosas— la paz es ante todo un don, el primer don de Cristo: «Les doy mi paz» ( Jn 14,27). Pero es un don activo, apasionante, que nos afecta y compromete a cada uno de nosotros, independientemente de la procedencia cultural y de la pertenencia religiosa, y que exige en primer lugar un trabajo sobre uno mismo. La paz se construye en el corazón y a partir del corazón, arrancando el orgullo y las reivindicaciones, y midiendo el lenguaje, porque también se puede herir y matar con las palabras, no sólo con las armas.\\nEn esta óptica, considero fundamental el aporte que las religiones y el diálogo interreligioso pueden brindar para favorecer contextos de paz. Eso, naturalmente, exige el pleno respeto de la libertad religiosa en cada país, porque la experiencia religiosa es una dimensión fundamental de la persona humana, sin la cual es difícil —si no imposible— realizar esa purificación del corazón necesaria para construir relaciones de paz.\\nA partir de este trabajo, que todos estamos llamados a realizar, se pueden extirpar las premisas de cualquier conflicto y de cualquier destructiva voluntad de conquista. Esto exige también una sincera voluntad de diálogo, animada por el deseo de encontrarse más que de confrontarse. En esta perspectiva es necesario revitalizar la diplomacia multilateral y esas instituciones internacionales que han sido queridas y pensadas en primer lugar para poner remedio a los conflictos que pudiesen surgir en el seno de la comunidad internacional. Ciertamente, es necesaria también la voluntad de dejar de producir instrumentos de destrucción y de muerte, porque, como recordaba el Papa Francisco en su último Mensaje Urbi et Orbi , «la paz tampoco es posible sin un verdadero desarme [ y] la exigencia que cada pueblo tiene de proveer a su propia defensa no puede transformarse en una carrera general al rearme» [1] .\\nLa segunda palabra es justicia . Procurar la paz exige practicar la justicia. Como ya he tenido modo de señalar, he elegido mi nombre pensando principalmente en León XIII , el Papa de la primera gran encíclica social, la Rerum novarum . En el cambio de época que estamos viviendo, la Santa Sede no puede eximirse de hacer sentir su propia voz ante los numerosos desequilibrios y las injusticias que conducen, entre otras cosas, a condiciones indignas de trabajo y a sociedades cada vez más fragmentadas y conflictivas. Es necesario, además, esforzarse por remediar las desigualdades globales, que trazan surcos profundos de opulencia e indigencia entre continentes, países e, incluso, dentro de las mismas sociedades.\\nEs tarea de quien tiene responsabilidad de gobierno aplicarse para construir sociedades civiles armónicas y pacíficas. Esto puede realizarse sobre todo invirtiendo en la familia, fundada sobre la unión estable entre el hombre y la mujer, «bien pequeña, es cierto, pero verdadera sociedad y más antigua que cualquiera otra» [2] . Además, nadie puede eximirse de favorecer contextos en los que se tutele la dignidad de cada persona, especialmente de aquellas más frágiles e indefensas, desde el niño por nacer hasta el anciano, desde el enfermo al desocupado, sean estos ciudadanos o inmigrantes.\\nMi propia historia es la de un ciudadano, descendiente de inmigrantes, que a su vez ha emigrado. Cada uno de nosotros, en el curso de la vida, se puede encontrar sano o enfermo, ocupado o desocupado, en su patria o en tierra extranjera. Su dignidad, sin embargo, es siempre la misma, la de una creatura querida y amada por Dios.\\nLa tercera palabra es verdad . No se pueden construir relaciones verdaderamente pacíficas, incluso dentro de la comunidad internacional, sin verdad. Allí donde las palabras asumen connotaciones ambiguas y ambivalentes, y el mundo virtual, con su percepción distorsionada de la realidad, prevalece sin control; es difícil construir relaciones auténticas, porque decaen las premisas objetivas y reales de la comunicación.\\nPor su parte, la Iglesia no puede nunca eximirse de decir la verdad sobre el hombre y sobre el mundo, recurriendo a lo que sea necesario, incluso a un lenguaje franco, que inicialmente puede suscitar alguna incomprensión. La verdad, sin embargo, no se separa nunca de la caridad, que siempre tiene radicada la preocupación por la vida y el bien de cada hombre y mujer. Por otra parte, en la perspectiva cristiana, la verdad no es la afirmación de principios abstractos y desencarnados, sino el encuentro con la persona misma de Cristo, que vive en la comunidad de los creyentes. De ese modo, la verdad no nos aleja; por el contrario, nos permite afrontar con mayor vigor los desafíos de nuestro tiempo, como las migraciones, el uso ético de la inteligencia artificial y la protección de nuestra amada tierra. Son desafíos que requieren el compromiso y la colaboración de todos, porque nadie puede pensar en afrontarlos solo.\\nQueridos embajadores:\\nMi ministerio comienza en el corazón del Año jubilar, dedicado de manera particular a la esperanza. Es un tiempo de conversión y de renovación, y sobre todo la ocasión para dejar atrás las contiendas y comenzar un camino nuevo, animados por la esperanza de poder construir, trabajando juntos, cada uno según sus propias sensibilidades y responsabilidades, un mundo en el que cada uno de nosotros pueda realizar la propia humanidad en la verdad, en la justicia y en la paz. Espero que esto pueda suceder en todos los contextos, empezando por los más que más sufren, como Ucrania y Tierra Santa.\\nLes agradezco todo el trabajo que hacen para construir puentes entre sus países y la Santa Sede, y de todo corazón los bendigo, bendigo a sus familias y a sus pueblos. Gracias.\\n[Bendición]\\nY gracias por todo el trabajo que hacen.\\n________________________________\\n[1] Mensaje «Urbi et Orbi» (20 abril 2025).\\n[2] León XIII, Carta enc. Rerum novarum (15 mayo 1891), 9.. Source: Al Cuerpo Diplomático (16 de mayo de 2025)', name=None, expected_output='A concise summary of the provided text with its source', summary='Create a summary of the following text: AUDIENCIA AL CUERPO...', raw='In his address to the diplomatic corps accredited to the Holy See on May 16, 2025, Pope León XIV expresses gratitude to Ambassador George Poulides and acknowledges the support and condolences received after his election. He emphasizes the importance of viewing the diplomatic community as a family representing the diversity of peoples and underscores the mission of the Church to promote peace, justice, and truth. The Pope identifies three key pillars of his ministry: peace, which is an active gift requiring personal commitment; justice, which addresses global inequalities and the dignity of every person; and truth, which is essential for authentic relationships within the international community. He calls for a collective effort to confront contemporary challenges such as migration and environmental protection, fostering dialogue and cooperation. The Pope concludes by urging collaboration towards a hopeful future, especially for those who suffer.  \\nSource: Al Cuerpo Diplomático (16 de mayo de 2025)', pydantic=None, json_dict=None, agent='Text Summarizer', output_format=<OutputFormat.RAW: 'raw'>), TaskOutput(description='Create a summary of the following text: DISCURSO DEL SANTO PADRE LEÓN XIV A LOS HERMANOS DE LAS ESCUELAS CRISTIANAS\\nJueves, 15 de mayo de 2025\\n[ Multimedia ]\\n___________________________________\\nEn el nombre del Padre, del Hijo y del Espíritu Santo, ¡la paz esté con ustedes!\\nEminencia,\\nqueridos hermanos y hermanas, ¡bienvenidos!\\nMe alegra mucho recibirlos en el tercer centenario de la promulgación de la bula In apostolicae dignitatis solio , con la que el Papa Benedicto XIII aprobó su Instituto y su Regla (26 de enero de 1725). Coincide también con el 75º aniversario de la proclamación, por parte del Papa Pío XII , de San Juan Bautista de La Salle como «Patrono celestial de todos los educadores» (cf. Lett. Ap. Quod ait , 15 de mayo de 1950: AAS 12, 1950, 631-632).\\nDespués de tres siglos, es hermoso constatar cómo su presencia sigue trayendo consigo la frescura de una rica y vasta realidad educativa, con la que aún hoy, en diversas partes del mundo, con entusiasmo, fidelidad y espíritu de sacrificio, se dedican a la formación de los jóvenes.\\nPrecisamente a la luz de estas conmemoraciones, quisiera detenerme a reflexionar con ustedes sobre dos aspectos de su historia que considero importantes para todos nosotros: la atención a la actualidad y la dimensión ministerial y misionera de la enseñanza en la comunidad.\\nLos inicios de su obra hablan mucho de «actualidad». San Juan Bautista de La Salle comenzó respondiendo a la petición de ayuda de un laico, Adriano Nyel, que luchaba por mantener en pie sus «escuelas para pobres». Su fundador reconoció en su petición de ayuda una señal de Dios, aceptó el reto y se puso manos a la obra. Así, más allá de sus propias intenciones y expectativas, dio vida a un nuevo sistema de enseñanza: el de las Escuelas Cristianas , gratuitas y abiertas a todos. Entre los elementos innovadores que introdujo en esta revolución pedagógica, recordamos la enseñanza dirigida a las clases y no a los alumnos individuales; la adopción, como lengua de enseñanza, en lugar del latín, del francés, accesible a todos; las clases dominicales, a las que también podían asistir los jóvenes obligados a trabajar entre semana; la participación de las familias en los itinerarios escolares, según el principio del «triángulo educativo», válido aún hoy. Así, los problemas, a medida que se presentaban, en lugar de desanimarlo, lo estimulaban a buscar respuestas creativas y a adentrarse en caminos nuevos y a menudo inexplorados.\\nTodo esto no puede sino hacernos pensar y suscitar en nosotros preguntas útiles. ¿Cuáles son, en el mundo juvenil de nuestros días, los retos más urgentes que hay que afrontar? ¿Qué valores hay que promover? ¿Con qué recursos se puede contar?\\nLos jóvenes de nuestro tiempo, como los de todas las épocas, son volcanes de vida, de energía, de sentimientos, de ideas. Lo vemos en las cosas maravillosas que saben hacer en tantos campos. Pero también necesitan ayuda para hacer crecer en armonía tanta riqueza y para superar lo que, aunque de manera diferente al pasado, todavía puede impedir su sano desarrollo.\\nSi, por ejemplo, en el siglo XVII el uso de la lengua latina era para muchos una barrera comunicativa insuperable, hoy hay otros obstáculos que afrontar. Pensemos en el aislamiento que provocan los modelos relacionales cada vez más extendidos, basados en la superficialidad, el individualismo y la inestabilidad afectiva; en la difusión de esquemas de pensamiento debilitados por el relativismo; en el predominio de ritmos y estilos de vida en los que no hay suficiente espacio para la escucha, la reflexión y el diálogo, en la escuela, en la familia, a veces entre los propios compañeros, con la soledad que ello conlleva.\\nSe trata de retos exigentes, de los que, sin embargo, también nosotros, como San Juan Bautista de La Salle, podemos hacer trampolines para explorar caminos, elaborar instrumentos y adoptar lenguajes nuevos, con los que seguir tocando el corazón de los alumnos, animándolos y estimulándolos a afrontar con valentía todos los obstáculos para dar lo mejor de sí mismos en la vida, según los designios de Dios. En este sentido, es loable la atención que prestan en sus escuelas a la formación de los docentes y a la creación de comunidades educativas en las que el esfuerzo didáctico se enriquece con la aportación de todos. Los animo a continuar por este camino.\\nPero antes de concluir, quisiera mencionar otro aspecto de la realidad lasaliana que considero importante: la docencia vivida como ministerio y misión , como consagración en la Iglesia. San Juan Bautista de La Salle no quería que entre los maestros de las Escuelas Cristianas hubiera sacerdotes, sino solo «hermanos», para que todos sus esfuerzos se dirigieran, con la ayuda de Dios, a la educación de los alumnos. Le gustaba decir: «Su altar es la cátedra», promoviendo así en la Iglesia de su tiempo una realidad hasta entonces desconocida: la de los maestros y catequistas laicos investidos, en la comunidad, de un verdadero «ministerio», según el principio de evangelizar educando y educar evangelizando (cf. Francisco, Discurso a los participantes en el Capítulo General de los Hermanos de las Escuelas Cristianas , 21 de mayo de 2022).\\nAsí, el carisma de la escuela, que ustedes abrazan con el cuarto voto de la enseñanza, además de un servicio a la sociedad y una valiosa obra de caridad, aparece aún hoy como una de las expresiones más bellas y elocuentes de ese munus sacerdotal, profético y real que todos hemos recibido en el Bautismo, como subrayan los documentos del Concilio Vaticano II . En sus realidades educativas, así, los religiosos hacen proféticamente visible, a través de su consagración, el ministerio bautismal que impulsa a todos (cf. Const. dogm. Lumen gentium, 44 ), cada uno según su estado y sus tareas, sin diferencias, a «contribuir como miembros vivos […] al crecimiento de la Iglesia y a su santificación permanente» ( ibídem , 33 ).\\nPor este motivo, deseo que las vocaciones a la consagración religiosa lasaliana crezcan, sean alentadas y promovidas, en sus escuelas y fuera de ellas, y que, en sinergia con todos los demás componentes formativos, contribuyan a suscitar entre los jóvenes que las frecuentan caminos alegres y fecundos de santidad.\\n¡Gracias por lo que hacen! Rezo por ustedes y les imparto la Bendición Apostólica, que de muy buen grado extiendo a toda la Familia Lasaliana. _______________________________________ Boletín de la Oficina de Prensa de la Santa Sede , 15 de mayo de 2025. Source: A los Hermanos de las Escuelas Cristianas (15 de mayo de 2025)', name=None, expected_output='A concise summary of the provided text with its source', summary='Create a summary of the following text: DISCURSO DEL SANTO...', raw='In his address to the brothers of the Christian Schools on May 15, 2025, Pope León XIV welcomes them, celebrating the 300th anniversary of the papal bull approving their institute and the 75th anniversary of St. John Baptist de La Salle being named the patron saint of educators. He reflects on the significance of adapting educational practices to contemporary challenges, advocating for free and inclusive education, and emphasizing the importance of fostering creativity and community in teaching. The Pope highlights the role of educators as a ministry and mission within the Church, valuing the contribution of religious educators in nurturing the faith and spiritual growth of students. He encourages the promotion of vocations to the Lasallian religious life and concludes by expressing gratitude for their work and imparting his apostolic blessing to the Lasallian family.  \\nSource: A los Hermanos de las Escuelas Cristianas (15 de mayo de 2025)', pydantic=None, json_dict=None, agent='Text Summarizer', output_format=<OutputFormat.RAW: 'raw'>), TaskOutput(description='Create a comprehensive summary of all the previous summaries, including their sources', name=None, expected_output='A consolidated summary with source attributions', summary='Create a comprehensive summary of all the previous summaries, including...', raw=\"In his recent addresses, Pope León XIV has articulated key themes reflecting the Church's mission and the role of education within society. On May 16, 2025, during his address to the diplomatic corps accredited to the Holy See, the Pope expressed deep gratitude to Ambassador George Poulides and acknowledged the support he received following his election. He placed emphasis on viewing the diplomatic community as a familial unit representing various peoples' diversity. He identified three foundational pillars of his ministry: peace as an active commitment, justice addressing global inequalities and upholding human dignity, and truth, which fosters genuine international relationships. The Pope urged collaboration among nations to tackle critical contemporary issues, including migration and environmental protection, calling for a collective effort to create a hopeful future, particularly for those in suffering (Source: Al Cuerpo Diplomático, 16 de mayo de 2025).\\n\\nIn a different address on May 15, 2025, Pope León XIV welcomed the brothers of the Christian Schools, commemorating the 300th anniversary of the papal bull that approved their institute and the 75th anniversary of St. John Baptist de La Salle as the patron saint of educators. He highlighted the necessity of adapting educational methods to meet contemporary challenges, strongly advocating for free and inclusive education as well as the nurturing of creativity and community within teaching practices. The Pope underscored the vital role of educators within the Church's mission, recognizing the invaluable contributions of religious educators in the spiritual and faith development of students. He encouraged the promotion of vocations to the Lasallian religious life and concluded with expressions of gratitude for their contributions and bestowed his apostolic blessing upon the Lasallian community (Source: A los Hermanos de las Escuelas Cristianas, 15 de mayo de 2025).\", pydantic=None, json_dict=None, agent='Summary Consolidator', output_format=<OutputFormat.RAW: 'raw'>)], token_usage=UsageMetrics(total_tokens=11462, prompt_tokens=9828, cached_prompt_tokens=5632, completion_tokens=1634, successful_requests=6))"
            ]
          },
          "execution_count": 115,
          "metadata": {},
          "output_type": "execute_result"
        }
      ],
      "source": [
        "crew_summary.kickoff()"
      ]
    },
    {
      "cell_type": "code",
      "execution_count": null,
      "metadata": {},
      "outputs": [],
      "source": []
    }
  ],
  "metadata": {
    "colab": {
      "provenance": []
    },
    "kernelspec": {
      "display_name": "Python 3",
      "language": "python",
      "name": "python3"
    },
    "language_info": {
      "codemirror_mode": {
        "name": "ipython",
        "version": 3
      },
      "file_extension": ".py",
      "mimetype": "text/x-python",
      "name": "python",
      "nbconvert_exporter": "python",
      "pygments_lexer": "ipython3",
      "version": "3.12.11"
    }
  },
  "nbformat": 4,
  "nbformat_minor": 0
}
