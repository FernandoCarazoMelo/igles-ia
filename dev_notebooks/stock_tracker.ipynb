{
 "cells": [
  {
   "cell_type": "code",
   "execution_count": 1,
   "metadata": {},
   "outputs": [
    {
     "ename": "ModuleNotFoundError",
     "evalue": "No module named 'yfinance'",
     "output_type": "error",
     "traceback": [
      "\u001b[31m---------------------------------------------------------------------------\u001b[39m",
      "\u001b[31mModuleNotFoundError\u001b[39m                       Traceback (most recent call last)",
      "\u001b[36mCell\u001b[39m\u001b[36m \u001b[39m\u001b[32mIn[1]\u001b[39m\u001b[32m, line 1\u001b[39m\n\u001b[32m----> \u001b[39m\u001b[32m1\u001b[39m \u001b[38;5;28;01mimport\u001b[39;00m\u001b[38;5;250m \u001b[39m\u001b[34;01myfinance\u001b[39;00m\u001b[38;5;250m \u001b[39m\u001b[38;5;28;01mas\u001b[39;00m\u001b[38;5;250m \u001b[39m\u001b[34;01myf\u001b[39;00m\n\u001b[32m      2\u001b[39m \u001b[38;5;28;01mdef\u001b[39;00m\u001b[38;5;250m \u001b[39m\u001b[34mget_stock_data\u001b[39m(symbol, period=\u001b[33m\"\u001b[39m\u001b[33m1y\u001b[39m\u001b[33m\"\u001b[39m):\n\u001b[32m      3\u001b[39m     \u001b[38;5;66;03m# Download stock data using yfinance\u001b[39;00m\n\u001b[32m      4\u001b[39m     data = yf.download(symbol, period=period)\n",
      "\u001b[31mModuleNotFoundError\u001b[39m: No module named 'yfinance'"
     ]
    }
   ],
   "source": [
    "import yfinance as yf\n",
    "def get_stock_data(symbol, period=\"1y\"):\n",
    "    # Download stock data using yfinance\n",
    "    data = yf.download(symbol, period=period)\n",
    "    return data"
   ]
  },
  {
   "cell_type": "code",
   "execution_count": null,
   "metadata": {},
   "outputs": [],
   "source": [
    "import yfinance as yf\n",
    "import pandas as pd\n",
    "from datetime import datetime, timedelta\n",
    "\n",
    "# List of tickers to track\n",
    "tickers = [\"AAPL\", \"TSLA\", \"MSFT\", \"NVDA\"]\n",
    "\n",
    "# Date range: enough to cover at least 3 trading days + margin\n",
    "end_date = datetime.today()\n",
    "start_date = end_date - timedelta(days=10)\n",
    "\n",
    "# Store alerts\n",
    "alerts = []\n",
    "\n",
    "for ticker in tickers:\n",
    "    # Download historical data\n",
    "    df = yf.download(ticker, start=start_date, end=end_date)\n",
    "    \n",
    "    if df.empty:\n",
    "        continue  # Skip if no data\n",
    "\n",
    "    df = df[['Adj Close']].copy()\n",
    "    # Calculate 3-day percentage change\n",
    "    df['pct_change_3d'] = df['Adj Close'].pct_change(periods=3) * 100\n",
    "\n",
    "    # Check if any of the last 3 entries had a drop of 20% or more\n",
    "    recent = df.tail(3)\n",
    "    if (recent['pct_change_3d'] <= -20).any():\n",
    "        alerts.append({\n",
    "            'ticker': ticker,\n",
    "            'date': recent.index[-1].date(),\n",
    "            'change_%': round(recent['pct_change_3d'].iloc[-1], 2)\n",
    "        })\n",
    "\n",
    "# Export to CSV\n",
    "report = pd.DataFrame(alerts)\n",
    "report.to_csv(\"drop_alerts.csv\", index=False)\n",
    "\n",
    "# Print results\n",
    "print(report)\n"
   ]
  }
 ],
 "metadata": {
  "kernelspec": {
   "display_name": ".venv",
   "language": "python",
   "name": "python3"
  },
  "language_info": {
   "codemirror_mode": {
    "name": "ipython",
    "version": 3
   },
   "file_extension": ".py",
   "mimetype": "text/x-python",
   "name": "python",
   "nbconvert_exporter": "python",
   "pygments_lexer": "ipython3",
   "version": "3.12.9"
  }
 },
 "nbformat": 4,
 "nbformat_minor": 2
}
