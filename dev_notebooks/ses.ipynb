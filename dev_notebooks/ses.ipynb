{
 "cells": [
  {
   "cell_type": "code",
   "execution_count": 2,
   "id": "e105ddda",
   "metadata": {},
   "outputs": [
    {
     "data": {
      "text/plain": [
       "True"
      ]
     },
     "execution_count": 2,
     "metadata": {},
     "output_type": "execute_result"
    }
   ],
   "source": [
    "import boto3\n",
    "import os\n",
    "from dotenv import load_dotenv\n",
    "\n",
    "load_dotenv()"
   ]
  },
  {
   "cell_type": "code",
   "execution_count": 4,
   "id": "e1b271ad",
   "metadata": {},
   "outputs": [],
   "source": [
    "ses_client = boto3.client(\n",
    "    'ses',\n",
    "    region_name=os.getenv('AWS_REGION'),\n",
    "    aws_access_key_id=os.getenv('AWS_ACCESS_KEY_ID'),\n",
    "    aws_secret_access_key=os.getenv('AWS_SECRET_ACCESS_KEY')\n",
    ")"
   ]
  },
  {
   "cell_type": "code",
   "execution_count": null,
   "id": "112db3b2",
   "metadata": {},
   "outputs": [],
   "source": [
    "from premailer import transform # <-- 1. IMPORTAR PREMAILER\n",
    "user_name = \"Fernando\"\n",
    "html_template = f\"\"\"\n",
    "<!DOCTYPE html>\n",
    "<html lang=\"es\">\n",
    "<head>\n",
    "    <meta charset=\"UTF-8\">\n",
    "    <style>\n",
    "        body {{ font-family: Arial, sans-serif; margin: 0; padding: 0; background-color: #f4f7f6; }}\n",
    "        .container {{ max-width: 600px; margin: 20px auto; background-color: #ffffff; border: 1px solid #e0e0e0; border-radius: 12px; overflow: hidden; }}\n",
    "        .header {{ background-color: #003366; color: white; padding: 30px; text-align: center; }}\n",
    "        .header h1 {{ margin: 0; font-family: 'Montserrat', sans-serif; font-size: 28px; }}\n",
    "        .content {{ padding: 30px; color: #333; line-height: 1.7; font-size: 16px; }}\n",
    "        .content a {{ color: #003366; font-weight: bold; text-decoration: none; }}\n",
    "        .cta-section {{ text-align: center; padding: 20px 30px; background-color: #f9f9f9; border-top: 1px solid #eee; }}\n",
    "        .button {{ display: inline-block; background-color: #d35400; color: white !important; padding: 12px 25px; border-radius: 50px; font-weight: bold; text-decoration: none; font-size: 16px; }}\n",
    "        .footer {{ text-align: center; padding: 20px; font-size: 12px; color: #888; }}\n",
    "    </style>\n",
    "</head>\n",
    "<body>\n",
    "    <div class=\"container\">\n",
    "        <div class=\"header\"><h1>¡Bienvenido a bordo de ✨igles-IA!</h1></div>\n",
    "        <div class=\"content\">\n",
    "            <p>Hola {user_name},</p>\n",
    "            <p>Tu suscripción se ha completado con éxito. ¡Estamos muy contentos de que formes parte de nuestra comunidad!</p>\n",
    "            <p>Desde el próximo lunes, recibirás en tu correo el resumen semanal con las enseñanzas del Papa León XIV.</p>\n",
    "        </div>\n",
    "        <div class=\"cta-section\">\n",
    "            <p>¿No puedes esperar? Echa un vistazo al último resumen publicado:</p>\n",
    "            <a href=\"https://igles-ia.es/resumenes\" class=\"button\">Leer el último resumen</a>\n",
    "        </div>\n",
    "        <div class=\"footer\">\n",
    "            <p>Conoce nuestro proyecto: https://igles-ia.es/sobre-nosotros.<br>\n",
    "            <p>Recibes este correo porque te has suscrito en igles-ia.es.<br>\n",
    "            También puedes explorar nuestro <a href=\"https://igles-ia.es/resumenes.html\">archivo histórico</a>.</p>\n",
    "        </div>\n",
    "    </div>\n",
    "</body>\n",
    "</html>\n",
    "\"\"\"\n",
    "\n",
    "# --- 2. LA MAGIA OCURRE AQUÍ ---\n",
    "# Premailer coge tu HTML y CSS y los combina en un HTML con estilos en línea\n",
    "html_inlined = transform(html_template)"
   ]
  },
  {
   "cell_type": "code",
   "execution_count": 23,
   "id": "51b54842",
   "metadata": {},
   "outputs": [
    {
     "data": {
      "text/plain": [
       "{'MessageId': '01020197cb8700ac-d2a6bba5-4df1-4f04-9c44-fc8522084bee-000000',\n",
       " 'ResponseMetadata': {'RequestId': '73ef229e-fa8d-4311-ab5c-6f55f46a5779',\n",
       "  'HTTPStatusCode': 200,\n",
       "  'HTTPHeaders': {'date': 'Wed, 02 Jul 2025 14:25:11 GMT',\n",
       "   'content-type': 'text/xml',\n",
       "   'content-length': '326',\n",
       "   'connection': 'keep-alive',\n",
       "   'x-amzn-requestid': '73ef229e-fa8d-4311-ab5c-6f55f46a5779'},\n",
       "  'RetryAttempts': 0}}"
      ]
     },
     "execution_count": 23,
     "metadata": {},
     "output_type": "execute_result"
    }
   ],
   "source": [
    "FROM_EMAIL = 'igles-IA@igles-ia.es' # Tu email verificado en SES\n",
    "\n",
    "\n",
    "\n",
    "ses_client.send_email(\n",
    "    Source=f\"Igles-IA <{FROM_EMAIL}>\",\n",
    "    Destination={\n",
    "        'ToAddresses': [\"igles.ia.newsletter@gmail.com\"],\n",
    "    },\n",
    "    Message={\n",
    "        'Subject': {\n",
    "            'Data': \"✨Igles-IA | León XIV: Newsletter semanal de discursos y homilias.\"\n",
    "        },\n",
    "        'Body': {\n",
    "            'Html': {\n",
    "                'Data': html_inlined\n",
    "            }\n",
    "        }\n",
    "    }\n",
    ")"
   ]
  },
  {
   "cell_type": "code",
   "execution_count": null,
   "id": "bd7bc1a2",
   "metadata": {},
   "outputs": [],
   "source": [
    "import boto3\n",
    "import os\n",
    "\n",
    "# Inicializar el cliente de SES (servicio de email de AWS)\n",
    "ses_client = boto3.client('ses', region_name=os.environ['AWS_REGION'])\n",
    "FROM_EMAIL = 'igles-IA@igles-ia.es' # Tu email verificado en SES\n",
    "\n",
    "def lambda_handler(event, context):\n",
    "    # Extraer los datos del usuario del \"evento\" que envía Cognito\n",
    "    user_email = event['request']['userAttributes']['email']\n",
    "    user_name = event['request']['userAttributes'].get('name', 'amigo/a') # Coge el nombre, o usa un fallback\n",
    "\n",
    "    # Definir el contenido del email\n",
    "    subject = \"¡Bienvenido a bordo de Igles-IA!\"\n",
    "    body_html = f\"\"\"\n",
    "        <html>\n",
    "        <body>\n",
    "            <h1>¡Hola {user_name}, te damos la bienvenida a Igles-IA!</h1>\n",
    "            <p>Tu suscripción se ha completado con éxito. A partir del próximo lunes, recibirás en tu correo ({user_email}) el resumen semanal con las enseñanzas del Papa León XIV.</p>\n",
    "            <p>Mientras tanto, puedes explorar nuestro <a href=\"https://igles-ia.es/resumenes.html\">archivo de resúmenes anteriores</a>.</p>\n",
    "            <p>¡Que Dios te bendiga!</p>\n",
    "        </body>\n",
    "        </html>\n",
    "    \"\"\"\n",
    "\n",
    "    # Enviar el email usando SES\n",
    "    try:\n",
    "        response = ses_client.send_email(\n",
    "            Source=FROM_EMAIL,\n",
    "            Destination={'ToAddresses': [user_email]},\n",
    "            Message={\n",
    "                'Subject': {'Data': subject},\n",
    "                'Body': {'Html': {'Data': body_html}}\n",
    "            }\n",
    "        )\n",
    "        print(f\"Email de bienvenida enviado a {user_email}. Message ID: {response['MessageId']}\")\n",
    "    except Exception as e:\n",
    "        print(f\"Error al enviar email a {user_email}: {e}\")\n",
    "\n",
    "    # Es importante devolver el objeto 'event' a Cognito\n",
    "    return event"
   ]
  },
  {
   "cell_type": "code",
   "execution_count": 3,
   "id": "72428d1d",
   "metadata": {},
   "outputs": [
    {
     "ename": "SyntaxError",
     "evalue": "incomplete input (2765329122.py, line 29)",
     "output_type": "error",
     "traceback": [
      "  \u001b[36mCell\u001b[39m\u001b[36m \u001b[39m\u001b[32mIn[3]\u001b[39m\u001b[32m, line 29\u001b[39m\n\u001b[31m    \u001b[39m\n    ^\n\u001b[31mSyntaxError\u001b[39m\u001b[31m:\u001b[39m incomplete input\n"
     ]
    }
   ],
   "source": [
    "# SES\n",
    "def send_email(to_address, subject, body):\n",
    "    ses_client = boto3.client(\n",
    "        'ses',\n",
    "        region_name=os.getenv('AWS_REGION'),\n",
    "        aws_access_key_id=os.getenv('AWS_ACCESS_KEY_ID'),\n",
    "        aws_secret_access_key=os.getenv('AWS_SECRET_ACCESS_KEY')\n",
    "    )\n",
    "\n",
    "    response = ses_client.send_email(\n",
    "        Source=os.getenv('SES_SOURCE_EMAIL'),\n",
    "        Destination={\n",
    "            'ToAddresses': [to_address]\n",
    "        },\n",
    "        Message={\n",
    "            'Subject': {\n",
    "                'Data': subject,\n",
    "                'Charset': 'UTF-8'\n",
    "            },\n",
    "            'Body': {\n",
    "                'Text': {\n",
    "                    'Data': body,\n",
    "                    'Charset': 'UTF-8'\n",
    "                }\n",
    "            }\n",
    "\n",
    "        }\n",
    "\n",
    "        "
   ]
  },
  {
   "cell_type": "code",
   "execution_count": null,
   "id": "4244b436",
   "metadata": {},
   "outputs": [],
   "source": []
  }
 ],
 "metadata": {
  "kernelspec": {
   "display_name": ".venv",
   "language": "python",
   "name": "python3"
  },
  "language_info": {
   "codemirror_mode": {
    "name": "ipython",
    "version": 3
   },
   "file_extension": ".py",
   "mimetype": "text/x-python",
   "name": "python",
   "nbconvert_exporter": "python",
   "pygments_lexer": "ipython3",
   "version": "3.12.11"
  }
 },
 "nbformat": 4,
 "nbformat_minor": 5
}
