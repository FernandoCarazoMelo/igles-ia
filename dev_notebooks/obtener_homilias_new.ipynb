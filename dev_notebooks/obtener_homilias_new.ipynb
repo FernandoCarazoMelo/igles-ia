{
 "cells": [
  {
   "cell_type": "code",
   "execution_count": null,
   "id": "e1c9b2d6",
   "metadata": {},
   "outputs": [],
   "source": [
    "from datetime import datetime, timedelta\n",
    "from crewai import LLM\n",
    "import re\n",
    "import json\n",
    "import pandas as pd\n",
    "from tqdm import tqdm\n",
    "from iglesia.utils import extraer_homilia\n",
    "from iglesia.clean_text import extract_clean_text\n",
    "from iglesia.audio_utils import calculate_pontificate_week\n",
    "\n",
    "llm_client = LLM(model=\"gpt-4.1-nano\")\n",
    "\n",
    "def generar_metadatos_episodio_new(texto_limpio, episodio_info, llm_client):\n",
    "    \"\"\"\n",
    "    Usa un LLM para generar un título dinámico y una descripción para un episodio.\n",
    "    \"\"\"\n",
    "    print(\"🎙️  Generando título y descripción con IA...\")\n",
    "    try:\n",
    "        fecha_dt = datetime.strptime(episodio_info[\"fecha\"], \"%Y-%m-%d\")\n",
    "        fecha_simple = fecha_dt.strftime(\"%d/%m\")\n",
    "        numero_formateado = episodio_info[\"numero_episodio\"]\n",
    "\n",
    "        prompt = f\"\"\"\n",
    "        Eres un experto en comunicación para podcasts religiosos. Todo el texto que generes debe de estar en el idioma: {episodio_info[\"lang\"]}\n",
    "        Basado en el siguiente texto, genera un título y una descripción optimizados para Spotify.\n",
    "        El formato de salida DEBE ser un JSON válido con las claves \"titulo_spotify\", \"descripcion_spotify\", \"titulo_youtube\", \"mensaje_instagram\", \"frases_seleccionadas\".\n",
    "        REGLAS DEL TÍTULO SPOTIFY:\n",
    "        - El formato exacto debe ser: \"{numero_formateado} {episodio_info[\"tipo\"]} {fecha_simple} | [TITULO ORIGINAL resumido] | [Tema principal en 3-5 palabras]\", si es de tipo \"Angelus\" no incluyas el [TITULO ORIGINAL resumido] (solo tendrá dos partes).\n",
    "        - El [TITULO ORIGINAL resumido] tienes que generarlo únicamente con el título original << {episodio_info[\"titulo\"]}>>. no incluyas la fecha en esta parte.\n",
    "        REGLAS DE LA DESCRIPCIÓN:\n",
    "        - Debe ser un párrafo de 2-4 frases que resuma el mensaje central del Papa León XIV. Empieza diciendo en este/a {episodio_info[\"tipo\"]} el Papa León XIV... Termina diciendo \\n\\n'Podcast creado por igles-ia.es'\n",
    "        REGLAS DEL TÍTULO youtube:\n",
    "        - El [TITULO ORIGINAL resumido] tienes que generarlo únicamente con el contenido << {episodio_info[\"texto_limpio\"][:1000]}>>.\n",
    "        - Debe de ser un título clickbait y evergreen.\n",
    "        MENSAJE DE INSTAGRAM\n",
    "        - Un mensaje presentando el resumen de la intervención para instagram. Puede usar algunos emojis.\n",
    "        FRASES SELECCIONADAS\n",
    "        _ Una lista con 2 o 3 frases LITERALES DEL PAPA. Tienen que ser frases LITERALES DEL TEXTO, no vale que el Papa lea o cite otro texto como el evangelio.\n",
    "        ----\n",
    "        TEXTO DEL DOCUMENTO (aunque el prompt esté en español, todo el texto que generes debe de estar en el idioma original: {episodio_info[\"lang\"]}):\n",
    "        ---\n",
    "        {texto_limpio[:4000]}\n",
    "        ---\n",
    "        \"\"\"\n",
    "        respuesta_llm = llm_client.call(prompt)\n",
    "        json_match = re.search(r\"\\{.*\\}\", respuesta_llm, re.DOTALL)\n",
    "        if not json_match:\n",
    "            raise ValueError(\"La respuesta del LLM no contenía un JSON válido.\")\n",
    "\n",
    "        metadata = json.loads(json_match.group(0))\n",
    "        print(f\"  -> Título generado: {metadata['titulo_spotify']}\")\n",
    "        print(f\"{metadata[\"titulo_youtube\"]}\")\n",
    "        return metadata\n",
    "\n",
    "    except Exception as e:\n",
    "        print(\n",
    "            f\"❌ Error al generar metadatos con LLM: {e}. Se usarán valores por defecto.\"\n",
    "        )\n",
    "        return {\n",
    "            \"titulo_spotify\": f\"[{episodio_info['numero_episodio']}] {episodio_info['tipo']} del {episodio_info['fecha']}\",\n",
    "            \"descripcion_spotify\": texto_limpio[:250] + \"...\",\n",
    "        }\n",
    "\n",
    "\n",
    "homilias = pd.read_csv(\"../vatican-archiver/documents/links/all_links.csv\")\n",
    "homilias = homilias[(homilias[\"pope\"] == \"leo-xiv\")]\n",
    "types_list = pd.read_csv(\"../assets/types_list.csv\").set_index(\"type\") # type, tipo\n",
    "homilias[\"tipo\"] = homilias[\"type\"].map(types_list[\"tipo\"])\n",
    "homilias = homilias.rename(columns={\"title_human\":\"titulo\", \"link\":\"url\"})\n",
    "homilias = homilias[:10]\n",
    "\n",
    "all_homilias = []\n",
    "\n",
    "for i, row in tqdm(homilias.iterrows()):\n",
    "    homilias_df = extraer_homilia(row)\n",
    "    # Añadir el tipo de homilía al DataFrame\n",
    "    all_homilias.append(homilias_df)\n",
    "\n",
    "all_homilias = pd.DataFrame(all_homilias)\n",
    "all_homilias = pd.concat([homilias.reset_index(), all_homilias[\"texto\"]], axis=1)\n",
    "\n",
    "all_homilias[\"texto_limpio\"] = all_homilias[\"texto\"].apply(extract_clean_text)\n",
    "all_homilias[\"pontificate_week\"] = all_homilias[\"date\"].apply(calculate_pontificate_week)\n",
    "all_homilias[\"texto_limpio_len\"] = all_homilias[\"texto_limpio\"].str.len()\n",
    "all_homilias[\"fecha\"] = all_homilias[\"date\"]\n",
    "\n",
    "all_homilias[\"date\"] = pd.to_datetime(all_homilias[\"date\"])\n",
    "\n",
    "# Ordenamos los datos por idioma, semana y fecha\n",
    "all_homilias = all_homilias.sort_values([\"lang\", \"pontificate_week\", \"date\"])\n",
    "\n",
    "# Calculamos el número secuencial dentro de cada idioma y semana\n",
    "all_homilias[\"week_order\"] = (\n",
    "    all_homilias.groupby([\"lang\", \"pontificate_week\"]).cumcount() + 1\n",
    ")\n",
    "\n",
    "# Creamos la etiqueta final del episodio, por ejemplo \"1.1\", \"1.2\", etc.\n",
    "all_homilias[\"numero_episodio\"] = (\n",
    "    all_homilias[\"pontificate_week\"].astype(str)\n",
    "    + \".\"\n",
    "    + all_homilias[\"week_order\"].astype(str)\n",
    ")\n",
    "\n",
    "all_homilias[\"date\"] = all_homilias[\"date\"].dt.strftime(\"%Y-%m-%d\")\n",
    "all_homilias[\"fecha\"] = all_homilias[\"date\"]\n",
    "\n",
    "metadata = all_homilias.apply(lambda row: generar_metadatos_episodio_new(row[\"texto_limpio\"], row, llm_client), axis=1)\n",
    "\n",
    "all_homilias[[\"titulo_spotify\", \"descripcion_spotify\", \"titulo_youtube\", \"mensaje_instagram\", \"frases_seleccionadas\"]] = pd.DataFrame(metadata.to_list())\n"
   ]
  },
  {
   "cell_type": "code",
   "execution_count": 97,
   "id": "6ccc8d1b",
   "metadata": {},
   "outputs": [
    {
     "data": {
      "text/plain": [
       "'Peace be with you all!\\nDear brothers and sisters, these are the first words spoken by the risen Christ, the Good Shepherd who laid down his life for God’s flock. I would like this greeting of peace to resound in your hearts, in your families, among all people, wherever they may be, in every nation and throughout the world. Peace be with you!\\nIt is the peace of the risen Christ. A peace that is unarmed and disarming, humble and persevering. A peace that comes from God, the God who loves us all, unconditionally.\\nWe can still hear the faint yet ever courageous voice of Pope Francis as he blessed Rome, the Pope who blessed Rome, who gave his blessing to the world, the whole world, on the morning of Easter. Allow me to extend that same blessing: God loves us, God loves you all, and evil will not prevail! All of us are in God’s hands. So, let us move forward, without fear, together, hand in hand with God and with one another other! We are followers of Christ. Christ goes before us. The world needs his light. Humanity needs him as the bridge that can lead us to God and his love. Help us, one and all, to build bridges through dialogue and encounter, joining together as one people, always at peace. Thank you, Pope Francis!\\nI also thank my brother Cardinals, who have chosen me to be the Successor of Peter and to walk together with you as a Church, united, ever pursuing peace and justice, ever seeking to act as men and women faithful to Jesus Christ, in order to proclaim the Gospel without fear, to be missionaries.\\nI am an Augustinian, a son of Saint Augustine, who once said, “With you I am a Christian, and for you I am a bishop.” In this sense, all of us can journey together toward the homeland that God has prepared for us.\\nA special greeting to the Church of Rome! Together, we must look for ways to be a missionary Church, a Church that builds bridges and encourages dialogue, a Church ever open to welcoming, like this Square with its open arms, all those who are in need of our charity, our presence, our readiness to dialogue and our love.\\n \\nY si me permiten también una palabra, un saludo a todos y en modo particular a mi querida diócesis de Chiclayo, en el Perú, donde un pueblo fiel ha acompañado a su obispo, ha compartido su fe y ha dado tanto, tanto, para seguir siendo Iglesia fiel de Jesucristo.\\n \\nAnd if you also allow me a brief word, a greeting to everyone and in particular to my beloved Diocese of Chiclayo, in Peru, where a faithful people has accompanied its Bishop, shared its faith and given so much, so much, to continue being a faithful Church of Jesus Christ.\\nTo all of you, brothers and sisters in Rome, in Italy, throughout the world: we want to be a synodal Church, a Church that moves forward, a Church that always seeks peace, that always seeks charity, that always seeks to be close above all to those who are suffering.\\nToday is the day of the Prayer of Supplication to Our Lady of Pompeii. Our Mother Mary always wants to walk at our side, to remain close to us, to help us with her intercession and her love. So I would like to pray together with you. Let us pray together for this new mission, for the whole Church, for peace in the world, and let us ask Mary, our Mother, for this special grace: Hail Mary...\\n[Solemn blessing]'"
      ]
     },
     "execution_count": 97,
     "metadata": {},
     "output_type": "execute_result"
    }
   ],
   "source": [
    "all_homilias[\"texto_limpio\"][0][:5000]"
   ]
  },
  {
   "cell_type": "code",
   "execution_count": 103,
   "id": "c2412275",
   "metadata": {},
   "outputs": [],
   "source": [
    "all_homilias.to_json(\"tmp.json\", orient=\"records\", force_ascii=False)"
   ]
  },
  {
   "cell_type": "code",
   "execution_count": null,
   "id": "f4498f92",
   "metadata": {},
   "outputs": [],
   "source": []
  },
  {
   "cell_type": "code",
   "execution_count": null,
   "id": "b7f01373",
   "metadata": {},
   "outputs": [],
   "source": []
  },
  {
   "cell_type": "code",
   "execution_count": null,
   "id": "afdd8a45",
   "metadata": {},
   "outputs": [],
   "source": []
  },
  {
   "cell_type": "code",
   "execution_count": null,
   "id": "62e74787",
   "metadata": {},
   "outputs": [],
   "source": []
  },
  {
   "cell_type": "code",
   "execution_count": null,
   "id": "e6356ad4",
   "metadata": {},
   "outputs": [],
   "source": []
  },
  {
   "cell_type": "code",
   "execution_count": null,
   "id": "61db566a",
   "metadata": {},
   "outputs": [],
   "source": []
  }
 ],
 "metadata": {
  "kernelspec": {
   "display_name": "iglesia",
   "language": "python",
   "name": "python3"
  },
  "language_info": {
   "codemirror_mode": {
    "name": "ipython",
    "version": 3
   },
   "file_extension": ".py",
   "mimetype": "text/x-python",
   "name": "python",
   "nbconvert_exporter": "python",
   "pygments_lexer": "ipython3",
   "version": "3.12.11"
  }
 },
 "nbformat": 4,
 "nbformat_minor": 5
}
