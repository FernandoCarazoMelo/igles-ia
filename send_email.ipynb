{
 "cells": [
  {
   "cell_type": "code",
   "execution_count": null,
   "metadata": {},
   "outputs": [
    {
     "name": "stdout",
     "output_type": "stream",
     "text": [
      "Correo enviado a fernando.carazom@gmail.com\n"
     ]
    }
   ],
   "source": [
    "import smtplib\n",
    "import os\n",
    "import pandas as pd\n",
    "from email.message import EmailMessage\n",
    "from email.utils import formataddr\n",
    "from dotenv import load_dotenv\n",
    "\n",
    "\n",
    "# Cargar variables de entorno\n",
    "load_dotenv()\n",
    "EMAIL_USER = os.getenv(\"EMAIL_USER\")\n",
    "EMAIL_PASS = os.getenv(\"EMAIL_PASS\")\n",
    "SUMMARIES_FOLDER = os.getenv(\"SUMMARIES_FOLDER\")\n",
    "\n",
    "# Cargar HTML como plantilla\n",
    "with open(\"plantilla.html\", \"r\", encoding=\"utf-8\") as f:\n",
    "    html_template = f.read()\n",
    "\n",
    "# Leer destinatarios\n",
    "df = pd.read_csv(\"emails.csv\")  # columnas: email,nombre\n",
    "\n",
    "# Función para crear el correo\n",
    "def crear_mensaje(destinatario, nombre, fecha_resumen=\"2025-05-19\"):\n",
    "    msg = EmailMessage()\n",
    "    msg[\"Subject\"] = f\"Resumen semanal de los documentos del Papa León XIV - {fecha_resumen}\"\n",
    "    msg[\"From\"] = formataddr((\"Igles_IA\", EMAIL_USER))\n",
    "    msg[\"To\"] = destinatario\n",
    "    # read txt\n",
    "    with open(f\"{SUMMARIES_FOLDER}/{fecha_resumen}/resumen_semanal_igles-ia.txt\", \"r\", encoding=\"utf-8\") as f:\n",
    "        body = f.read()\n",
    "    # Reemplazar el nombre en la plantilla\n",
    "    html_con_nombre = html_template.replace(\"{{nombre}}\", nombre)\n",
    "    html_con_nombre = html_template.replace(\"{{body}}\", body)\n",
    "\n",
    "    # Agregar contenido HTML\n",
    "    msg.add_alternative(html_con_nombre, subtype=\"html\")\n",
    "\n",
    "    # # Adjuntar el archivo CSV\n",
    "    # with open(\"emails.csv\", \"rb\") as f:\n",
    "    #     msg.add_attachment(f.read(), maintype=\"application\", subtype=\"octet-stream\", filename=\"archivo.csv\")\n",
    "\n",
    "    return msg\n",
    "\n",
    "# Enviar correos\n",
    "with smtplib.SMTP_SSL(\"smtp.gmail.com\", 465) as smtp:\n",
    "    smtp.login(EMAIL_USER, EMAIL_PASS)\n",
    "    for _, row in df.iterrows():\n",
    "        correo = row[\"email\"]\n",
    "        nombre = row.get(\"nombre\", \"amigo\")\n",
    "        msg = crear_mensaje(correo, nombre)\n",
    "        smtp.send_message(msg)\n",
    "        print(f\"Correo enviado a {correo}\")\n"
   ]
  },
  {
   "cell_type": "code",
   "execution_count": 4,
   "metadata": {},
   "outputs": [
    {
     "data": {
      "text/plain": [
       "'iglesia.catolica.ia@gmail.com'"
      ]
     },
     "execution_count": 4,
     "metadata": {},
     "output_type": "execute_result"
    }
   ],
   "source": [
    "EMAIL_USER"
   ]
  },
  {
   "cell_type": "code",
   "execution_count": null,
   "metadata": {},
   "outputs": [],
   "source": []
  }
 ],
 "metadata": {
  "kernelspec": {
   "display_name": ".venv",
   "language": "python",
   "name": "python3"
  },
  "language_info": {
   "codemirror_mode": {
    "name": "ipython",
    "version": 3
   },
   "file_extension": ".py",
   "mimetype": "text/x-python",
   "name": "python",
   "nbconvert_exporter": "python",
   "pygments_lexer": "ipython3",
   "version": "3.12.9"
  }
 },
 "nbformat": 4,
 "nbformat_minor": 2
}
